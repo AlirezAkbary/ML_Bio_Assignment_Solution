{
 "cells": [
  {
   "cell_type": "markdown",
   "metadata": {
    "colab_type": "text",
    "id": "efrE1Lc0Otrq"
   },
   "source": [
    "# **Machine Learning in Bioinformatics**"
   ]
  },
  {
   "cell_type": "markdown",
   "metadata": {
    "colab_type": "text",
    "id": "GtzvENmYOtxi"
   },
   "source": [
    "**Homework 3:**<br/>\n",
    "!!! If you don't fill these fields, your homework does not count !!!<br/>\n",
    "first name and last name :Alireza Akbari<br/>\n",
    "student number : 95105379"
   ]
  },
  {
   "cell_type": "markdown",
   "metadata": {
    "colab_type": "text",
    "id": "KG3vb72VOt4G"
   },
   "source": [
    "You can run cells by hitting `Shift` + `Enter` or `ctrl` + `Enter`.<br/>\n",
    "We highly recommend you to read each line of code carefully and try to \n",
    "understand what it exactly does.<br/>\n",
    "Just alter the parts that is between green comments and specified for you. <br/>\n",
    "Please do not change other parts."
   ]
  },
  {
   "cell_type": "code",
   "execution_count": 1,
   "metadata": {
    "ExecuteTime": {
     "end_time": "2020-04-27T17:19:17.590995Z",
     "start_time": "2020-04-27T17:19:16.169519Z"
    },
    "colab": {},
    "colab_type": "code",
    "id": "v0dotHjRO5x_"
   },
   "outputs": [],
   "source": [
    "# importing libraries\n",
    "import pandas as pd\n",
    "import numpy as np\n",
    "import matplotlib.pyplot as plt\n",
    "from sklearn.model_selection import train_test_split\n",
    "import numpy as np\n",
    "from sklearn.datasets import load_breast_cancer \n",
    "from sklearn import preprocessing"
   ]
  },
  {
   "cell_type": "markdown",
   "metadata": {
    "colab_type": "text",
    "id": "_5C6lgUtO-bg"
   },
   "source": [
    "\n",
    "### about the Data:<br/>\n",
    "The purpose of this project is to classify tumors into malignant or benign. The following dataset is constructed based on images of tumors. Features are computed from a digitized image of a fine needle aspirate (FNA) of a breast mass.\n",
    "For more details about the features of this dataset you can visit this link:\n",
    "https://scikit-learn.org/stable/datasets/index.html#breast-cancer-dataset<br/>\n",
    "This dataset contains 30 features and 1 label called target.\n",
    "The original dataset labels are 0 and 1 and in the following code boxes we change it to -1 and 1."
   ]
  },
  {
   "cell_type": "code",
   "execution_count": 2,
   "metadata": {
    "ExecuteTime": {
     "end_time": "2020-04-27T17:19:22.489227Z",
     "start_time": "2020-04-27T17:19:22.417928Z"
    },
    "colab": {},
    "colab_type": "code",
    "id": "-7_g8ApcO7tm"
   },
   "outputs": [
    {
     "name": "stdout",
     "output_type": "stream",
     "text": [
      "(569, 31)\n"
     ]
    },
    {
     "data": {
      "text/html": [
       "<div>\n",
       "<style scoped>\n",
       "    .dataframe tbody tr th:only-of-type {\n",
       "        vertical-align: middle;\n",
       "    }\n",
       "\n",
       "    .dataframe tbody tr th {\n",
       "        vertical-align: top;\n",
       "    }\n",
       "\n",
       "    .dataframe thead th {\n",
       "        text-align: right;\n",
       "    }\n",
       "</style>\n",
       "<table border=\"1\" class=\"dataframe\">\n",
       "  <thead>\n",
       "    <tr style=\"text-align: right;\">\n",
       "      <th></th>\n",
       "      <th>mean radius</th>\n",
       "      <th>mean texture</th>\n",
       "      <th>mean perimeter</th>\n",
       "      <th>mean area</th>\n",
       "      <th>mean smoothness</th>\n",
       "      <th>mean compactness</th>\n",
       "      <th>mean concavity</th>\n",
       "      <th>mean concave points</th>\n",
       "      <th>mean symmetry</th>\n",
       "      <th>mean fractal dimension</th>\n",
       "      <th>...</th>\n",
       "      <th>worst texture</th>\n",
       "      <th>worst perimeter</th>\n",
       "      <th>worst area</th>\n",
       "      <th>worst smoothness</th>\n",
       "      <th>worst compactness</th>\n",
       "      <th>worst concavity</th>\n",
       "      <th>worst concave points</th>\n",
       "      <th>worst symmetry</th>\n",
       "      <th>worst fractal dimension</th>\n",
       "      <th>target</th>\n",
       "    </tr>\n",
       "  </thead>\n",
       "  <tbody>\n",
       "    <tr>\n",
       "      <th>0</th>\n",
       "      <td>17.99</td>\n",
       "      <td>10.38</td>\n",
       "      <td>122.80</td>\n",
       "      <td>1001.0</td>\n",
       "      <td>0.11840</td>\n",
       "      <td>0.27760</td>\n",
       "      <td>0.3001</td>\n",
       "      <td>0.14710</td>\n",
       "      <td>0.2419</td>\n",
       "      <td>0.07871</td>\n",
       "      <td>...</td>\n",
       "      <td>17.33</td>\n",
       "      <td>184.60</td>\n",
       "      <td>2019.0</td>\n",
       "      <td>0.1622</td>\n",
       "      <td>0.6656</td>\n",
       "      <td>0.7119</td>\n",
       "      <td>0.2654</td>\n",
       "      <td>0.4601</td>\n",
       "      <td>0.11890</td>\n",
       "      <td>0.0</td>\n",
       "    </tr>\n",
       "    <tr>\n",
       "      <th>1</th>\n",
       "      <td>20.57</td>\n",
       "      <td>17.77</td>\n",
       "      <td>132.90</td>\n",
       "      <td>1326.0</td>\n",
       "      <td>0.08474</td>\n",
       "      <td>0.07864</td>\n",
       "      <td>0.0869</td>\n",
       "      <td>0.07017</td>\n",
       "      <td>0.1812</td>\n",
       "      <td>0.05667</td>\n",
       "      <td>...</td>\n",
       "      <td>23.41</td>\n",
       "      <td>158.80</td>\n",
       "      <td>1956.0</td>\n",
       "      <td>0.1238</td>\n",
       "      <td>0.1866</td>\n",
       "      <td>0.2416</td>\n",
       "      <td>0.1860</td>\n",
       "      <td>0.2750</td>\n",
       "      <td>0.08902</td>\n",
       "      <td>0.0</td>\n",
       "    </tr>\n",
       "    <tr>\n",
       "      <th>2</th>\n",
       "      <td>19.69</td>\n",
       "      <td>21.25</td>\n",
       "      <td>130.00</td>\n",
       "      <td>1203.0</td>\n",
       "      <td>0.10960</td>\n",
       "      <td>0.15990</td>\n",
       "      <td>0.1974</td>\n",
       "      <td>0.12790</td>\n",
       "      <td>0.2069</td>\n",
       "      <td>0.05999</td>\n",
       "      <td>...</td>\n",
       "      <td>25.53</td>\n",
       "      <td>152.50</td>\n",
       "      <td>1709.0</td>\n",
       "      <td>0.1444</td>\n",
       "      <td>0.4245</td>\n",
       "      <td>0.4504</td>\n",
       "      <td>0.2430</td>\n",
       "      <td>0.3613</td>\n",
       "      <td>0.08758</td>\n",
       "      <td>0.0</td>\n",
       "    </tr>\n",
       "    <tr>\n",
       "      <th>3</th>\n",
       "      <td>11.42</td>\n",
       "      <td>20.38</td>\n",
       "      <td>77.58</td>\n",
       "      <td>386.1</td>\n",
       "      <td>0.14250</td>\n",
       "      <td>0.28390</td>\n",
       "      <td>0.2414</td>\n",
       "      <td>0.10520</td>\n",
       "      <td>0.2597</td>\n",
       "      <td>0.09744</td>\n",
       "      <td>...</td>\n",
       "      <td>26.50</td>\n",
       "      <td>98.87</td>\n",
       "      <td>567.7</td>\n",
       "      <td>0.2098</td>\n",
       "      <td>0.8663</td>\n",
       "      <td>0.6869</td>\n",
       "      <td>0.2575</td>\n",
       "      <td>0.6638</td>\n",
       "      <td>0.17300</td>\n",
       "      <td>0.0</td>\n",
       "    </tr>\n",
       "    <tr>\n",
       "      <th>4</th>\n",
       "      <td>20.29</td>\n",
       "      <td>14.34</td>\n",
       "      <td>135.10</td>\n",
       "      <td>1297.0</td>\n",
       "      <td>0.10030</td>\n",
       "      <td>0.13280</td>\n",
       "      <td>0.1980</td>\n",
       "      <td>0.10430</td>\n",
       "      <td>0.1809</td>\n",
       "      <td>0.05883</td>\n",
       "      <td>...</td>\n",
       "      <td>16.67</td>\n",
       "      <td>152.20</td>\n",
       "      <td>1575.0</td>\n",
       "      <td>0.1374</td>\n",
       "      <td>0.2050</td>\n",
       "      <td>0.4000</td>\n",
       "      <td>0.1625</td>\n",
       "      <td>0.2364</td>\n",
       "      <td>0.07678</td>\n",
       "      <td>0.0</td>\n",
       "    </tr>\n",
       "  </tbody>\n",
       "</table>\n",
       "<p>5 rows × 31 columns</p>\n",
       "</div>"
      ],
      "text/plain": [
       "   mean radius  mean texture  mean perimeter  mean area  mean smoothness  \\\n",
       "0        17.99         10.38          122.80     1001.0          0.11840   \n",
       "1        20.57         17.77          132.90     1326.0          0.08474   \n",
       "2        19.69         21.25          130.00     1203.0          0.10960   \n",
       "3        11.42         20.38           77.58      386.1          0.14250   \n",
       "4        20.29         14.34          135.10     1297.0          0.10030   \n",
       "\n",
       "   mean compactness  mean concavity  mean concave points  mean symmetry  \\\n",
       "0           0.27760          0.3001              0.14710         0.2419   \n",
       "1           0.07864          0.0869              0.07017         0.1812   \n",
       "2           0.15990          0.1974              0.12790         0.2069   \n",
       "3           0.28390          0.2414              0.10520         0.2597   \n",
       "4           0.13280          0.1980              0.10430         0.1809   \n",
       "\n",
       "   mean fractal dimension  ...  worst texture  worst perimeter  worst area  \\\n",
       "0                 0.07871  ...          17.33           184.60      2019.0   \n",
       "1                 0.05667  ...          23.41           158.80      1956.0   \n",
       "2                 0.05999  ...          25.53           152.50      1709.0   \n",
       "3                 0.09744  ...          26.50            98.87       567.7   \n",
       "4                 0.05883  ...          16.67           152.20      1575.0   \n",
       "\n",
       "   worst smoothness  worst compactness  worst concavity  worst concave points  \\\n",
       "0            0.1622             0.6656           0.7119                0.2654   \n",
       "1            0.1238             0.1866           0.2416                0.1860   \n",
       "2            0.1444             0.4245           0.4504                0.2430   \n",
       "3            0.2098             0.8663           0.6869                0.2575   \n",
       "4            0.1374             0.2050           0.4000                0.1625   \n",
       "\n",
       "   worst symmetry  worst fractal dimension  target  \n",
       "0          0.4601                  0.11890     0.0  \n",
       "1          0.2750                  0.08902     0.0  \n",
       "2          0.3613                  0.08758     0.0  \n",
       "3          0.6638                  0.17300     0.0  \n",
       "4          0.2364                  0.07678     0.0  \n",
       "\n",
       "[5 rows x 31 columns]"
      ]
     },
     "execution_count": 2,
     "metadata": {},
     "output_type": "execute_result"
    }
   ],
   "source": [
    "cancer = load_breast_cancer()  ## change if the data set changed\n",
    "df = pd.DataFrame(np.c_[cancer[\"data\"], cancer[\"target\"]], columns = np.append(cancer[\"feature_names\"],[\"target\"]))\n",
    "features = ['mean radius', 'mean texture', 'mean perimeter', 'mean area', 'mean smoothness', 'mean compactness', 'mean concavity', 'mean concave points', 'mean symmetry', 'mean fractal dimension', 'radius error', 'texture error', 'perimeter error', 'area error', 'smoothness error', 'compactness error', 'concavity error', 'concave points error', 'symmetry error', 'fractal dimension error', 'worst radius', 'worst texture', 'worst perimeter', 'worst area', 'worst smoothness', 'worst compactness', 'worst concavity', 'worst concave points', 'worst symmetry', 'worst fractal dimension']\n",
    "print(df.shape)\n",
    "df.head()"
   ]
  },
  {
   "cell_type": "code",
   "execution_count": 3,
   "metadata": {
    "ExecuteTime": {
     "end_time": "2020-04-27T17:19:26.831869Z",
     "start_time": "2020-04-27T17:19:26.807936Z"
    },
    "colab": {},
    "colab_type": "code",
    "id": "jmmK95OVPDyg"
   },
   "outputs": [
    {
     "name": "stdout",
     "output_type": "stream",
     "text": [
      "69.94727592267135 %\n",
      "69.94727592267135 %\n",
      "20.035149384885763 %\n",
      "20.035149384885763 %\n",
      "10.017574692442881 %\n",
      "10.017574692442881 %\n"
     ]
    }
   ],
   "source": [
    "cancer.target = np.where(cancer.target==0, -1, cancer.target)\n",
    "X_train ,X_test ,X_val ,y_train ,y_test ,y_val = None ,None ,None ,None ,None ,None\n",
    "################################################################################\n",
    "# TODO:                                                                        #\n",
    "# 1- Normalize tha data.                                                       #\n",
    "# 2- using train_test_split package, split your data into 3 numpy array        #\n",
    "# called X_train, X_test, and X_val and also split the corresponding labels as #\n",
    "# y_train, y_test, and y_val. After spliting, the ratio of your data should be # \n",
    "# approximately like this:                                                     #\n",
    "#  Train : 70%     test : 20%       validation : 10%                           #\n",
    "################################################################################\n",
    "normalizer = preprocessing.MinMaxScaler()\n",
    "normalized_data = normalizer.fit_transform(cancer.data)\n",
    "X_train, X_test, y_train, y_test = train_test_split(normalized_data, cancer.target, test_size=0.2, random_state=1)\n",
    "X_train, X_val, y_train, y_val = train_test_split(X_train, y_train, test_size=0.125, random_state=1)\n",
    "################################################################################\n",
    "#                                 END OF YOUR CODE                             #\n",
    "################################################################################\n",
    "print((X_train.shape[0]/cancer.data.shape[0]) * 100, \"%\")\n",
    "print((y_train.shape[0]/cancer.data.shape[0]) * 100, \"%\")\n",
    "print((X_test.shape[0]/cancer.data.shape[0]) * 100, \"%\")\n",
    "print((y_test.shape[0]/cancer.data.shape[0]) * 100, \"%\")\n",
    "print((X_val.shape[0]/cancer.data.shape[0]) * 100, \"%\")\n",
    "print((y_val.shape[0]/cancer.data.shape[0]) * 100, \"%\")"
   ]
  },
  {
   "cell_type": "markdown",
   "metadata": {
    "colab_type": "text",
    "id": "EZ3-Fm4uPIdf"
   },
   "source": [
    "# Ensemble Methods\n",
    "\n",
    "## Problem 1. Bagging (15 points)\n"
   ]
  },
  {
   "cell_type": "code",
   "execution_count": 5,
   "metadata": {
    "ExecuteTime": {
     "end_time": "2020-04-27T17:22:31.107213Z",
     "start_time": "2020-04-27T17:22:30.317305Z"
    },
    "colab": {},
    "colab_type": "code",
    "id": "ZzSuFIANPPRh"
   },
   "outputs": [
    {
     "name": "stdout",
     "output_type": "stream",
     "text": [
      "Number 0f Classifiers = 1, Validation Accuracy = 96.491228%\n",
      "Number 0f Classifiers = 3, Validation Accuracy = 98.245614%\n",
      "Number 0f Classifiers = 5, Validation Accuracy = 96.491228%\n",
      "Number 0f Classifiers = 10, Validation Accuracy = 100.000000%\n",
      "Number 0f Classifiers = 20, Validation Accuracy = 100.000000%\n",
      "Number 0f Classifiers = 50, Validation Accuracy = 100.000000%\n",
      "Number 0f Classifiers = 100, Validation Accuracy = 100.000000%\n"
     ]
    },
    {
     "data": {
      "image/png": "[encoded data removed]",
      "text/plain": [
       "<Figure size 432x288 with 1 Axes>"
      ]
     },
     "metadata": {
      "needs_background": "light"
     },
     "output_type": "display_data"
    },
    {
     "name": "stdout",
     "output_type": "stream",
     "text": [
      "Accuracy for test data:\n",
      "97.36842105263158\n"
     ]
    }
   ],
   "source": [
    "from sklearn import model_selection \n",
    "from sklearn.ensemble import BaggingClassifier \n",
    "import sklearn\n",
    "\n",
    "\n",
    "################################################################################\n",
    "# TODO : initialize the base classifier. You can choose one of the classifiers #\n",
    "# you have learned in this course.(SVM/Decision tree)                          #\n",
    "# IMPORTANT: if you are using SVM as base classifier don't forget to add column#\n",
    "# of '1' s for bias and be careful to use the right datset in next parts.      #\n",
    "################################################################################\n",
    "base_cls = sklearn.svm.SVC()\n",
    "# X_train = np.insert(X_train, 0, 1, axis=1)\n",
    "# X_val = np.insert(X_val, 0, 1, axis=1)\n",
    "# X_test = np.insert(X_test, 0, 1, axis=1)\n",
    "###I have read SKlearn documentation and it says that it handles '1's column for bias. So I commented them\n",
    "##################################################################################\n",
    "# TODO: Number of classifiers is a hyperparameter. Choose it by using validation #\n",
    "# data to have the best accuracy                                                 #\n",
    "# For different number of classifiers, train the model with training data and    #\n",
    "# compute accuracy for validation data. Plot accuracy-number of classifiers plot.#\n",
    "##################################################################################\n",
    "num_cls = [1, 3, 5, 10, 20, 50, 100]\n",
    "seed = 1\n",
    "val_acc_history = []\n",
    "best_model, best_acc = None, 0\n",
    "for num in num_cls:\n",
    "    model = BaggingClassifier(base_estimator = base_cls, \n",
    "                              n_estimators = num, \n",
    "                              random_state = seed)\n",
    "    model.fit(X_train,y_train)\n",
    "    y_val_predict = model.predict(X_val)\n",
    "    current_val_acc = np.mean(y_val == y_val_predict) * 100\n",
    "    val_acc_history.append(current_val_acc)\n",
    "    print('Number 0f Classifiers = %d, Validation Accuracy = %f%%'%(num, current_val_acc))\n",
    "    \n",
    "    if best_acc < current_val_acc:\n",
    "        best_acc = current_val_acc\n",
    "        best_model = model\n",
    "plt.plot(num_cls, val_acc_history, '-bo')\n",
    "plt.show()\n",
    "################################################################################\n",
    "# compute and report the accuracy for test data.                               #\n",
    "################################################################################\n",
    "y_test_predict = best_model.predict(X_test)\n",
    "print(\"Accuracy for test data:\")\n",
    "print(np.mean(y_test == y_test_predict)*100)\n"
   ]
  },
  {
   "cell_type": "markdown",
   "metadata": {
    "colab_type": "text",
    "id": "ELyA0acXgK2w"
   },
   "source": [
    "## Problem 2. Random Forest(25 points)</br>\n",
    "In this part, you should write your own code to classify the data, using random forest from sklearn package in python."
   ]
  },
  {
   "cell_type": "code",
   "execution_count": 8,
   "metadata": {
    "ExecuteTime": {
     "end_time": "2020-04-27T17:30:57.477420Z",
     "start_time": "2020-04-27T17:30:55.905049Z"
    },
    "colab": {},
    "colab_type": "code",
    "id": "JE4eKUybgQUb"
   },
   "outputs": [
    {
     "name": "stdout",
     "output_type": "stream",
     "text": [
      "Number of trees = 1\n",
      "Maximum Depth of Trees = 1, Validation Accuracy = 92.982456%\n",
      "Maximum Depth of Trees = 3, Validation Accuracy = 98.245614%\n",
      "Maximum Depth of Trees = 5, Validation Accuracy = 96.491228%\n",
      "Maximum Depth of Trees = 8, Validation Accuracy = 96.491228%\n",
      "Maximum Depth of Trees = 10, Validation Accuracy = 96.491228%\n",
      "Maximum Depth of Trees = 20, Validation Accuracy = 96.491228%\n",
      "Maximum Depth of Trees = 30, Validation Accuracy = 96.491228%\n",
      "Number of trees = 3\n",
      "Maximum Depth of Trees = 1, Validation Accuracy = 92.982456%\n",
      "Maximum Depth of Trees = 3, Validation Accuracy = 98.245614%\n",
      "Maximum Depth of Trees = 5, Validation Accuracy = 96.491228%\n",
      "Maximum Depth of Trees = 8, Validation Accuracy = 94.736842%\n",
      "Maximum Depth of Trees = 10, Validation Accuracy = 94.736842%\n",
      "Maximum Depth of Trees = 20, Validation Accuracy = 94.736842%\n",
      "Maximum Depth of Trees = 30, Validation Accuracy = 94.736842%\n",
      "Number of trees = 5\n",
      "Maximum Depth of Trees = 1, Validation Accuracy = 92.982456%\n",
      "Maximum Depth of Trees = 3, Validation Accuracy = 94.736842%\n",
      "Maximum Depth of Trees = 5, Validation Accuracy = 94.736842%\n",
      "Maximum Depth of Trees = 8, Validation Accuracy = 91.228070%\n",
      "Maximum Depth of Trees = 10, Validation Accuracy = 91.228070%\n",
      "Maximum Depth of Trees = 20, Validation Accuracy = 91.228070%\n",
      "Maximum Depth of Trees = 30, Validation Accuracy = 91.228070%\n",
      "Number of trees = 8\n",
      "Maximum Depth of Trees = 1, Validation Accuracy = 92.982456%\n",
      "Maximum Depth of Trees = 3, Validation Accuracy = 94.736842%\n",
      "Maximum Depth of Trees = 5, Validation Accuracy = 94.736842%\n",
      "Maximum Depth of Trees = 8, Validation Accuracy = 91.228070%\n",
      "Maximum Depth of Trees = 10, Validation Accuracy = 91.228070%\n",
      "Maximum Depth of Trees = 20, Validation Accuracy = 91.228070%\n",
      "Maximum Depth of Trees = 30, Validation Accuracy = 91.228070%\n",
      "Number of trees = 10\n",
      "Maximum Depth of Trees = 1, Validation Accuracy = 91.228070%\n",
      "Maximum Depth of Trees = 3, Validation Accuracy = 94.736842%\n",
      "Maximum Depth of Trees = 5, Validation Accuracy = 92.982456%\n",
      "Maximum Depth of Trees = 8, Validation Accuracy = 92.982456%\n",
      "Maximum Depth of Trees = 10, Validation Accuracy = 92.982456%\n",
      "Maximum Depth of Trees = 20, Validation Accuracy = 92.982456%\n",
      "Maximum Depth of Trees = 30, Validation Accuracy = 92.982456%\n",
      "Number of trees = 20\n",
      "Maximum Depth of Trees = 1, Validation Accuracy = 91.228070%\n",
      "Maximum Depth of Trees = 3, Validation Accuracy = 94.736842%\n",
      "Maximum Depth of Trees = 5, Validation Accuracy = 94.736842%\n",
      "Maximum Depth of Trees = 8, Validation Accuracy = 94.736842%\n",
      "Maximum Depth of Trees = 10, Validation Accuracy = 94.736842%\n",
      "Maximum Depth of Trees = 20, Validation Accuracy = 94.736842%\n",
      "Maximum Depth of Trees = 30, Validation Accuracy = 94.736842%\n",
      "Number of trees = 50\n",
      "Maximum Depth of Trees = 1, Validation Accuracy = 91.228070%\n",
      "Maximum Depth of Trees = 3, Validation Accuracy = 94.736842%\n",
      "Maximum Depth of Trees = 5, Validation Accuracy = 94.736842%\n",
      "Maximum Depth of Trees = 8, Validation Accuracy = 94.736842%\n",
      "Maximum Depth of Trees = 10, Validation Accuracy = 94.736842%\n",
      "Maximum Depth of Trees = 20, Validation Accuracy = 94.736842%\n",
      "Maximum Depth of Trees = 30, Validation Accuracy = 94.736842%\n",
      "-------------------------------------------------------\n",
      "Precision, recall for test data\n",
      "              precision    recall  f1-score   support\n",
      "\n",
      "          -1       0.95      0.88      0.91        42\n",
      "           1       0.93      0.97      0.95        72\n",
      "\n",
      "    accuracy                           0.94       114\n",
      "   macro avg       0.94      0.93      0.93       114\n",
      "weighted avg       0.94      0.94      0.94       114\n",
      "\n",
      "-------------------------------------------------------\n",
      "Confusion Matrix for test data\n",
      "[[37  5]\n",
      " [ 2 70]]\n",
      "-------------------------------------------------------\n",
      "Accuracy for test data\n",
      "0.9385964912280702\n",
      "-------------------------------------------------------\n",
      "Precision, recall for train data\n",
      "              precision    recall  f1-score   support\n",
      "\n",
      "          -1       0.97      0.94      0.96       151\n",
      "           1       0.96      0.98      0.97       247\n",
      "\n",
      "    accuracy                           0.97       398\n",
      "   macro avg       0.97      0.96      0.97       398\n",
      "weighted avg       0.97      0.97      0.97       398\n",
      "\n",
      "-------------------------------------------------------\n",
      "Confusion Matrix for train data\n",
      "[[142   9]\n",
      " [  4 243]]\n",
      "-------------------------------------------------------\n",
      "Accuracy for test data\n",
      "0.9673366834170855\n"
     ]
    }
   ],
   "source": [
    "from sklearn.ensemble import RandomForestClassifier\n",
    "from sklearn.metrics import classification_report, confusion_matrix, accuracy_score\n",
    "#################################################################################\n",
    "# TODO:use the validation data to determine hyperparameters(number and depth of #\n",
    "# trees) for the best accuracy                                                  # \n",
    "#################################################################################\n",
    "num_trees = [1, 3, 5, 8, 10, 20, 50]\n",
    "max_depths = [1, 3, 5, 8, 10, 20, 30]\n",
    "\n",
    "best_model, best_acc = None, 0\n",
    "for num_tree in num_trees:\n",
    "    print(\"Number of trees = %d\"%(num_tree))\n",
    "    for max_depth in max_depths:\n",
    "        model = RandomForestClassifier(n_estimators=num_tree, max_depth=max_depth, random_state=1)\n",
    "        model.fit(X_train, y_train)\n",
    "        y_val_predict = model.predict(X_val)\n",
    "        current_val_acc = np.mean(y_val == y_val_predict)*100\n",
    "        print(\"Maximum Depth of Trees = %d, Validation Accuracy = %f%%\"%(max_depth, current_val_acc))\n",
    "        \n",
    "        if best_acc <= current_val_acc:\n",
    "            best_acc = current_val_acc\n",
    "            best_model = model\n",
    "\n",
    "#######################################################################################\n",
    "#TODO:report accuracy, presition,recall and confusion matrix for train and test data  #\n",
    "#######################################################################################\n",
    "y_test_predict = best_model.predict(X_test)\n",
    "y_train_pred = best_model.predict(X_train)\n",
    "\n",
    "print(\"-------------------------------------------------------\")\n",
    "print(\"Precision, recall for test data\")\n",
    "print(classification_report(y_test, y_test_predict))\n",
    "\n",
    "\n",
    "print(\"-------------------------------------------------------\")\n",
    "print(\"Confusion Matrix for test data\")\n",
    "print(confusion_matrix(y_test, y_test_predict))\n",
    "\n",
    "print(\"-------------------------------------------------------\")\n",
    "print(\"Accuracy for test data\")\n",
    "print(accuracy_score(y_test, y_test_predict))\n",
    "\n",
    "y_train_predict = best_model.predict(X_train)\n",
    "print(\"-------------------------------------------------------\")\n",
    "print(\"Precision, recall for train data\")\n",
    "print(classification_report(y_train, y_train_predict))\n",
    "print(\"-------------------------------------------------------\")\n",
    "print(\"Confusion Matrix for train data\")\n",
    "print(confusion_matrix(y_train, y_train_predict))\n",
    "print(\"-------------------------------------------------------\")\n",
    "print(\"Accuracy for test data\")\n",
    "print(accuracy_score(y_train, y_train_predict))"
   ]
  },
  {
   "cell_type": "markdown",
   "metadata": {
    "colab_type": "text",
    "id": "pSr7G0fdgmyf"
   },
   "source": [
    "Question:\n",
    "Explain how you did choose the hyperparameters.</br>"
   ]
  },
  {
   "cell_type": "markdown",
   "metadata": {},
   "source": [
    "<p></p>\n",
    "<br/>\n",
    "<div id=\"sec_conclusion\" style=\"direction:rtl;line-height:300%;\">\n",
    "\t<font face=\"XB Zar\" size=5>\n",
    "\t\t<p></p>\n",
    "\t\t<hr>\n",
    "        با توجه به آنکه دیتا ولیدیشن از پیش موجود است از تکنیک \n",
    "        d-fold \n",
    "        ولیدیشن استفاده نمی‌کنیم. اینجا مقادیری را برای دو هایپرپارامتر بیشترین عمق و تعداد درخت‌ها در نظر می‌گیریم. حال به ازای مقادیر مختلف آن‌ها \n",
    "        search \n",
    "        می‌کنیم و هر بار مدل را با یکی از گزینه‌ها ترین می‌کنیم. سپس مدل را روی داده ولیدیشن تست می‌کنیم. و در نهایت آن گزینه‌ای که بیشترین دقت را روی داده ولیدیشن دارد به عنوان هایپرپارامتر در نظر می‌گیریم. چون این کار را روی داده ولیددیشن انجام دادیم، منجر به \n",
    "        overfitting\n",
    "        نمی‌شود.\n",
    "    </font>\n",
    "</div>"
   ]
  },
  {
   "cell_type": "markdown",
   "metadata": {
    "colab_type": "text",
    "id": "fxpbM42MPg6m"
   },
   "source": [
    "## Problem 3. Boosting : AdaBoost (35 points)"
   ]
  },
  {
   "cell_type": "markdown",
   "metadata": {
    "colab_type": "text",
    "id": "rUodQdBvPrKQ"
   },
   "source": [
    "In this part you should implement adaptive boosting algorithm. </br>\n",
    "<picture>\n",
    "  <img src=\"http://uupload.ir/files/b919_adaboost.png\" alt=\"Adaboost\" width=\"600\" height=\"300\">\n",
    "</picture>\n",
    "\n"
   ]
  },
  {
   "cell_type": "code",
   "execution_count": 9,
   "metadata": {
    "ExecuteTime": {
     "end_time": "2020-04-27T17:59:40.634435Z",
     "start_time": "2020-04-27T17:59:40.599685Z"
    },
    "colab": {},
    "colab_type": "code",
    "id": "r9TL5FGqRIoL"
   },
   "outputs": [
    {
     "name": "stdout",
     "output_type": "stream",
     "text": [
      "The training data accuracy is: 89.8901098901099 %\n",
      "The test data accuracy is: 86.8421052631579 %\n"
     ]
    }
   ],
   "source": [
    "from sklearn.tree import DecisionTreeClassifier\n",
    "from sklearn.model_selection import cross_validate\n",
    "X_train ,X_test ,y_train ,y_test = None ,None ,None ,None\n",
    "###################################################################\n",
    "# TODO: use 80% of normalized data as train and 20% as test data. #\n",
    "###################################################################\n",
    "X_train, X_test, y_train, y_test = train_test_split(normalized_data, cancer.target, test_size=0.2, random_state=1)\n",
    "\n",
    "######################################################################\n",
    "#TODO : define a weak decision tree.                                 #\n",
    "# initialize these parameters: criterion=\"entropy\" and max_depth = 1 #\n",
    "######################################################################\n",
    "Tree_model = DecisionTreeClassifier(criterion=\"entropy\", max_depth=1)\n",
    "#############################################################################################\n",
    "#TODO : report accuracy of your weak model on train and test data by using cross validation #\n",
    "#############################################################################################\n",
    "train_accuracy = np.mean(cross_validate(Tree_model, X_train, y_train)['test_score']) \n",
    "print('The training data accuracy is:' ,train_accuracy * 100 , '%')\n",
    "\n",
    "Tree_model.fit(X_train, y_train)\n",
    "y_test_predict = Tree_model.predict(X_test)\n",
    "print('The test data accuracy is:' ,np.mean(y_test == y_test_predict) * 100 , '%')"
   ]
  },
  {
   "cell_type": "code",
   "execution_count": 10,
   "metadata": {
    "ExecuteTime": {
     "end_time": "2020-04-27T17:59:50.380770Z",
     "start_time": "2020-04-27T17:59:50.359400Z"
    },
    "colab": {},
    "colab_type": "code",
    "id": "elsmjgbNRSdH"
   },
   "outputs": [],
   "source": [
    "class AdaBoost:\n",
    "    \n",
    "    def __init__(self,train_data_X,train_data_y,tree_num,test_data_X,test_data_y):\n",
    "        self.train_data_X = train_data_X\n",
    "        self.train_data_y = train_data_y\n",
    "        self.tree_num = tree_num\n",
    "        self.test_data_X = test_data_X\n",
    "        self.test_data_y = test_data_y\n",
    "        self.alphas = None\n",
    "        self.models = None\n",
    "        self.accuracy = []\n",
    "        self.predictions = None\n",
    "        \n",
    "    def fit(self):\n",
    "        Evaluation = pd.DataFrame(self.train_data_y.copy())\n",
    "        Evaluation.columns = ['target']\n",
    "        \n",
    "        ## TODO:Set the initial weights w = 1/N\n",
    "        Evaluation['weights'] = (1/self.train_data_X.shape[0]) * np.ones(self.train_data_X.shape[0]) \n",
    "        \n",
    "        alphas = [] #list of alphas \n",
    "        models = [] # list of trained models\n",
    "        for t in range(self.tree_num):\n",
    "\n",
    "            ## TODO: create a weak decisiontree classifier\n",
    "            Tree_model = DecisionTreeClassifier(criterion=\"entropy\", max_depth=1)\n",
    "            ## TODO: fit the model with train data. set the sample_weight parameter to the 'weights' columns in Evaluation dataframe\n",
    "            model = Tree_model.fit(self.train_data_X, self.train_data_y, sample_weight=Evaluation['weights']) \n",
    "            \n",
    "            models.append(model)\n",
    "            predictions = model.predict(self.train_data_X)\n",
    "            score = model.score(self.train_data_X,self.train_data_y)\n",
    "\n",
    "            ## Add this columns to the Evaluation DataFrame\n",
    "            Evaluation['predictions'] = predictions\n",
    "            ## TODO: In each row if the prediction and the target are equal,this column must be '1' and '0' O.W. \n",
    "            Evaluation['evaluation'] = (Evaluation['target'] == predictions).astype(int)\n",
    "            ## TODO: In each row if the tha data is missclassified, this column must be 1.\n",
    "            Evaluation['misclassified'] = (Evaluation['target'] != predictions).astype(int)\n",
    "\n",
    "            ## TODO: Calculate the misclassification rate and accuracy and then use them to calculate error\n",
    "            accuracy = np.sum(Evaluation['evaluation'] * Evaluation['weights']) \n",
    "            misclassification = 1 - accuracy\n",
    "            err = misclassification\n",
    "\n",
    "            ## TODO: Calculate the alpha values from the adaboost algorithm\n",
    "            alpha = np.log((1/err) - 1) / 2\n",
    "            alphas.append(alpha)\n",
    "            ## TODO: update the weights\n",
    "            Evaluation['weights'] = Evaluation['weights'] * np.exp(-1*alpha*Evaluation['predictions']*Evaluation['target'])\n",
    "            Evaluation['weights'] = Evaluation['weights'] / (np.sum(Evaluation['weights']))\n",
    "\n",
    "        self.alphas = alphas\n",
    "        self.models = models\n",
    "        \n",
    "        \n",
    "    def predict(self):\n",
    "        \n",
    "        accuracy = []\n",
    "        predictions = []\n",
    "        cache = []\n",
    "        #####################################################################################\n",
    "        #TODO:                                                                              #\n",
    "        # 1- predict target for test data and append each prediction to the predictions list#\n",
    "        # 2- Create a list of accuracies which can be used to plot the accuracy against the #\n",
    "        # number of base learners used for the model                                        #\n",
    "        #####################################################################################\n",
    "        for alpha,model in zip(self.alphas,self.models):\n",
    "            \n",
    "            current_cache = alpha * model.predict(self.test_data_X)\n",
    "            cache.append(current_cache)\n",
    "            prediction = np.sign(np.sum(np.array(cache), axis=0))\n",
    "            predictions.append(prediction)\n",
    "            self.accuracy.append(np.mean(prediction == self.test_data_y))\n",
    "            #print(alpha, model)\n",
    "\n",
    "            \n",
    "        self.predictions = np.sign(np.sum(np.array(predictions),axis=0))\n"
   ]
  },
  {
   "cell_type": "code",
   "execution_count": 15,
   "metadata": {
    "ExecuteTime": {
     "end_time": "2020-04-27T18:03:01.394908Z",
     "start_time": "2020-04-27T18:02:59.905528Z"
    },
    "colab": {},
    "colab_type": "code",
    "id": "-by9WfOXRVQG"
   },
   "outputs": [
    {
     "name": "stdout",
     "output_type": "stream",
     "text": [
      "With a number of  100 base models we receive an accuracy of  100.0 %\n"
     ]
    },
    {
     "data": {
      "image/png": "[encoded data removed]",
      "text/plain": [
       "<Figure size 720x720 with 1 Axes>"
      ]
     },
     "metadata": {
      "needs_background": "light"
     },
     "output_type": "display_data"
    },
    {
     "name": "stdout",
     "output_type": "stream",
     "text": [
      "On test data,With a number of  100 base models we receive an accuracy of  95.6140350877193 %\n"
     ]
    },
    {
     "data": {
      "image/png": "[encoded data removed]",
      "text/plain": [
       "<Figure size 432x288 with 1 Axes>"
      ]
     },
     "metadata": {
      "needs_background": "light"
     },
     "output_type": "display_data"
    }
   ],
   "source": [
    "# Accuracy - number of base learners plot for training data\n",
    "\n",
    "number_of_base_learners = 100\n",
    "\n",
    "fig = plt.figure(figsize=(10,10))\n",
    "ax0 = fig.add_subplot(111)\n",
    "\n",
    "\n",
    "\n",
    "model = AdaBoost(X_train,y_train,number_of_base_learners,X_train,y_train)\n",
    "model.fit()\n",
    "model.predict()\n",
    "\n",
    "ax0.plot(range(len(model.accuracy)),model.accuracy,'-b')\n",
    "ax0.set_xlabel('# models used for Boosting ')\n",
    "ax0.set_ylabel('accuracy')\n",
    "print('With a number of ',number_of_base_learners,'base models we receive an accuracy of ',model.accuracy[-1]*100,'%')    \n",
    "                 \n",
    "plt.show()   \n",
    "#################################################################### \n",
    "# TODO: Plot Accuracy - number of base learners plot for test data #\n",
    "####################################################################  \n",
    "model = AdaBoost(X_train,y_train,number_of_base_learners,X_test,y_test)\n",
    "model.fit()\n",
    "model.predict()\n",
    "plt.plot(range(len(model.accuracy)),model.accuracy,'-b')\n",
    "plt.xlabel('# models used for Boosting on test data')\n",
    "plt.ylabel('accuracy')\n",
    "print('On test data,With a number of ',number_of_base_learners,'base models we receive an accuracy of ',model.accuracy[-1]*100,'%')    \n",
    "plt.show()"
   ]
  },
  {
   "cell_type": "code",
   "execution_count": null,
   "metadata": {
    "colab": {},
    "colab_type": "code",
    "id": "aHIp-4p9Ravu"
   },
   "outputs": [],
   "source": []
  },
  {
   "cell_type": "markdown",
   "metadata": {
    "colab_type": "text",
    "id": "2olecphWRi4L"
   },
   "source": [
    "# Feature Selction </br>\n",
    "\n",
    "## problem4. Filtering : correlation coefficient (25 points)\n"
   ]
  },
  {
   "cell_type": "code",
   "execution_count": 16,
   "metadata": {
    "ExecuteTime": {
     "end_time": "2020-04-27T18:04:02.287901Z",
     "start_time": "2020-04-27T18:04:02.273574Z"
    },
    "colab": {},
    "colab_type": "code",
    "id": "oe0ynxveRmXS",
    "scrolled": true
   },
   "outputs": [
    {
     "data": {
      "text/plain": [
       "mean radius               -0.730029\n",
       "mean texture              -0.415185\n",
       "mean perimeter            -0.742636\n",
       "mean area                 -0.708984\n",
       "mean smoothness           -0.358560\n",
       "mean compactness          -0.596534\n",
       "mean concavity            -0.696360\n",
       "mean concave points       -0.776614\n",
       "mean symmetry             -0.330499\n",
       "mean fractal dimension     0.012838\n",
       "radius error              -0.567134\n",
       "texture error              0.008303\n",
       "perimeter error           -0.556141\n",
       "area error                -0.548236\n",
       "smoothness error           0.067016\n",
       "compactness error         -0.292999\n",
       "concavity error           -0.253730\n",
       "concave points error      -0.408042\n",
       "symmetry error             0.006522\n",
       "fractal dimension error   -0.077972\n",
       "worst radius              -0.776454\n",
       "worst texture             -0.456903\n",
       "worst perimeter           -0.782914\n",
       "worst area                -0.733825\n",
       "worst smoothness          -0.421465\n",
       "worst compactness         -0.590998\n",
       "worst concavity           -0.659610\n",
       "worst concave points      -0.793566\n",
       "worst symmetry            -0.416294\n",
       "worst fractal dimension   -0.323872\n",
       "target                     1.000000\n",
       "Name: target, dtype: float64"
      ]
     },
     "execution_count": 16,
     "metadata": {},
     "output_type": "execute_result"
    }
   ],
   "source": [
    "################################################################################# \n",
    "# TODO:                                                                         #\n",
    "# use 80% of normalized data as train and 20% as test data.(just use the data   # \n",
    "# from last part)                                                               #\n",
    "# 1- compute the correlation coefficient between each feature and target.       #\n",
    "# 2- Report the features that their correlation is more than 0.5                #\n",
    "# 3- compute the correlation between the features you reported in 2nd           #\n",
    "# section and report features that their correlation with other features        #\n",
    "# is less than 0.5                                                              #\n",
    "# 4- use perceptron from sklearn package to classify the data. Report accurracy #\n",
    "# for test data and sort the features based on their weights in perceptron.     #\n",
    "# IMPORTANT: Don't forget to add 1s to the end of feature vectors to be         #\n",
    "# multiplied by bias term of weight in perceptron.                              #\n",
    "# 5- compare the features you reported in section 2 and 3 with the features     #\n",
    "# that have the most weights in perceptron and write your analysis below        #\n",
    "# 6 - Classify data with perceptron and use only the features you repoted in    # \n",
    "# section 2 and report accuracy for test data.                                  #\n",
    "# 7 - Do the same with section 3 and compare accuracies.                        #\n",
    "#################################################################################\n",
    "\n",
    "#Part one\n",
    "df.corr()['target']"
   ]
  },
  {
   "cell_type": "code",
   "execution_count": 19,
   "metadata": {
    "ExecuteTime": {
     "end_time": "2020-04-27T18:05:14.390061Z",
     "start_time": "2020-04-27T18:05:14.372137Z"
    }
   },
   "outputs": [
    {
     "name": "stdout",
     "output_type": "stream",
     "text": [
      "Features that their correlation is more than 0.5 with target:\n",
      "['worst concave points', 'worst perimeter', 'mean concave points', 'worst radius', 'mean perimeter', 'worst area', 'mean radius', 'mean area', 'mean concavity', 'worst concavity', 'mean compactness', 'worst compactness', 'radius error', 'perimeter error', 'area error']\n",
      "\n",
      "Index of features that their correlation is more than 0.5 with target:\n",
      "[27, 22, 7, 20, 2, 23, 0, 3, 6, 26, 5, 25, 10, 12, 13]\n"
     ]
    }
   ],
   "source": [
    "#Part two\n",
    "df['target'] = np.where(cancer.target==0, -1, cancer.target)\n",
    "the_features = (abs(df.corr()['target']).sort_values(ascending=False) > 0.5)\n",
    "the_features = the_features.loc[the_features==True].index.tolist()[1:]\n",
    "print(\"Features that their correlation is more than 0.5 with target:\")\n",
    "print(the_features)\n",
    "the_features_index = []\n",
    "for i in the_features:\n",
    "    the_features_index.append(df.columns.get_loc(i))\n",
    "\n",
    "\n",
    "print()    \n",
    "print(\"Index of features that their correlation is more than 0.5 with target:\")\n",
    "print(the_features_index)"
   ]
  },
  {
   "cell_type": "code",
   "execution_count": 20,
   "metadata": {
    "ExecuteTime": {
     "end_time": "2020-04-27T18:05:24.225752Z",
     "start_time": "2020-04-27T18:05:24.183786Z"
    }
   },
   "outputs": [
    {
     "data": {
      "text/html": [
       "<div>\n",
       "<style scoped>\n",
       "    .dataframe tbody tr th:only-of-type {\n",
       "        vertical-align: middle;\n",
       "    }\n",
       "\n",
       "    .dataframe tbody tr th {\n",
       "        vertical-align: top;\n",
       "    }\n",
       "\n",
       "    .dataframe thead th {\n",
       "        text-align: right;\n",
       "    }\n",
       "</style>\n",
       "<table border=\"1\" class=\"dataframe\">\n",
       "  <thead>\n",
       "    <tr style=\"text-align: right;\">\n",
       "      <th></th>\n",
       "      <th>worst concave points</th>\n",
       "      <th>worst perimeter</th>\n",
       "      <th>mean concave points</th>\n",
       "      <th>worst radius</th>\n",
       "      <th>mean perimeter</th>\n",
       "      <th>worst area</th>\n",
       "      <th>mean radius</th>\n",
       "      <th>mean area</th>\n",
       "      <th>mean concavity</th>\n",
       "      <th>worst concavity</th>\n",
       "      <th>mean compactness</th>\n",
       "      <th>worst compactness</th>\n",
       "      <th>radius error</th>\n",
       "      <th>perimeter error</th>\n",
       "      <th>area error</th>\n",
       "    </tr>\n",
       "  </thead>\n",
       "  <tbody>\n",
       "    <tr>\n",
       "      <th>worst concave points</th>\n",
       "      <td>1.000000</td>\n",
       "      <td>0.816322</td>\n",
       "      <td>0.910155</td>\n",
       "      <td>0.787424</td>\n",
       "      <td>0.771241</td>\n",
       "      <td>0.747419</td>\n",
       "      <td>0.744214</td>\n",
       "      <td>0.722017</td>\n",
       "      <td>0.861323</td>\n",
       "      <td>0.855434</td>\n",
       "      <td>0.815573</td>\n",
       "      <td>0.801080</td>\n",
       "      <td>0.531062</td>\n",
       "      <td>0.554897</td>\n",
       "      <td>0.538166</td>\n",
       "    </tr>\n",
       "    <tr>\n",
       "      <th>worst perimeter</th>\n",
       "      <td>0.816322</td>\n",
       "      <td>1.000000</td>\n",
       "      <td>0.855923</td>\n",
       "      <td>0.993708</td>\n",
       "      <td>0.970387</td>\n",
       "      <td>0.977578</td>\n",
       "      <td>0.965137</td>\n",
       "      <td>0.959120</td>\n",
       "      <td>0.729565</td>\n",
       "      <td>0.618344</td>\n",
       "      <td>0.590210</td>\n",
       "      <td>0.529408</td>\n",
       "      <td>0.719684</td>\n",
       "      <td>0.721031</td>\n",
       "      <td>0.761213</td>\n",
       "    </tr>\n",
       "    <tr>\n",
       "      <th>mean concave points</th>\n",
       "      <td>0.910155</td>\n",
       "      <td>0.855923</td>\n",
       "      <td>1.000000</td>\n",
       "      <td>0.830318</td>\n",
       "      <td>0.850977</td>\n",
       "      <td>0.809630</td>\n",
       "      <td>0.822529</td>\n",
       "      <td>0.823269</td>\n",
       "      <td>0.921391</td>\n",
       "      <td>0.752399</td>\n",
       "      <td>0.831135</td>\n",
       "      <td>0.667454</td>\n",
       "      <td>0.698050</td>\n",
       "      <td>0.710650</td>\n",
       "      <td>0.690299</td>\n",
       "    </tr>\n",
       "    <tr>\n",
       "      <th>worst radius</th>\n",
       "      <td>0.787424</td>\n",
       "      <td>0.993708</td>\n",
       "      <td>0.830318</td>\n",
       "      <td>1.000000</td>\n",
       "      <td>0.969476</td>\n",
       "      <td>0.984015</td>\n",
       "      <td>0.969539</td>\n",
       "      <td>0.962746</td>\n",
       "      <td>0.688236</td>\n",
       "      <td>0.573975</td>\n",
       "      <td>0.535315</td>\n",
       "      <td>0.475820</td>\n",
       "      <td>0.715065</td>\n",
       "      <td>0.697201</td>\n",
       "      <td>0.757373</td>\n",
       "    </tr>\n",
       "    <tr>\n",
       "      <th>mean perimeter</th>\n",
       "      <td>0.771241</td>\n",
       "      <td>0.970387</td>\n",
       "      <td>0.850977</td>\n",
       "      <td>0.969476</td>\n",
       "      <td>1.000000</td>\n",
       "      <td>0.941550</td>\n",
       "      <td>0.997855</td>\n",
       "      <td>0.986507</td>\n",
       "      <td>0.716136</td>\n",
       "      <td>0.563879</td>\n",
       "      <td>0.556936</td>\n",
       "      <td>0.455774</td>\n",
       "      <td>0.691765</td>\n",
       "      <td>0.693135</td>\n",
       "      <td>0.744983</td>\n",
       "    </tr>\n",
       "    <tr>\n",
       "      <th>worst area</th>\n",
       "      <td>0.747419</td>\n",
       "      <td>0.977578</td>\n",
       "      <td>0.809630</td>\n",
       "      <td>0.984015</td>\n",
       "      <td>0.941550</td>\n",
       "      <td>1.000000</td>\n",
       "      <td>0.941082</td>\n",
       "      <td>0.959213</td>\n",
       "      <td>0.675987</td>\n",
       "      <td>0.543331</td>\n",
       "      <td>0.509604</td>\n",
       "      <td>0.438296</td>\n",
       "      <td>0.751548</td>\n",
       "      <td>0.730713</td>\n",
       "      <td>0.811408</td>\n",
       "    </tr>\n",
       "    <tr>\n",
       "      <th>mean radius</th>\n",
       "      <td>0.744214</td>\n",
       "      <td>0.965137</td>\n",
       "      <td>0.822529</td>\n",
       "      <td>0.969539</td>\n",
       "      <td>0.997855</td>\n",
       "      <td>0.941082</td>\n",
       "      <td>1.000000</td>\n",
       "      <td>0.987357</td>\n",
       "      <td>0.676764</td>\n",
       "      <td>0.526911</td>\n",
       "      <td>0.506124</td>\n",
       "      <td>0.413463</td>\n",
       "      <td>0.679090</td>\n",
       "      <td>0.674172</td>\n",
       "      <td>0.735864</td>\n",
       "    </tr>\n",
       "    <tr>\n",
       "      <th>mean area</th>\n",
       "      <td>0.722017</td>\n",
       "      <td>0.959120</td>\n",
       "      <td>0.823269</td>\n",
       "      <td>0.962746</td>\n",
       "      <td>0.986507</td>\n",
       "      <td>0.959213</td>\n",
       "      <td>0.987357</td>\n",
       "      <td>1.000000</td>\n",
       "      <td>0.685983</td>\n",
       "      <td>0.512606</td>\n",
       "      <td>0.498502</td>\n",
       "      <td>0.390410</td>\n",
       "      <td>0.732562</td>\n",
       "      <td>0.726628</td>\n",
       "      <td>0.800086</td>\n",
       "    </tr>\n",
       "    <tr>\n",
       "      <th>mean concavity</th>\n",
       "      <td>0.861323</td>\n",
       "      <td>0.729565</td>\n",
       "      <td>0.921391</td>\n",
       "      <td>0.688236</td>\n",
       "      <td>0.716136</td>\n",
       "      <td>0.675987</td>\n",
       "      <td>0.676764</td>\n",
       "      <td>0.685983</td>\n",
       "      <td>1.000000</td>\n",
       "      <td>0.884103</td>\n",
       "      <td>0.883121</td>\n",
       "      <td>0.754968</td>\n",
       "      <td>0.631925</td>\n",
       "      <td>0.660391</td>\n",
       "      <td>0.617427</td>\n",
       "    </tr>\n",
       "    <tr>\n",
       "      <th>worst concavity</th>\n",
       "      <td>0.855434</td>\n",
       "      <td>0.618344</td>\n",
       "      <td>0.752399</td>\n",
       "      <td>0.573975</td>\n",
       "      <td>0.563879</td>\n",
       "      <td>0.543331</td>\n",
       "      <td>0.526911</td>\n",
       "      <td>0.512606</td>\n",
       "      <td>0.884103</td>\n",
       "      <td>1.000000</td>\n",
       "      <td>0.816275</td>\n",
       "      <td>0.892261</td>\n",
       "      <td>0.380585</td>\n",
       "      <td>0.418899</td>\n",
       "      <td>0.385100</td>\n",
       "    </tr>\n",
       "    <tr>\n",
       "      <th>mean compactness</th>\n",
       "      <td>0.815573</td>\n",
       "      <td>0.590210</td>\n",
       "      <td>0.831135</td>\n",
       "      <td>0.535315</td>\n",
       "      <td>0.556936</td>\n",
       "      <td>0.509604</td>\n",
       "      <td>0.506124</td>\n",
       "      <td>0.498502</td>\n",
       "      <td>0.883121</td>\n",
       "      <td>0.816275</td>\n",
       "      <td>1.000000</td>\n",
       "      <td>0.865809</td>\n",
       "      <td>0.497473</td>\n",
       "      <td>0.548905</td>\n",
       "      <td>0.455653</td>\n",
       "    </tr>\n",
       "    <tr>\n",
       "      <th>worst compactness</th>\n",
       "      <td>0.801080</td>\n",
       "      <td>0.529408</td>\n",
       "      <td>0.667454</td>\n",
       "      <td>0.475820</td>\n",
       "      <td>0.455774</td>\n",
       "      <td>0.438296</td>\n",
       "      <td>0.413463</td>\n",
       "      <td>0.390410</td>\n",
       "      <td>0.754968</td>\n",
       "      <td>0.892261</td>\n",
       "      <td>0.865809</td>\n",
       "      <td>1.000000</td>\n",
       "      <td>0.287103</td>\n",
       "      <td>0.341919</td>\n",
       "      <td>0.283257</td>\n",
       "    </tr>\n",
       "    <tr>\n",
       "      <th>radius error</th>\n",
       "      <td>0.531062</td>\n",
       "      <td>0.719684</td>\n",
       "      <td>0.698050</td>\n",
       "      <td>0.715065</td>\n",
       "      <td>0.691765</td>\n",
       "      <td>0.751548</td>\n",
       "      <td>0.679090</td>\n",
       "      <td>0.732562</td>\n",
       "      <td>0.631925</td>\n",
       "      <td>0.380585</td>\n",
       "      <td>0.497473</td>\n",
       "      <td>0.287103</td>\n",
       "      <td>1.000000</td>\n",
       "      <td>0.972794</td>\n",
       "      <td>0.951830</td>\n",
       "    </tr>\n",
       "    <tr>\n",
       "      <th>perimeter error</th>\n",
       "      <td>0.554897</td>\n",
       "      <td>0.721031</td>\n",
       "      <td>0.710650</td>\n",
       "      <td>0.697201</td>\n",
       "      <td>0.693135</td>\n",
       "      <td>0.730713</td>\n",
       "      <td>0.674172</td>\n",
       "      <td>0.726628</td>\n",
       "      <td>0.660391</td>\n",
       "      <td>0.418899</td>\n",
       "      <td>0.548905</td>\n",
       "      <td>0.341919</td>\n",
       "      <td>0.972794</td>\n",
       "      <td>1.000000</td>\n",
       "      <td>0.937655</td>\n",
       "    </tr>\n",
       "    <tr>\n",
       "      <th>area error</th>\n",
       "      <td>0.538166</td>\n",
       "      <td>0.761213</td>\n",
       "      <td>0.690299</td>\n",
       "      <td>0.757373</td>\n",
       "      <td>0.744983</td>\n",
       "      <td>0.811408</td>\n",
       "      <td>0.735864</td>\n",
       "      <td>0.800086</td>\n",
       "      <td>0.617427</td>\n",
       "      <td>0.385100</td>\n",
       "      <td>0.455653</td>\n",
       "      <td>0.283257</td>\n",
       "      <td>0.951830</td>\n",
       "      <td>0.937655</td>\n",
       "      <td>1.000000</td>\n",
       "    </tr>\n",
       "  </tbody>\n",
       "</table>\n",
       "</div>"
      ],
      "text/plain": [
       "                      worst concave points  worst perimeter  \\\n",
       "worst concave points              1.000000         0.816322   \n",
       "worst perimeter                   0.816322         1.000000   \n",
       "mean concave points               0.910155         0.855923   \n",
       "worst radius                      0.787424         0.993708   \n",
       "mean perimeter                    0.771241         0.970387   \n",
       "worst area                        0.747419         0.977578   \n",
       "mean radius                       0.744214         0.965137   \n",
       "mean area                         0.722017         0.959120   \n",
       "mean concavity                    0.861323         0.729565   \n",
       "worst concavity                   0.855434         0.618344   \n",
       "mean compactness                  0.815573         0.590210   \n",
       "worst compactness                 0.801080         0.529408   \n",
       "radius error                      0.531062         0.719684   \n",
       "perimeter error                   0.554897         0.721031   \n",
       "area error                        0.538166         0.761213   \n",
       "\n",
       "                      mean concave points  worst radius  mean perimeter  \\\n",
       "worst concave points             0.910155      0.787424        0.771241   \n",
       "worst perimeter                  0.855923      0.993708        0.970387   \n",
       "mean concave points              1.000000      0.830318        0.850977   \n",
       "worst radius                     0.830318      1.000000        0.969476   \n",
       "mean perimeter                   0.850977      0.969476        1.000000   \n",
       "worst area                       0.809630      0.984015        0.941550   \n",
       "mean radius                      0.822529      0.969539        0.997855   \n",
       "mean area                        0.823269      0.962746        0.986507   \n",
       "mean concavity                   0.921391      0.688236        0.716136   \n",
       "worst concavity                  0.752399      0.573975        0.563879   \n",
       "mean compactness                 0.831135      0.535315        0.556936   \n",
       "worst compactness                0.667454      0.475820        0.455774   \n",
       "radius error                     0.698050      0.715065        0.691765   \n",
       "perimeter error                  0.710650      0.697201        0.693135   \n",
       "area error                       0.690299      0.757373        0.744983   \n",
       "\n",
       "                      worst area  mean radius  mean area  mean concavity  \\\n",
       "worst concave points    0.747419     0.744214   0.722017        0.861323   \n",
       "worst perimeter         0.977578     0.965137   0.959120        0.729565   \n",
       "mean concave points     0.809630     0.822529   0.823269        0.921391   \n",
       "worst radius            0.984015     0.969539   0.962746        0.688236   \n",
       "mean perimeter          0.941550     0.997855   0.986507        0.716136   \n",
       "worst area              1.000000     0.941082   0.959213        0.675987   \n",
       "mean radius             0.941082     1.000000   0.987357        0.676764   \n",
       "mean area               0.959213     0.987357   1.000000        0.685983   \n",
       "mean concavity          0.675987     0.676764   0.685983        1.000000   \n",
       "worst concavity         0.543331     0.526911   0.512606        0.884103   \n",
       "mean compactness        0.509604     0.506124   0.498502        0.883121   \n",
       "worst compactness       0.438296     0.413463   0.390410        0.754968   \n",
       "radius error            0.751548     0.679090   0.732562        0.631925   \n",
       "perimeter error         0.730713     0.674172   0.726628        0.660391   \n",
       "area error              0.811408     0.735864   0.800086        0.617427   \n",
       "\n",
       "                      worst concavity  mean compactness  worst compactness  \\\n",
       "worst concave points         0.855434          0.815573           0.801080   \n",
       "worst perimeter              0.618344          0.590210           0.529408   \n",
       "mean concave points          0.752399          0.831135           0.667454   \n",
       "worst radius                 0.573975          0.535315           0.475820   \n",
       "mean perimeter               0.563879          0.556936           0.455774   \n",
       "worst area                   0.543331          0.509604           0.438296   \n",
       "mean radius                  0.526911          0.506124           0.413463   \n",
       "mean area                    0.512606          0.498502           0.390410   \n",
       "mean concavity               0.884103          0.883121           0.754968   \n",
       "worst concavity              1.000000          0.816275           0.892261   \n",
       "mean compactness             0.816275          1.000000           0.865809   \n",
       "worst compactness            0.892261          0.865809           1.000000   \n",
       "radius error                 0.380585          0.497473           0.287103   \n",
       "perimeter error              0.418899          0.548905           0.341919   \n",
       "area error                   0.385100          0.455653           0.283257   \n",
       "\n",
       "                      radius error  perimeter error  area error  \n",
       "worst concave points      0.531062         0.554897    0.538166  \n",
       "worst perimeter           0.719684         0.721031    0.761213  \n",
       "mean concave points       0.698050         0.710650    0.690299  \n",
       "worst radius              0.715065         0.697201    0.757373  \n",
       "mean perimeter            0.691765         0.693135    0.744983  \n",
       "worst area                0.751548         0.730713    0.811408  \n",
       "mean radius               0.679090         0.674172    0.735864  \n",
       "mean area                 0.732562         0.726628    0.800086  \n",
       "mean concavity            0.631925         0.660391    0.617427  \n",
       "worst concavity           0.380585         0.418899    0.385100  \n",
       "mean compactness          0.497473         0.548905    0.455653  \n",
       "worst compactness         0.287103         0.341919    0.283257  \n",
       "radius error              1.000000         0.972794    0.951830  \n",
       "perimeter error           0.972794         1.000000    0.937655  \n",
       "area error                0.951830         0.937655    1.000000  "
      ]
     },
     "execution_count": 20,
     "metadata": {},
     "output_type": "execute_result"
    }
   ],
   "source": [
    "#Part three\n",
    "df[the_features].corr()"
   ]
  },
  {
   "cell_type": "code",
   "execution_count": 35,
   "metadata": {
    "ExecuteTime": {
     "end_time": "2020-04-27T18:10:08.423551Z",
     "start_time": "2020-04-27T18:10:08.409336Z"
    },
    "scrolled": true
   },
   "outputs": [
    {
     "name": "stdout",
     "output_type": "stream",
     "text": [
      "Features that have less than 0.5 correlation with some of other features the most\n",
      "['worst concavity', 'mean compactness', 'worst compactness', 'radius error', 'area error']\n",
      "\n",
      "Index of features that have less than 0.5 correlation with some of other features the most\n",
      "[26, 5, 25, 10, 13]\n"
     ]
    }
   ],
   "source": [
    "#Part three\n",
    "df_cor = abs(df[the_features].corr())\n",
    "df_cor = ((df_cor<0.5).sum() >= 3)\n",
    "final_features = df_cor[df_cor == True].index.tolist()\n",
    "print(\"Features that have less than 0.5 correlation with some of other features the most\")\n",
    "print(final_features)\n",
    "final_features_index = []\n",
    "for i in final_features:\n",
    "    final_features_index.append(df.columns.get_loc(i))\n",
    "final_features_index = final_features_index\n",
    "print()\n",
    "print(\"Index of features that have less than 0.5 correlation with some of other features the most\")\n",
    "print(final_features_index)\n",
    "final_features_index = final_features_index[2:5]"
   ]
  },
  {
   "cell_type": "code",
   "execution_count": 32,
   "metadata": {
    "ExecuteTime": {
     "end_time": "2020-04-27T18:09:58.559781Z",
     "start_time": "2020-04-27T18:09:58.546672Z"
    }
   },
   "outputs": [
    {
     "name": "stdout",
     "output_type": "stream",
     "text": [
      "Accuracy of perceptron with all features\n",
      "0.9649122807017544\n",
      "\n",
      "Sort features based on their weights\n",
      "[ 7 21 20  6 23 10 22 27 24  9 28 12 26 13  1 15 14 19  3 11 29  5  8 16\n",
      " 25  2 17 18  0  4]\n"
     ]
    }
   ],
   "source": [
    "#Part four\n",
    "from sklearn.linear_model import Perceptron\n",
    "the_model = Perceptron()\n",
    "the_model.fit(X_train, y_train)\n",
    "print(\"Accuracy of perceptron with all features\")\n",
    "print(the_model.score(X_test, y_test))\n",
    "print()\n",
    "print(\"Sort features based on their weights in perceptron with all features\")\n",
    "print(np.argsort(np.abs(the_model.coef_[0])[:30])[::-1])"
   ]
  },
  {
   "cell_type": "code",
   "execution_count": 33,
   "metadata": {
    "ExecuteTime": {
     "end_time": "2020-04-27T18:10:00.878033Z",
     "start_time": "2020-04-27T18:10:00.867779Z"
    }
   },
   "outputs": [
    {
     "name": "stdout",
     "output_type": "stream",
     "text": [
      "0.8859649122807017\n"
     ]
    }
   ],
   "source": [
    "#Part 6\n",
    "the_model = Perceptron()\n",
    "the_model.fit(X_train[:, the_features_index], y_train)\n",
    "print(the_model.score(X_test[:, the_features_index], y_test))"
   ]
  },
  {
   "cell_type": "code",
   "execution_count": 36,
   "metadata": {
    "ExecuteTime": {
     "end_time": "2020-04-27T18:10:11.537846Z",
     "start_time": "2020-04-27T18:10:11.527446Z"
    }
   },
   "outputs": [
    {
     "name": "stdout",
     "output_type": "stream",
     "text": [
      "0.8859649122807017\n"
     ]
    }
   ],
   "source": [
    "#Part 7\n",
    "the_model = Perceptron()\n",
    "the_model.fit(X_train[:, final_features_index], y_train)\n",
    "print(the_model.score(X_test[:, final_features_index], y_test))"
   ]
  },
  {
   "cell_type": "markdown",
   "metadata": {
    "colab_type": "text",
    "id": "o0QJrI36-GNR"
   },
   "source": [
    "explanation of part 5 and 6:"
   ]
  },
  {
   "cell_type": "markdown",
   "metadata": {
    "colab_type": "text",
    "id": "iTC2KZ1h-QO6"
   },
   "source": [
    "<p></p>\n",
    "<br/>\n",
    "<div id=\"sec_conclusion\" style=\"direction:rtl;line-height:300%;\">\n",
    "\t<font face=\"XB Zar\" size=5>\n",
    "\t\t<p></p>\n",
    "\t\t<hr>\n",
    "اهمیت وزن‌های بدست‌آمده در پرسپترون به ترتیب عبارت است از:\n",
    "        <p dir='ltr'>\n",
    "[ 7 21 20  6 23 10 22 27 24  9 28 12 26 13  1 15 14 19  3 11 29  5  8 1625  2 17 18  0  4]\n",
    "            </p>\n",
    "            فیچرهای بدست‌آمده در بخش دوم عبارتند از:\n",
    "            <p dir='ltr'>\n",
    "                [27, 22, 7, 20, 2, 23, 0, 3, 6, 26, 5, 25, 10, 12, 13]\n",
    "        </p>\n",
    "        و فیچرهای بدست‌آ«ده در بخش سوم عبارتند از:\n",
    "        <p dir='ltr'>\n",
    "            [26, 5, 25, 10, 13]\n",
    "        </p>\n",
    "        علت آنکه بیشتر از سه تا هستند این است که یک سری‌شان به تعداد مساوی با دیگر فیچرها کوریلیشن کمتر از ۰.۵ داشتند.\n",
    "        <br>\n",
    "        یک سری از فیچرهایی که در قسمت دوم انتخاب شده‌اند، از فیچرهای مهم در الگوریتم پرسپترون بوده‌اند. این حاکی از آن است که این فیچرها به طور کلی ویژگی‌های مهمی بوده‌اند که در دسته‌بندی داده به خوبی‌کمک می‌توانند بکنند. اما هم در فیچرهای قسمت دو و بخصوص در فیچرهای قسمت سه، می‌بینیم که فیچرها مطابقت چندانی ندارند. یکی از مشکلات روش فیلتر هم در واقع همین است که این روش با نادیده گرفتن \n",
    "        inductive bias\n",
    "        یک الگوریتم خاص، تنها فیچرهای با وابستگی خطی بالا را در نظر می‌گیرد. در حالی که می‌دانیم یادگیری بدون \n",
    "        inductive bias\n",
    "        عملا امکان‌پذیر نیست. در نتیجه فیچرها مطابقت زیادی با \n",
    "        inductive bias\n",
    "        الگوریتم پرسپترون نداشته‌اند. از طرفی تعداد ویژگی‌ها ۳۰ عدد است که تعداد زیادی محسوب نمی‌شود و در نتیجه استفاده از تکنیک انتخاب ویژگی لزوما نمی‌تواند کمک بزرگی به یادگیری انجام دهد.\n",
    "        در نتیجه دقت یادگیری با فیچرهای انتخاب شده کاهش یافته است. اما همچنان دقت نسبتا خوبی را تولید می‌کند.\n",
    "    </font>\n",
    "</div>"
   ]
  },
  {
   "cell_type": "markdown",
   "metadata": {
    "colab_type": "text",
    "id": "k_XG0iKSRqnE"
   },
   "source": [
    "Question: Is it important to extract features before classifying using methods like decision tree and SVM? why? "
   ]
  },
  {
   "cell_type": "markdown",
   "metadata": {
    "colab_type": "text",
    "id": "ro6v3JSBRsd5"
   },
   "source": [
    "می‌تواند منجر به این شود که \n",
    "\n",
    "overfitting\n",
    "\n",
    "اتفاق نیفتد. چرا که مدل‌های کمتر پیچیده‌ای می‌تواند به خود بگیرد.\n",
    "همچنین استفاده کردن از بخشی از فیچرها در حالتی که دیتاست بسیار بزرگ باشد می‌تواند به سرعت یادگیری کمک کند"
   ]
  },
  {
   "cell_type": "markdown",
   "metadata": {
    "colab_type": "text",
    "id": "eQjRm5a6j8KZ"
   },
   "source": [
    "## problem 5. mRMR (10 bonus points) </br>\n",
    "In this part you should write your own code and classify the data using mRMR method.You can use \"pymrmr\" package for this part."
   ]
  },
  {
   "cell_type": "code",
   "execution_count": null,
   "metadata": {
    "colab": {},
    "colab_type": "code",
    "id": "xQs-LPupRoDx"
   },
   "outputs": [],
   "source": []
  }
 ],
 "metadata": {
  "colab": {
   "collapsed_sections": [],
   "name": "MLBio_HW3_P.ipynb",
   "provenance": []
  },
  "kernelspec": {
   "display_name": "Python 3",
   "language": "python",
   "name": "python3"
  },
  "language_info": {
   "codemirror_mode": {
    "name": "ipython",
    "version": 3
   },
   "file_extension": ".py",
   "mimetype": "text/x-python",
   "name": "python",
   "nbconvert_exporter": "python",
   "pygments_lexer": "ipython3",
   "version": "3.7.4"
  },
  "varInspector": {
   "cols": {
    "lenName": 16,
    "lenType": 16,
    "lenVar": 40
   },
   "kernels_config": {
    "python": {
     "delete_cmd_postfix": "",
     "delete_cmd_prefix": "del ",
     "library": "var_list.py",
     "varRefreshCmd": "print(var_dic_list())"
    },
    "r": {
     "delete_cmd_postfix": ") ",
     "delete_cmd_prefix": "rm(",
     "library": "var_list.r",
     "varRefreshCmd": "cat(var_dic_list()) "
    }
   },
   "types_to_exclude": [
    "module",
    "function",
    "builtin_function_or_method",
    "instance",
    "_Feature"
   ],
   "window_display": false
  }
 },
 "nbformat": 4,
 "nbformat_minor": 1
}
