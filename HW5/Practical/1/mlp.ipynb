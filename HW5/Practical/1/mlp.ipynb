{
 "cells": [
  {
   "cell_type": "markdown",
   "metadata": {
    "ExecuteTime": {
     "end_time": "2020-06-25T16:51:29.265197Z",
     "start_time": "2020-06-25T16:51:29.253289Z"
    }
   },
   "source": [
    "first name and last name : __Alireza Akbari__ <br>\n",
    "student number : __95105379__"
   ]
  },
  {
   "cell_type": "code",
   "execution_count": 1,
   "metadata": {
    "ExecuteTime": {
     "end_time": "2020-06-25T16:42:35.775164Z",
     "start_time": "2020-06-25T16:42:33.487004Z"
    }
   },
   "outputs": [],
   "source": [
    "from sklearn.datasets import load_iris\n",
    "import numpy as np\n",
    "from tqdm.notebook import tqdm\n",
    "from sklearn.metrics import accuracy_score\n",
    "import matplotlib.pyplot as plt\n",
    "import torch\n",
    "\n",
    "#import tensorflow as tf\n",
    "\n",
    "from MLP import *"
   ]
  },
  {
   "cell_type": "code",
   "execution_count": 197,
   "metadata": {
    "ExecuteTime": {
     "end_time": "2020-06-08T15:40:24.391549Z",
     "start_time": "2020-06-08T15:40:24.378980Z"
    }
   },
   "outputs": [
    {
     "data": {
      "text/plain": [
       "array([[0.03511903, 0.70538451, 0.25949646],\n",
       "       [0.0242889 , 0.48785555, 0.48785555]])"
      ]
     },
     "execution_count": 197,
     "metadata": {},
     "output_type": "execute_result"
    }
   ],
   "source": [
    "x = np.array([[1,4,3], [1,4,4]])\n",
    "scaled = x - np.max(x, axis = 1, keepdims = True)\n",
    "exps = np.exp(scaled)\n",
    "scores = exps/(np.sum(exps, axis=1, keepdims=True))\n",
    "scores"
   ]
  },
  {
   "cell_type": "code",
   "execution_count": 198,
   "metadata": {
    "ExecuteTime": {
     "end_time": "2020-06-08T15:40:24.663587Z",
     "start_time": "2020-06-08T15:40:24.650612Z"
    }
   },
   "outputs": [
    {
     "data": {
      "text/plain": [
       "2.0667481354348887"
      ]
     },
     "execution_count": 198,
     "metadata": {},
     "output_type": "execute_result"
    }
   ],
   "source": [
    "y = np.array([2, 1])\n",
    "loss = -1 * np.sum(np.log(scores[np.arange(2), y]))\n",
    "loss"
   ]
  },
  {
   "cell_type": "markdown",
   "metadata": {},
   "source": [
    "## loading Dataset"
   ]
  },
  {
   "cell_type": "code",
   "execution_count": 2,
   "metadata": {
    "ExecuteTime": {
     "end_time": "2020-06-25T16:42:50.719540Z",
     "start_time": "2020-06-25T16:42:50.707545Z"
    }
   },
   "outputs": [],
   "source": [
    "iris = load_iris()\n",
    "X = iris.data\n",
    "y = iris.target"
   ]
  },
  {
   "cell_type": "code",
   "execution_count": 3,
   "metadata": {
    "ExecuteTime": {
     "end_time": "2020-06-25T16:42:51.676479Z",
     "start_time": "2020-06-25T16:42:51.661548Z"
    }
   },
   "outputs": [
    {
     "data": {
      "text/plain": [
       "((150, 4), (150,))"
      ]
     },
     "execution_count": 3,
     "metadata": {},
     "output_type": "execute_result"
    }
   ],
   "source": [
    "X.shape, y.shape"
   ]
  },
  {
   "cell_type": "markdown",
   "metadata": {},
   "source": [
    "## MLP\n",
    "\n",
    "#### Complete the MLP.py, and then import it"
   ]
  },
  {
   "cell_type": "code",
   "execution_count": 4,
   "metadata": {
    "ExecuteTime": {
     "end_time": "2020-06-25T16:42:55.576951Z",
     "start_time": "2020-06-25T16:42:55.436301Z"
    }
   },
   "outputs": [
    {
     "data": {
      "application/vnd.jupyter.widget-view+json": {
       "model_id": "e05158f766bd409e8fb9201ed518dd7c",
       "version_major": 2,
       "version_minor": 0
      },
      "text/plain": [
       "HBox(children=(FloatProgress(value=0.0, max=20.0), HTML(value='')))"
      ]
     },
     "metadata": {},
     "output_type": "display_data"
    },
    {
     "name": "stdout",
     "output_type": "stream",
     "text": [
      "1 loss: 288.9298774450034 acc: 0.3333333333333333\n",
      "2 loss: 285.00995553227915 acc: 0.4066666666666667\n",
      "3 loss: 280.9464076774293 acc: 0.36\n",
      "4 loss: 274.81153319251564 acc: 0.17333333333333334\n",
      "5 loss: 268.02729376357433 acc: 0.05333333333333334\n",
      "6 loss: 261.2536083461083 acc: 0.03333333333333333\n",
      "7 loss: 254.79833191807674 acc: 0.013333333333333334\n",
      "8 loss: 248.88797584914494 acc: 0.006666666666666667\n",
      "9 loss: 243.7391980858785 acc: 0.006666666666666667\n",
      "10 loss: 239.5244520411382 acc: 0.0\n",
      "11 loss: 236.2169686321986 acc: 0.0\n",
      "12 loss: 233.47286994377322 acc: 0.0\n",
      "13 loss: 230.86079410072472 acc: 0.0\n",
      "14 loss: 228.17144089205243 acc: 0.0\n",
      "15 loss: 225.38723843950356 acc: 0.0\n",
      "16 loss: 222.54380649845126 acc: 0.0\n",
      "17 loss: 219.6726312433692 acc: 0.0\n",
      "18 loss: 216.7918896890272 acc: 0.0\n",
      "19 loss: 213.9082042508883 acc: 0.0\n",
      "20 loss: 211.0187133066172 acc: 0.0\n",
      "\n"
     ]
    }
   ],
   "source": [
    "mlp = MLP()\n",
    "mlp.train(X, y, 20)"
   ]
  },
  {
   "cell_type": "markdown",
   "metadata": {},
   "source": [
    "## plotting performance"
   ]
  },
  {
   "cell_type": "code",
   "execution_count": 5,
   "metadata": {
    "ExecuteTime": {
     "end_time": "2020-06-25T16:43:03.603783Z",
     "start_time": "2020-06-25T16:43:03.287376Z"
    }
   },
   "outputs": [
    {
     "data": {
      "image/png": "[encoded data removed]",
      "text/plain": [
       "<Figure size 432x288 with 2 Axes>"
      ]
     },
     "metadata": {
      "needs_background": "light"
     },
     "output_type": "display_data"
    }
   ],
   "source": [
    "plt.figure()\n",
    "plt.subplot(2,1,1)\n",
    "plt.title('loss')\n",
    "plt.plot(mlp.hist['loss'])\n",
    "\n",
    "plt.subplot(2,1,2)\n",
    "plt.title('acc')\n",
    "plt.plot(mlp.hist['acc'])\n",
    "plt.show()"
   ]
  },
  {
   "cell_type": "code",
   "execution_count": null,
   "metadata": {},
   "outputs": [],
   "source": []
  }
 ],
 "metadata": {
  "kernelspec": {
   "display_name": "ML_hw1_kernel",
   "language": "python",
   "name": "ml_hw1_kernel"
  },
  "language_info": {
   "codemirror_mode": {
    "name": "ipython",
    "version": 3
   },
   "file_extension": ".py",
   "mimetype": "text/x-python",
   "name": "python",
   "nbconvert_exporter": "python",
   "pygments_lexer": "ipython3",
   "version": "3.7.6"
  },
  "varInspector": {
   "cols": {
    "lenName": 16,
    "lenType": 16,
    "lenVar": 40
   },
   "kernels_config": {
    "python": {
     "delete_cmd_postfix": "",
     "delete_cmd_prefix": "del ",
     "library": "var_list.py",
     "varRefreshCmd": "print(var_dic_list())"
    },
    "r": {
     "delete_cmd_postfix": ") ",
     "delete_cmd_prefix": "rm(",
     "library": "var_list.r",
     "varRefreshCmd": "cat(var_dic_list()) "
    }
   },
   "types_to_exclude": [
    "module",
    "function",
    "builtin_function_or_method",
    "instance",
    "_Feature"
   ],
   "window_display": false
  }
 },
 "nbformat": 4,
 "nbformat_minor": 2
}
