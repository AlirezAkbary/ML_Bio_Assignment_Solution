{
 "cells": [
  {
   "cell_type": "markdown",
   "metadata": {},
   "source": [
    "# Machine Learning in Bioinformatics"
   ]
  },
  {
   "cell_type": "markdown",
   "metadata": {},
   "source": [
    "# Homework 2: \n",
    " !!! If you don't fill these fields, your homework does not count !!!<by/>\n",
    " #### first name and last name : Alireza Akbari\n",
    " #### student number : 95105379"
   ]
  },
  {
   "cell_type": "markdown",
   "metadata": {},
   "source": [
    "You can run cells by hitting `Shift` + `Enter` or `ctrl` + `Enter`. <br/>\n",
    "We highly recommend you to read each line of code carefully and try to understand what it exactly does. <br/>\n",
    "Just alter the parts that is between green comments and specified for you. Please do not change other parts."
   ]
  },
  {
   "cell_type": "code",
   "execution_count": 1,
   "metadata": {
    "ExecuteTime": {
     "end_time": "2020-03-30T19:24:35.898211Z",
     "start_time": "2020-03-30T19:24:34.393430Z"
    }
   },
   "outputs": [],
   "source": [
    "# importing libraries\n",
    "import pandas as pd\n",
    "from sklearn.model_selection import train_test_split\n",
    "import numpy as np\n",
    "import matplotlib.pyplot as plt\n",
    "from sklearn.datasets import load_breast_cancer\n",
    "%matplotlib inline\n",
    "plt.rcParams['figure.figsize'] = (10.0, 10.0)"
   ]
  },
  {
   "cell_type": "markdown",
   "metadata": {},
   "source": [
    "# Problem 1. soft margin SVM\n",
    "### about the Data:<br/>\n",
    "The purpose of this project is to classify tumors into malignant or benign. The following dataset is constructed based on images of tumors. Features are computed from a digitized image of a fine needle aspirate (FNA) of a breast mass.\n",
    "For more details about the features of this dataset you can visit this link:\n",
    "https://scikit-learn.org/stable/datasets/index.html#breast-cancer-dataset<br/>\n",
    "This dataset contains 30 features and 1 label that is called target. We should find a proper hyperplane that separates malignant and benign samples.\n",
    "The original dataset labels is 0 and 1 and in the following code boxes we change it to -1 and 1."
   ]
  },
  {
   "cell_type": "code",
   "execution_count": 2,
   "metadata": {
    "ExecuteTime": {
     "end_time": "2020-03-30T19:24:40.479298Z",
     "start_time": "2020-03-30T19:24:40.434179Z"
    }
   },
   "outputs": [
    {
     "data": {
      "text/html": [
       "<div>\n",
       "<style scoped>\n",
       "    .dataframe tbody tr th:only-of-type {\n",
       "        vertical-align: middle;\n",
       "    }\n",
       "\n",
       "    .dataframe tbody tr th {\n",
       "        vertical-align: top;\n",
       "    }\n",
       "\n",
       "    .dataframe thead th {\n",
       "        text-align: right;\n",
       "    }\n",
       "</style>\n",
       "<table border=\"1\" class=\"dataframe\">\n",
       "  <thead>\n",
       "    <tr style=\"text-align: right;\">\n",
       "      <th></th>\n",
       "      <th>mean radius</th>\n",
       "      <th>mean texture</th>\n",
       "      <th>mean perimeter</th>\n",
       "      <th>mean area</th>\n",
       "      <th>mean smoothness</th>\n",
       "      <th>mean compactness</th>\n",
       "      <th>mean concavity</th>\n",
       "      <th>mean concave points</th>\n",
       "      <th>mean symmetry</th>\n",
       "      <th>mean fractal dimension</th>\n",
       "      <th>...</th>\n",
       "      <th>worst texture</th>\n",
       "      <th>worst perimeter</th>\n",
       "      <th>worst area</th>\n",
       "      <th>worst smoothness</th>\n",
       "      <th>worst compactness</th>\n",
       "      <th>worst concavity</th>\n",
       "      <th>worst concave points</th>\n",
       "      <th>worst symmetry</th>\n",
       "      <th>worst fractal dimension</th>\n",
       "      <th>target</th>\n",
       "    </tr>\n",
       "  </thead>\n",
       "  <tbody>\n",
       "    <tr>\n",
       "      <th>0</th>\n",
       "      <td>17.99</td>\n",
       "      <td>10.38</td>\n",
       "      <td>122.80</td>\n",
       "      <td>1001.0</td>\n",
       "      <td>0.11840</td>\n",
       "      <td>0.27760</td>\n",
       "      <td>0.3001</td>\n",
       "      <td>0.14710</td>\n",
       "      <td>0.2419</td>\n",
       "      <td>0.07871</td>\n",
       "      <td>...</td>\n",
       "      <td>17.33</td>\n",
       "      <td>184.60</td>\n",
       "      <td>2019.0</td>\n",
       "      <td>0.1622</td>\n",
       "      <td>0.6656</td>\n",
       "      <td>0.7119</td>\n",
       "      <td>0.2654</td>\n",
       "      <td>0.4601</td>\n",
       "      <td>0.11890</td>\n",
       "      <td>0.0</td>\n",
       "    </tr>\n",
       "    <tr>\n",
       "      <th>1</th>\n",
       "      <td>20.57</td>\n",
       "      <td>17.77</td>\n",
       "      <td>132.90</td>\n",
       "      <td>1326.0</td>\n",
       "      <td>0.08474</td>\n",
       "      <td>0.07864</td>\n",
       "      <td>0.0869</td>\n",
       "      <td>0.07017</td>\n",
       "      <td>0.1812</td>\n",
       "      <td>0.05667</td>\n",
       "      <td>...</td>\n",
       "      <td>23.41</td>\n",
       "      <td>158.80</td>\n",
       "      <td>1956.0</td>\n",
       "      <td>0.1238</td>\n",
       "      <td>0.1866</td>\n",
       "      <td>0.2416</td>\n",
       "      <td>0.1860</td>\n",
       "      <td>0.2750</td>\n",
       "      <td>0.08902</td>\n",
       "      <td>0.0</td>\n",
       "    </tr>\n",
       "    <tr>\n",
       "      <th>2</th>\n",
       "      <td>19.69</td>\n",
       "      <td>21.25</td>\n",
       "      <td>130.00</td>\n",
       "      <td>1203.0</td>\n",
       "      <td>0.10960</td>\n",
       "      <td>0.15990</td>\n",
       "      <td>0.1974</td>\n",
       "      <td>0.12790</td>\n",
       "      <td>0.2069</td>\n",
       "      <td>0.05999</td>\n",
       "      <td>...</td>\n",
       "      <td>25.53</td>\n",
       "      <td>152.50</td>\n",
       "      <td>1709.0</td>\n",
       "      <td>0.1444</td>\n",
       "      <td>0.4245</td>\n",
       "      <td>0.4504</td>\n",
       "      <td>0.2430</td>\n",
       "      <td>0.3613</td>\n",
       "      <td>0.08758</td>\n",
       "      <td>0.0</td>\n",
       "    </tr>\n",
       "    <tr>\n",
       "      <th>3</th>\n",
       "      <td>11.42</td>\n",
       "      <td>20.38</td>\n",
       "      <td>77.58</td>\n",
       "      <td>386.1</td>\n",
       "      <td>0.14250</td>\n",
       "      <td>0.28390</td>\n",
       "      <td>0.2414</td>\n",
       "      <td>0.10520</td>\n",
       "      <td>0.2597</td>\n",
       "      <td>0.09744</td>\n",
       "      <td>...</td>\n",
       "      <td>26.50</td>\n",
       "      <td>98.87</td>\n",
       "      <td>567.7</td>\n",
       "      <td>0.2098</td>\n",
       "      <td>0.8663</td>\n",
       "      <td>0.6869</td>\n",
       "      <td>0.2575</td>\n",
       "      <td>0.6638</td>\n",
       "      <td>0.17300</td>\n",
       "      <td>0.0</td>\n",
       "    </tr>\n",
       "    <tr>\n",
       "      <th>4</th>\n",
       "      <td>20.29</td>\n",
       "      <td>14.34</td>\n",
       "      <td>135.10</td>\n",
       "      <td>1297.0</td>\n",
       "      <td>0.10030</td>\n",
       "      <td>0.13280</td>\n",
       "      <td>0.1980</td>\n",
       "      <td>0.10430</td>\n",
       "      <td>0.1809</td>\n",
       "      <td>0.05883</td>\n",
       "      <td>...</td>\n",
       "      <td>16.67</td>\n",
       "      <td>152.20</td>\n",
       "      <td>1575.0</td>\n",
       "      <td>0.1374</td>\n",
       "      <td>0.2050</td>\n",
       "      <td>0.4000</td>\n",
       "      <td>0.1625</td>\n",
       "      <td>0.2364</td>\n",
       "      <td>0.07678</td>\n",
       "      <td>0.0</td>\n",
       "    </tr>\n",
       "  </tbody>\n",
       "</table>\n",
       "<p>5 rows × 31 columns</p>\n",
       "</div>"
      ],
      "text/plain": [
       "   mean radius  mean texture  mean perimeter  mean area  mean smoothness  \\\n",
       "0        17.99         10.38          122.80     1001.0          0.11840   \n",
       "1        20.57         17.77          132.90     1326.0          0.08474   \n",
       "2        19.69         21.25          130.00     1203.0          0.10960   \n",
       "3        11.42         20.38           77.58      386.1          0.14250   \n",
       "4        20.29         14.34          135.10     1297.0          0.10030   \n",
       "\n",
       "   mean compactness  mean concavity  mean concave points  mean symmetry  \\\n",
       "0           0.27760          0.3001              0.14710         0.2419   \n",
       "1           0.07864          0.0869              0.07017         0.1812   \n",
       "2           0.15990          0.1974              0.12790         0.2069   \n",
       "3           0.28390          0.2414              0.10520         0.2597   \n",
       "4           0.13280          0.1980              0.10430         0.1809   \n",
       "\n",
       "   mean fractal dimension  ...  worst texture  worst perimeter  worst area  \\\n",
       "0                 0.07871  ...          17.33           184.60      2019.0   \n",
       "1                 0.05667  ...          23.41           158.80      1956.0   \n",
       "2                 0.05999  ...          25.53           152.50      1709.0   \n",
       "3                 0.09744  ...          26.50            98.87       567.7   \n",
       "4                 0.05883  ...          16.67           152.20      1575.0   \n",
       "\n",
       "   worst smoothness  worst compactness  worst concavity  worst concave points  \\\n",
       "0            0.1622             0.6656           0.7119                0.2654   \n",
       "1            0.1238             0.1866           0.2416                0.1860   \n",
       "2            0.1444             0.4245           0.4504                0.2430   \n",
       "3            0.2098             0.8663           0.6869                0.2575   \n",
       "4            0.1374             0.2050           0.4000                0.1625   \n",
       "\n",
       "   worst symmetry  worst fractal dimension  target  \n",
       "0          0.4601                  0.11890     0.0  \n",
       "1          0.2750                  0.08902     0.0  \n",
       "2          0.3613                  0.08758     0.0  \n",
       "3          0.6638                  0.17300     0.0  \n",
       "4          0.2364                  0.07678     0.0  \n",
       "\n",
       "[5 rows x 31 columns]"
      ]
     },
     "execution_count": 2,
     "metadata": {},
     "output_type": "execute_result"
    }
   ],
   "source": [
    "cancer = load_breast_cancer()\n",
    "df = pd.DataFrame(np.c_[cancer[\"data\"], cancer[\"target\"]], columns = np.append(cancer[\"feature_names\"],[\"target\"]))\n",
    "df.head()"
   ]
  },
  {
   "cell_type": "code",
   "execution_count": 3,
   "metadata": {
    "ExecuteTime": {
     "end_time": "2020-03-30T19:24:42.794011Z",
     "start_time": "2020-03-30T19:24:42.761166Z"
    }
   },
   "outputs": [
    {
     "name": "stdout",
     "output_type": "stream",
     "text": [
      "71.8804920913884 %\n",
      "71.8804920913884 %\n",
      "20.035149384885763 %\n",
      "20.035149384885763 %\n",
      "8.084358523725834 %\n",
      "8.084358523725834 %\n"
     ]
    }
   ],
   "source": [
    "cancer.target = np.where(cancer.target==0, -1, cancer.target) \n",
    "X_train ,X_test ,X_val ,y_train ,y_test ,y_val = None ,None ,None ,None ,None ,None\n",
    "################################################################################\n",
    "# TODO: using train_test_split package, split your data into 3 numpy array     #\n",
    "# called X_train, X_test, and X_val and also split the corresponding labels as #\n",
    "# y_train, y_test, and y_val. After spliting, the ratio of your data should be # \n",
    "# approximately like this:                                                     #\n",
    "#  Train : 72%     test : 20%       validation : 8%                            #\n",
    "################################################################################\n",
    "\n",
    "#write your code here\n",
    "num_data = cancer.data.shape[0]\n",
    "df.loc[df['target'] == 0, 'target'] = -1\n",
    "train, test = train_test_split(df, test_size=0.2, random_state=1)\n",
    "train, validation = train_test_split(train, test_size=1-((num_data*0.72) / (num_data*0.8)), random_state=1)\n",
    "X_train, y_train = train.iloc[:, :30].to_numpy(), train.iloc[:, -1].to_numpy()\n",
    "X_test, y_test = test.iloc[:, :30].to_numpy(), test.iloc[:, -1].to_numpy()\n",
    "X_val, y_val = validation.iloc[:, :30].to_numpy(), validation.iloc[:, -1].to_numpy()\n",
    "\n",
    "################################################################################\n",
    "#                                 END OF YOUR CODE                             #\n",
    "################################################################################\n",
    "print((X_train.shape[0]/cancer.data.shape[0]) * 100, \"%\")\n",
    "print((y_train.shape[0]/cancer.data.shape[0]) * 100, \"%\")\n",
    "print((X_test.shape[0]/cancer.data.shape[0]) * 100, \"%\")\n",
    "print((y_test.shape[0]/cancer.data.shape[0]) * 100, \"%\")\n",
    "print((X_val.shape[0]/cancer.data.shape[0]) * 100, \"%\")\n",
    "print((y_val.shape[0]/cancer.data.shape[0]) * 100, \"%\")"
   ]
  },
  {
   "cell_type": "markdown",
   "metadata": {},
   "source": [
    "### soft margin SVM optimization:<br/>\n",
    "We add 1 at the beginning of each Xs data (X_train, X_val , ...) and then the bias will be calculated implicitly.\n",
    "Then you should minimize the following SVM loss function (using gradient descent) with changing parameters of model.<br>\n",
    "In this notation: \n",
    "\\begin{equation}\n",
    "x_i , y_i\n",
    "\\end{equation}\n",
    "refers to feature vector of the sample and the label of our training data<br>\n",
    "and this is SVM loss function:\n",
    "\n",
    "\\begin{equation}\n",
    "\\large\n",
    "J(W) = \\frac{1}{N} \\sum_{i=1}^{N}{L^{(i)}} + \\frac{\\lambda}{2} ||W||^2\\\\\n",
    "\\large\n",
    "L^{(i)} ={max(0, 1 - y_i(w^{T}x_i)})\n",
    "\\;\\\\\n",
    "\\end{equation} \n"
   ]
  },
  {
   "cell_type": "code",
   "execution_count": 4,
   "metadata": {
    "ExecuteTime": {
     "end_time": "2020-03-30T19:24:45.218180Z",
     "start_time": "2020-03-30T19:24:45.211302Z"
    }
   },
   "outputs": [
    {
     "name": "stdout",
     "output_type": "stream",
     "text": [
      "(409, 31)\n",
      "(46, 31)\n",
      "(114, 31)\n"
     ]
    }
   ],
   "source": [
    "# >>>>>WARNING: RUN THIS CELL ONLY ONCE!<<<<<\n",
    "\n",
    "# adding 1s to the end of feature vectors to be multiplied by bias term of weights\n",
    "X_val = np.insert(X_val, 0, 1, axis=1)\n",
    "X_train = np.insert(X_train, 0, 1, axis=1)\n",
    "X_test = np.insert(X_test, 0, 1, axis=1)\n",
    "print(X_train.shape)  \n",
    "print(X_val.shape)  \n",
    "print(X_test.shape) \n"
   ]
  },
  {
   "cell_type": "markdown",
   "metadata": {},
   "source": [
    "Complete the following functions in SVM class. In the part that you should compute loss function of this class, you are not allowed to use \"for\" loop."
   ]
  },
  {
   "cell_type": "code",
   "execution_count": 5,
   "metadata": {
    "ExecuteTime": {
     "end_time": "2020-03-30T19:24:46.729603Z",
     "start_time": "2020-03-30T19:24:46.701717Z"
    }
   },
   "outputs": [],
   "source": [
    "class SVM:\n",
    "    def __init__(self, n_features: int, std: float):\n",
    "        \"\"\"\n",
    "        n_features: number of features in (or the dimension of) each instance\n",
    "        std: standard deviation used in the initialization of the weights of svm\n",
    "        \"\"\"\n",
    "        self.n_features = n_features\n",
    "        ################################################################################\n",
    "        # TODO: Initialize the weights of svm using random normal distribution with    #\n",
    "        # standard deviation equals to std.                                            #\n",
    "        ################################################################################\n",
    "\n",
    "        #write your code here\n",
    "        self.w = std * np.random.randn(n_features)\n",
    "        ################################################################################\n",
    "        #                                 END OF YOUR CODE                             #\n",
    "        ################################################################################\n",
    "\n",
    "    def loss(self, X: np.ndarray, y: np.ndarray, reg_coeff: float):\n",
    "        \"\"\"\n",
    "        X: training instances as a 2d-array with shape (num_train, n_features)\n",
    "        y: labels corresponsing to the given training instances as a 1d-array with shape (num_train,)\n",
    "        reg_coeff: L2-regularization coefficient\n",
    "        \"\"\"\n",
    "        loss = 0.0\n",
    "        \n",
    "        #################################################################################\n",
    "        # TODO: Compute the hinge loss specified in the notebook and save it in the loss#                                                   # loss variable.                                                               #\n",
    "        # NOTE: YOU ARE NOT ALLOWED TO USE FOR LOOPS!                                   #\n",
    "        # Don't forget L2-regularization term in your implementation!                   #\n",
    "        #################################################################################\n",
    "        \n",
    "        #write your code here\n",
    "        this = np.sum(np.maximum(1 - X.dot(self.w)*y,0))\n",
    "        #print(this)\n",
    "        return np.sum(np.maximum(1 - X.dot(self.w)*y, 0))/X.shape[0] + 0.5*reg_coeff*np.sum(np.square(self.w))\n",
    "    \n",
    "        ################################################################################\n",
    "        #                                 END OF YOUR CODE                             #\n",
    "        ################################################################################\n",
    "        return loss\n",
    "        \n",
    "    def update_weights(self,  X: np.ndarray, y: np.ndarray, learning_rate: float , reg_coeff: float):\n",
    "        \"\"\"\n",
    "        Updates the weights of the svm using the gradient of computed loss with respect to the weights. \n",
    "        learning_rate: learning rate that will be used in gradient descent to update the weights\n",
    "        \"\"\"\n",
    "        ################################################################################\n",
    "        # TODO: Compute the gradient of loss computed above w.r.t the svm weights.     #\n",
    "        # and then update self.w with the computed gradient.                           #\n",
    "        # (don't forget learning rate and reg_coeff in update rule)                    #\n",
    "        # Don't forget L2-regularization term in your implementation!                  #\n",
    "        ################################################################################\n",
    "        \n",
    "        #write your code here\n",
    "        loss_vector = np.maximum(1 - X.dot(self.w)*y, 0)\n",
    "        loss_vector[loss_vector > 0] = 1\n",
    "        \n",
    "        gradient = -1*np.sum(X* y.reshape((y.shape[0], 1)) * loss_vector.reshape((loss_vector.shape[0], 1)), axis=0)/X.shape[0] + self.w*reg_coeff\n",
    "        self.w = self.w - learning_rate*gradient\n",
    "        ################################################################################\n",
    "        #                                 END OF YOUR CODE                             #\n",
    "        ################################################################################\n",
    "    def predict(self, X):\n",
    "        \"\"\"\n",
    "        X: Numpy 2d-array of instances\n",
    "        \"\"\"\n",
    "        y_pred = None\n",
    "        ################################################################################\n",
    "        # TODO: predict the labels for the instances in X and save them in y_pred.     #                                      #\n",
    "        ################################################################################\n",
    "\n",
    "        #write your code here\n",
    "        y_pred = X.dot(self.w)\n",
    "        y_pred[y_pred > 0] = 1\n",
    "        y_pred[y_pred <= 0] = -1\n",
    "        ################################################################################\n",
    "        #                                 END OF YOUR CODE                             #\n",
    "        ################################################################################\n",
    "        return y_pred\n"
   ]
  },
  {
   "cell_type": "markdown",
   "metadata": {},
   "source": [
    "This cell contains your hyper parameters:"
   ]
  },
  {
   "cell_type": "code",
   "execution_count": 6,
   "metadata": {
    "ExecuteTime": {
     "end_time": "2020-03-30T19:24:48.349774Z",
     "start_time": "2020-03-30T19:24:48.345902Z"
    }
   },
   "outputs": [],
   "source": [
    "std = 0.0001\n",
    "num_iters = 15000\n",
    "reg_coeff = 20\n",
    "learning_rate=1e-7"
   ]
  },
  {
   "cell_type": "markdown",
   "metadata": {},
   "source": [
    "In this cell using your SVM class, we want to train our model for cancer data:<br/>\n",
    "In every iteration you should see your training loss decrease."
   ]
  },
  {
   "cell_type": "code",
   "execution_count": 7,
   "metadata": {
    "ExecuteTime": {
     "end_time": "2020-03-30T19:24:52.571541Z",
     "start_time": "2020-03-30T19:24:49.749341Z"
    }
   },
   "outputs": [
    {
     "name": "stdout",
     "output_type": "stream",
     "text": [
      "iteration 0, loss 0.978181, val acc 30.43%\n",
      "iteration 100, loss 0.899236, val acc 30.43%\n",
      "iteration 200, loss 0.884008, val acc 30.43%\n",
      "iteration 300, loss 0.869567, val acc 30.43%\n",
      "iteration 400, loss 0.855938, val acc 30.43%\n",
      "iteration 500, loss 0.842348, val acc 30.43%\n",
      "iteration 600, loss 0.828798, val acc 32.61%\n",
      "iteration 700, loss 0.815261, val acc 41.30%\n",
      "iteration 800, loss 0.801729, val acc 54.35%\n",
      "iteration 900, loss 0.788224, val acc 67.39%\n",
      "iteration 1000, loss 0.774825, val acc 84.78%\n",
      "iteration 1100, loss 0.761519, val acc 84.78%\n",
      "iteration 1200, loss 0.748353, val acc 86.96%\n",
      "iteration 1300, loss 0.735202, val acc 84.78%\n",
      "iteration 1400, loss 0.722057, val acc 84.78%\n",
      "iteration 1500, loss 0.708952, val acc 84.78%\n",
      "iteration 1600, loss 0.695857, val acc 84.78%\n",
      "iteration 1700, loss 0.682767, val acc 86.96%\n",
      "iteration 1800, loss 0.669699, val acc 86.96%\n",
      "iteration 1900, loss 0.656676, val acc 86.96%\n",
      "iteration 2000, loss 0.643659, val acc 86.96%\n",
      "iteration 2100, loss 0.630670, val acc 86.96%\n",
      "iteration 2200, loss 0.617764, val acc 86.96%\n",
      "iteration 2300, loss 0.604870, val acc 86.96%\n",
      "iteration 2400, loss 0.592011, val acc 86.96%\n",
      "iteration 2500, loss 0.579322, val acc 86.96%\n",
      "iteration 2600, loss 0.566789, val acc 86.96%\n",
      "iteration 2700, loss 0.554262, val acc 86.96%\n",
      "iteration 2800, loss 0.542197, val acc 86.96%\n",
      "iteration 2900, loss 0.530454, val acc 86.96%\n",
      "iteration 3000, loss 0.519355, val acc 86.96%\n",
      "iteration 3100, loss 0.508614, val acc 86.96%\n",
      "iteration 3200, loss 0.498299, val acc 86.96%\n",
      "iteration 3300, loss 0.488719, val acc 86.96%\n",
      "iteration 3400, loss 0.479699, val acc 86.96%\n",
      "iteration 3500, loss 0.470990, val acc 86.96%\n",
      "iteration 3600, loss 0.462702, val acc 86.96%\n",
      "iteration 3700, loss 0.454471, val acc 86.96%\n",
      "iteration 3800, loss 0.446586, val acc 86.96%\n",
      "iteration 3900, loss 0.439220, val acc 86.96%\n",
      "iteration 4000, loss 0.432131, val acc 86.96%\n",
      "iteration 4100, loss 0.425722, val acc 86.96%\n",
      "iteration 4200, loss 0.419721, val acc 86.96%\n",
      "iteration 4300, loss 0.414021, val acc 86.96%\n",
      "iteration 4400, loss 0.408675, val acc 86.96%\n",
      "iteration 4500, loss 0.403782, val acc 86.96%\n",
      "iteration 4600, loss 0.399258, val acc 86.96%\n",
      "iteration 4700, loss 0.394979, val acc 86.96%\n",
      "iteration 4800, loss 0.390915, val acc 86.96%\n",
      "iteration 4900, loss 0.387100, val acc 86.96%\n",
      "iteration 5000, loss 0.383422, val acc 86.96%\n",
      "iteration 5100, loss 0.379917, val acc 86.96%\n",
      "iteration 5200, loss 0.376610, val acc 86.96%\n",
      "iteration 5300, loss 0.373452, val acc 86.96%\n",
      "iteration 5400, loss 0.370466, val acc 86.96%\n",
      "iteration 5500, loss 0.367683, val acc 86.96%\n",
      "iteration 5600, loss 0.365000, val acc 86.96%\n",
      "iteration 5700, loss 0.362470, val acc 86.96%\n",
      "iteration 5800, loss 0.359992, val acc 86.96%\n",
      "iteration 5900, loss 0.357540, val acc 86.96%\n",
      "iteration 6000, loss 0.355195, val acc 86.96%\n",
      "iteration 6100, loss 0.352921, val acc 86.96%\n",
      "iteration 6200, loss 0.350749, val acc 86.96%\n",
      "iteration 6300, loss 0.348591, val acc 86.96%\n",
      "iteration 6400, loss 0.346557, val acc 86.96%\n",
      "iteration 6500, loss 0.344556, val acc 86.96%\n",
      "iteration 6600, loss 0.342556, val acc 86.96%\n",
      "iteration 6700, loss 0.340557, val acc 86.96%\n",
      "iteration 6800, loss 0.338582, val acc 89.13%\n",
      "iteration 6900, loss 0.336663, val acc 89.13%\n",
      "iteration 7000, loss 0.334774, val acc 89.13%\n",
      "iteration 7100, loss 0.332913, val acc 89.13%\n",
      "iteration 7200, loss 0.331067, val acc 89.13%\n",
      "iteration 7300, loss 0.329222, val acc 89.13%\n",
      "iteration 7400, loss 0.327378, val acc 89.13%\n",
      "iteration 7500, loss 0.325534, val acc 89.13%\n",
      "iteration 7600, loss 0.323774, val acc 89.13%\n",
      "iteration 7700, loss 0.322062, val acc 89.13%\n",
      "iteration 7800, loss 0.320357, val acc 89.13%\n",
      "iteration 7900, loss 0.318658, val acc 89.13%\n",
      "iteration 8000, loss 0.317022, val acc 89.13%\n",
      "iteration 8100, loss 0.315431, val acc 89.13%\n",
      "iteration 8200, loss 0.313854, val acc 89.13%\n",
      "iteration 8300, loss 0.312371, val acc 89.13%\n",
      "iteration 8400, loss 0.310914, val acc 89.13%\n",
      "iteration 8500, loss 0.309541, val acc 89.13%\n",
      "iteration 8600, loss 0.308191, val acc 89.13%\n",
      "iteration 8700, loss 0.306912, val acc 89.13%\n",
      "iteration 8800, loss 0.305665, val acc 89.13%\n",
      "iteration 8900, loss 0.304433, val acc 89.13%\n",
      "iteration 9000, loss 0.303280, val acc 89.13%\n",
      "iteration 9100, loss 0.302138, val acc 89.13%\n",
      "iteration 9200, loss 0.300999, val acc 89.13%\n",
      "iteration 9300, loss 0.299861, val acc 89.13%\n",
      "iteration 9400, loss 0.298762, val acc 89.13%\n",
      "iteration 9500, loss 0.297674, val acc 89.13%\n",
      "iteration 9600, loss 0.296592, val acc 89.13%\n",
      "iteration 9700, loss 0.295557, val acc 89.13%\n",
      "iteration 9800, loss 0.294525, val acc 89.13%\n",
      "iteration 9900, loss 0.293494, val acc 89.13%\n",
      "iteration 10000, loss 0.292473, val acc 89.13%\n",
      "iteration 10100, loss 0.291496, val acc 89.13%\n",
      "iteration 10200, loss 0.290540, val acc 89.13%\n",
      "iteration 10300, loss 0.289594, val acc 89.13%\n",
      "iteration 10400, loss 0.288688, val acc 89.13%\n",
      "iteration 10500, loss 0.287787, val acc 89.13%\n",
      "iteration 10600, loss 0.286915, val acc 89.13%\n",
      "iteration 10700, loss 0.286044, val acc 89.13%\n",
      "iteration 10800, loss 0.285197, val acc 89.13%\n",
      "iteration 10900, loss 0.284362, val acc 89.13%\n",
      "iteration 11000, loss 0.283540, val acc 89.13%\n",
      "iteration 11100, loss 0.282719, val acc 89.13%\n",
      "iteration 11200, loss 0.281898, val acc 89.13%\n",
      "iteration 11300, loss 0.281084, val acc 89.13%\n",
      "iteration 11400, loss 0.280324, val acc 89.13%\n",
      "iteration 11500, loss 0.279590, val acc 89.13%\n",
      "iteration 11600, loss 0.278878, val acc 89.13%\n",
      "iteration 11700, loss 0.278176, val acc 89.13%\n",
      "iteration 11800, loss 0.277481, val acc 89.13%\n",
      "iteration 11900, loss 0.276803, val acc 89.13%\n",
      "iteration 12000, loss 0.276132, val acc 89.13%\n",
      "iteration 12100, loss 0.275499, val acc 89.13%\n",
      "iteration 12200, loss 0.274872, val acc 89.13%\n",
      "iteration 12300, loss 0.274245, val acc 89.13%\n",
      "iteration 12400, loss 0.273635, val acc 89.13%\n",
      "iteration 12500, loss 0.273042, val acc 89.13%\n",
      "iteration 12600, loss 0.272463, val acc 89.13%\n",
      "iteration 12700, loss 0.271900, val acc 89.13%\n",
      "iteration 12800, loss 0.271343, val acc 89.13%\n",
      "iteration 12900, loss 0.270804, val acc 89.13%\n",
      "iteration 13000, loss 0.270288, val acc 89.13%\n",
      "iteration 13100, loss 0.269776, val acc 89.13%\n",
      "iteration 13200, loss 0.269264, val acc 89.13%\n",
      "iteration 13300, loss 0.268753, val acc 89.13%\n",
      "iteration 13400, loss 0.268275, val acc 89.13%\n",
      "iteration 13500, loss 0.267809, val acc 89.13%\n",
      "iteration 13600, loss 0.267346, val acc 89.13%\n",
      "iteration 13700, loss 0.266882, val acc 89.13%\n",
      "iteration 13800, loss 0.266432, val acc 89.13%\n",
      "iteration 13900, loss 0.266002, val acc 89.13%\n",
      "iteration 14000, loss 0.265574, val acc 89.13%\n",
      "iteration 14100, loss 0.265146, val acc 89.13%\n",
      "iteration 14200, loss 0.264718, val acc 89.13%\n",
      "iteration 14300, loss 0.264291, val acc 89.13%\n",
      "iteration 14400, loss 0.263866, val acc 89.13%\n",
      "iteration 14500, loss 0.263450, val acc 89.13%\n",
      "iteration 14600, loss 0.263035, val acc 89.13%\n",
      "iteration 14700, loss 0.262633, val acc 89.13%\n",
      "iteration 14800, loss 0.262235, val acc 89.13%\n",
      "iteration 14900, loss 0.261842, val acc 89.13%\n"
     ]
    }
   ],
   "source": [
    "from sklearn.metrics import accuracy_score\n",
    "model = SVM(n_features=X_train.shape[1], std = std )\n",
    "loss_history = []\n",
    "loss_val_history = []\n",
    "for it in range(num_iters):\n",
    "    loss = model.loss(X_train, y_train, reg_coeff)\n",
    "    loss_val = model.loss(X_val, y_val, reg_coeff)\n",
    "    if it % 100 == 0:\n",
    "        val_preds =  model.predict(X_val)\n",
    "        print('iteration %d, loss %f, val acc %.2f%%' % (it, loss,  accuracy_score(y_val,val_preds) * 100))\n",
    "    model.update_weights(X_train, y_train, learning_rate , reg_coeff)\n",
    "    loss_history.append(loss)\n",
    "    loss_val_history.append(loss_val)"
   ]
  },
  {
   "cell_type": "code",
   "execution_count": 8,
   "metadata": {
    "ExecuteTime": {
     "end_time": "2020-03-30T19:24:56.139422Z",
     "start_time": "2020-03-30T19:24:55.874083Z"
    }
   },
   "outputs": [
    {
     "data": {
      "image/png": "[encoded data removed]",
      "text/plain": [
       "<Figure size 720x720 with 1 Axes>"
      ]
     },
     "metadata": {
      "needs_background": "light"
     },
     "output_type": "display_data"
    }
   ],
   "source": [
    "####################################################################################\n",
    "# TODO: using matplotlib.pyplot package plot the training loss and validation loss #\n",
    "# using loss_loss_history and loss_val_history                                     #\n",
    "####################################################################################\n",
    "\n",
    "#write your code here\n",
    "plt.plot(loss_history, 'b-', label=\"Training Loss\")\n",
    "plt.plot(loss_val_history, 'r-', label=\"Validation Loss\")\n",
    "plt.legend(loc='best')\n",
    "plt.show()\n",
    "####################################################################################\n",
    "#                                 END OF YOUR CODE                                 #\n",
    "####################################################################################\n"
   ]
  },
  {
   "cell_type": "markdown",
   "metadata": {},
   "source": [
    "### Question 1:\n",
    "With changing your hyper parameters, find a configuration of hyper parameters that cause your loss to increase after each iteration and then report that configuration in the next cell. Explain why our loss increases?\n",
    "Write your answer in \"\""
   ]
  },
  {
   "cell_type": "markdown",
   "metadata": {},
   "source": [
    "std = \"0.0001\" <br>\n",
    "num_iters = \"15000\"<br>\n",
    "reg_coeff = \"20\"<br>\n",
    "learning_rate = \"1e-1\"<br>"
   ]
  },
  {
   "cell_type": "markdown",
   "metadata": {},
   "source": [
    "### Question 2:\n",
    "In this cell please explain the reason of this event<br>\n",
    "Answer: The only difference between this settings and the optimal settings is learning rate which is very high here. From an intuitive point of view, large learning rate can lead to divergent behaviour because you are taking big step in the gradient direction which can move you in a worse position\n",
    "\n",
    "From a rigorous point of view, by taylor's theorem we had:\n",
    "\n",
    "Let d = $-\\nabla f(x)$\n",
    "\n",
    "$\n",
    "f(x+\\alpha d)\\leq f(x) - \\frac{\\alpha}{2}||\\nabla f(x)||^2 \\hspace{1cm} if\\; 0 < \\alpha \\leq \\epsilon\n",
    "$\n",
    "\n",
    "So now our learning rate is not lower than $\\epsilon$, so the gradient descent won't lead to a lower value for loss function."
   ]
  },
  {
   "cell_type": "code",
   "execution_count": 9,
   "metadata": {
    "ExecuteTime": {
     "end_time": "2020-03-30T19:25:00.327232Z",
     "start_time": "2020-03-30T19:25:00.311932Z"
    }
   },
   "outputs": [
    {
     "name": "stdout",
     "output_type": "stream",
     "text": [
      "Confusion Matrix:\n",
      "TP = 71.000000 FP = 13.000000 FN = 1.000000 TN = 29.000000\n",
      "Confusion Matrix Metrics:\n",
      "precision = 0.845238 recall = 0.986111 specifity = 0.690476 f1Score = 0.910256\n",
      "Accuracy = 0.877193%\n"
     ]
    }
   ],
   "source": [
    "val_preds =  model.predict(X_test)\n",
    "###########################################################################################\n",
    "# TODO: find the Confusion Matrix between val_preds and real labels (y_test) for test data#\n",
    "# then report the accuracy of the model.                                                  #\n",
    "# you are not allowed to use any premade function for accuracy and confusion matrix       #\n",
    "###########################################################################################\n",
    "\n",
    "#write your code here\n",
    "\n",
    "def prediction_accuracy(val_preds, y_test):\n",
    "    return np.mean(val_preds == y_test)\n",
    "\n",
    "accuracy_test = prediction_accuracy(val_preds, y_test)\n",
    "\n",
    "def calculate_confusion_matrix(val_preds, y_test):\n",
    "    temp = val_preds + y_test\n",
    "    TP, TN, FP, FN = np.sum(temp == 2), np.sum(temp == -2), np.sum(temp[y_test<0] == 0), np.sum(temp[y_test > 0] == 0)\n",
    "    confusion_accuracy, precision, recall, specifity = ((TP+TN)/(TP+TN+FP+FN)), (TP/(TP+FP)), (TP/(TP+FN)), (TN/(TN+FP))\n",
    "    f1Score = (2*recall*precision)/(recall + precision)\n",
    "    return TP, TN, FP, FN, confusion_accuracy, precision, recall, specifity, f1Score\n",
    "\n",
    "TP, TN, FP, FN, confusion_accuracy, precision, recall, specifity, f1Score = calculate_confusion_matrix(val_preds, y_test)\n",
    "print(\"Confusion Matrix:\")\n",
    "print('TP = %f FP = %f FN = %f TN = %f' %(TP, FP, FN, TN))\n",
    "print(\"Confusion Matrix Metrics:\")\n",
    "print('precision = %f recall = %f specifity = %f f1Score = %f' %(precision, recall, specifity, f1Score))\n",
    "print('Accuracy = %f%%'%accuracy_test)\n",
    "###########################################################################################\n",
    "#                                END OF YOUR EXPLANATION                                  #\n",
    "###########################################################################################\n"
   ]
  },
  {
   "cell_type": "markdown",
   "metadata": {},
   "source": [
    "In the next part, we sample from training data with certain size (batch size) instead of using all the training data in each iteration, and train our model on batch data:"
   ]
  },
  {
   "cell_type": "code",
   "execution_count": 10,
   "metadata": {
    "ExecuteTime": {
     "end_time": "2020-03-30T19:25:05.278322Z",
     "start_time": "2020-03-30T19:25:05.273880Z"
    }
   },
   "outputs": [],
   "source": [
    "std = 0.0001\n",
    "batch_size = 200\n",
    "num_iters = 15000\n",
    "reg_coeff = 20\n",
    "learning_rate=1e-7\n",
    "model = SVM(n_features=X_train.shape[1], std= std )"
   ]
  },
  {
   "cell_type": "code",
   "execution_count": 11,
   "metadata": {
    "ExecuteTime": {
     "end_time": "2020-03-30T19:25:10.005185Z",
     "start_time": "2020-03-30T19:25:06.941855Z"
    }
   },
   "outputs": [
    {
     "name": "stdout",
     "output_type": "stream",
     "text": [
      "iteration 0, loss 1.031132, val acc 69.57%\n",
      "iteration 100, loss 0.901777, val acc 30.43%\n",
      "iteration 200, loss 0.867414, val acc 30.43%\n",
      "iteration 300, loss 0.889926, val acc 30.43%\n",
      "iteration 400, loss 0.921353, val acc 30.43%\n",
      "iteration 500, loss 0.805470, val acc 30.43%\n",
      "iteration 600, loss 0.802752, val acc 32.61%\n",
      "iteration 700, loss 0.813484, val acc 41.30%\n",
      "iteration 800, loss 0.880749, val acc 50.00%\n",
      "iteration 900, loss 0.805078, val acc 58.70%\n",
      "iteration 1000, loss 0.793447, val acc 67.39%\n",
      "iteration 1100, loss 0.729487, val acc 82.61%\n",
      "iteration 1200, loss 0.733266, val acc 84.78%\n",
      "iteration 1300, loss 0.738074, val acc 84.78%\n",
      "iteration 1400, loss 0.735354, val acc 84.78%\n",
      "iteration 1500, loss 0.695160, val acc 84.78%\n",
      "iteration 1600, loss 0.673932, val acc 86.96%\n",
      "iteration 1700, loss 0.656670, val acc 84.78%\n",
      "iteration 1800, loss 0.642350, val acc 86.96%\n",
      "iteration 1900, loss 0.634077, val acc 84.78%\n",
      "iteration 2000, loss 0.603345, val acc 84.78%\n",
      "iteration 2100, loss 0.629605, val acc 86.96%\n",
      "iteration 2200, loss 0.679601, val acc 86.96%\n",
      "iteration 2300, loss 0.603911, val acc 86.96%\n",
      "iteration 2400, loss 0.557218, val acc 86.96%\n",
      "iteration 2500, loss 0.588411, val acc 86.96%\n",
      "iteration 2600, loss 0.552133, val acc 86.96%\n",
      "iteration 2700, loss 0.553837, val acc 86.96%\n",
      "iteration 2800, loss 0.486389, val acc 86.96%\n",
      "iteration 2900, loss 0.508231, val acc 86.96%\n",
      "iteration 3000, loss 0.539072, val acc 86.96%\n",
      "iteration 3100, loss 0.521016, val acc 86.96%\n",
      "iteration 3200, loss 0.472695, val acc 86.96%\n",
      "iteration 3300, loss 0.480831, val acc 86.96%\n",
      "iteration 3400, loss 0.496928, val acc 86.96%\n",
      "iteration 3500, loss 0.470112, val acc 86.96%\n",
      "iteration 3600, loss 0.464606, val acc 86.96%\n",
      "iteration 3700, loss 0.558197, val acc 86.96%\n",
      "iteration 3800, loss 0.510513, val acc 86.96%\n",
      "iteration 3900, loss 0.433456, val acc 86.96%\n",
      "iteration 4000, loss 0.411734, val acc 86.96%\n",
      "iteration 4100, loss 0.387950, val acc 86.96%\n",
      "iteration 4200, loss 0.414580, val acc 86.96%\n",
      "iteration 4300, loss 0.416163, val acc 86.96%\n",
      "iteration 4400, loss 0.352817, val acc 86.96%\n",
      "iteration 4500, loss 0.358359, val acc 86.96%\n",
      "iteration 4600, loss 0.428574, val acc 86.96%\n",
      "iteration 4700, loss 0.419747, val acc 86.96%\n",
      "iteration 4800, loss 0.346349, val acc 86.96%\n",
      "iteration 4900, loss 0.421006, val acc 86.96%\n",
      "iteration 5000, loss 0.322045, val acc 86.96%\n",
      "iteration 5100, loss 0.344668, val acc 86.96%\n",
      "iteration 5200, loss 0.363870, val acc 86.96%\n",
      "iteration 5300, loss 0.382728, val acc 86.96%\n",
      "iteration 5400, loss 0.402958, val acc 86.96%\n",
      "iteration 5500, loss 0.318629, val acc 86.96%\n",
      "iteration 5600, loss 0.333729, val acc 86.96%\n",
      "iteration 5700, loss 0.384605, val acc 86.96%\n",
      "iteration 5800, loss 0.300969, val acc 86.96%\n",
      "iteration 5900, loss 0.414913, val acc 86.96%\n",
      "iteration 6000, loss 0.386005, val acc 86.96%\n",
      "iteration 6100, loss 0.344828, val acc 86.96%\n",
      "iteration 6200, loss 0.334118, val acc 86.96%\n",
      "iteration 6300, loss 0.347117, val acc 86.96%\n",
      "iteration 6400, loss 0.333853, val acc 86.96%\n",
      "iteration 6500, loss 0.306406, val acc 86.96%\n",
      "iteration 6600, loss 0.368793, val acc 86.96%\n",
      "iteration 6700, loss 0.322840, val acc 89.13%\n",
      "iteration 6800, loss 0.363250, val acc 86.96%\n",
      "iteration 6900, loss 0.400565, val acc 89.13%\n",
      "iteration 7000, loss 0.345924, val acc 86.96%\n",
      "iteration 7100, loss 0.338174, val acc 89.13%\n",
      "iteration 7200, loss 0.356821, val acc 89.13%\n",
      "iteration 7300, loss 0.387563, val acc 89.13%\n",
      "iteration 7400, loss 0.367103, val acc 89.13%\n",
      "iteration 7500, loss 0.367882, val acc 89.13%\n",
      "iteration 7600, loss 0.299720, val acc 89.13%\n",
      "iteration 7700, loss 0.370539, val acc 89.13%\n",
      "iteration 7800, loss 0.269101, val acc 89.13%\n",
      "iteration 7900, loss 0.340433, val acc 89.13%\n",
      "iteration 8000, loss 0.349859, val acc 89.13%\n",
      "iteration 8100, loss 0.344037, val acc 89.13%\n",
      "iteration 8200, loss 0.268368, val acc 89.13%\n",
      "iteration 8300, loss 0.312213, val acc 89.13%\n",
      "iteration 8400, loss 0.298600, val acc 89.13%\n",
      "iteration 8500, loss 0.328955, val acc 89.13%\n",
      "iteration 8600, loss 0.312059, val acc 89.13%\n",
      "iteration 8700, loss 0.310995, val acc 89.13%\n",
      "iteration 8800, loss 0.329252, val acc 89.13%\n",
      "iteration 8900, loss 0.359032, val acc 89.13%\n",
      "iteration 9000, loss 0.362131, val acc 89.13%\n",
      "iteration 9100, loss 0.277630, val acc 89.13%\n",
      "iteration 9200, loss 0.306328, val acc 89.13%\n",
      "iteration 9300, loss 0.293985, val acc 89.13%\n",
      "iteration 9400, loss 0.327199, val acc 89.13%\n",
      "iteration 9500, loss 0.284867, val acc 89.13%\n",
      "iteration 9600, loss 0.245568, val acc 89.13%\n",
      "iteration 9700, loss 0.226903, val acc 89.13%\n",
      "iteration 9800, loss 0.283900, val acc 89.13%\n",
      "iteration 9900, loss 0.243808, val acc 89.13%\n",
      "iteration 10000, loss 0.258969, val acc 89.13%\n",
      "iteration 10100, loss 0.352853, val acc 89.13%\n",
      "iteration 10200, loss 0.282527, val acc 89.13%\n",
      "iteration 10300, loss 0.274799, val acc 89.13%\n",
      "iteration 10400, loss 0.267702, val acc 89.13%\n",
      "iteration 10500, loss 0.262104, val acc 89.13%\n",
      "iteration 10600, loss 0.354760, val acc 89.13%\n",
      "iteration 10700, loss 0.292850, val acc 89.13%\n",
      "iteration 10800, loss 0.308967, val acc 89.13%\n",
      "iteration 10900, loss 0.274639, val acc 89.13%\n",
      "iteration 11000, loss 0.298500, val acc 89.13%\n",
      "iteration 11100, loss 0.323024, val acc 89.13%\n",
      "iteration 11200, loss 0.315968, val acc 89.13%\n",
      "iteration 11300, loss 0.296492, val acc 89.13%\n",
      "iteration 11400, loss 0.287652, val acc 89.13%\n",
      "iteration 11500, loss 0.267850, val acc 89.13%\n",
      "iteration 11600, loss 0.247896, val acc 89.13%\n",
      "iteration 11700, loss 0.279123, val acc 89.13%\n",
      "iteration 11800, loss 0.215216, val acc 89.13%\n",
      "iteration 11900, loss 0.366394, val acc 89.13%\n",
      "iteration 12000, loss 0.289194, val acc 89.13%\n",
      "iteration 12100, loss 0.331019, val acc 89.13%\n",
      "iteration 12200, loss 0.337465, val acc 89.13%\n",
      "iteration 12300, loss 0.301850, val acc 89.13%\n",
      "iteration 12400, loss 0.245990, val acc 89.13%\n",
      "iteration 12500, loss 0.221635, val acc 89.13%\n",
      "iteration 12600, loss 0.255446, val acc 89.13%\n",
      "iteration 12700, loss 0.273804, val acc 89.13%\n",
      "iteration 12800, loss 0.302542, val acc 89.13%\n",
      "iteration 12900, loss 0.303509, val acc 89.13%\n",
      "iteration 13000, loss 0.297435, val acc 89.13%\n",
      "iteration 13100, loss 0.286932, val acc 89.13%\n",
      "iteration 13200, loss 0.260228, val acc 89.13%\n",
      "iteration 13300, loss 0.240787, val acc 89.13%\n",
      "iteration 13400, loss 0.278839, val acc 89.13%\n",
      "iteration 13500, loss 0.338724, val acc 89.13%\n",
      "iteration 13600, loss 0.256949, val acc 89.13%\n",
      "iteration 13700, loss 0.249168, val acc 89.13%\n",
      "iteration 13800, loss 0.269151, val acc 89.13%\n",
      "iteration 13900, loss 0.313254, val acc 89.13%\n",
      "iteration 14000, loss 0.282878, val acc 89.13%\n",
      "iteration 14100, loss 0.364291, val acc 89.13%\n",
      "iteration 14200, loss 0.231863, val acc 89.13%\n",
      "iteration 14300, loss 0.291209, val acc 89.13%\n",
      "iteration 14400, loss 0.263697, val acc 89.13%\n",
      "iteration 14500, loss 0.262019, val acc 89.13%\n",
      "iteration 14600, loss 0.248399, val acc 89.13%\n",
      "iteration 14700, loss 0.276307, val acc 89.13%\n",
      "iteration 14800, loss 0.293311, val acc 89.13%\n",
      "iteration 14900, loss 0.221101, val acc 89.13%\n"
     ]
    }
   ],
   "source": [
    "loss_history = []\n",
    "loss_val_history = []\n",
    "for it in range(num_iters):\n",
    "    X_batch = None\n",
    "    y_batch = None\n",
    "    ################################################################################\n",
    "    # TODO: Sample batch_size elements from the training data and their            #\n",
    "    # corresponding labels to use in this round of gradient descent.               #\n",
    "    # Store the data in X_batch and their corresponding labels in                  #\n",
    "    # y_batch; after sampling X_batch should have shape (batch_size, n_features)   #\n",
    "    # and y_batch should have shape (batch_size,)                                  #\n",
    "    #                                                                              #\n",
    "    # Hint: Use np.random.choice to generate indices. Sampling with                #\n",
    "    # replacement is faster than sampling without replacement.                     #\n",
    "    ################################################################################\n",
    "\n",
    "    #write your code here\n",
    "    indices = np.random.choice(X_train.shape[0], size=batch_size, replace=True)\n",
    "    X_batch = X_train[indices]\n",
    "    y_batch = y_train[indices]\n",
    "    ################################################################################\n",
    "    #                                 END OF YOUR CODE                             #\n",
    "    ################################################################################\n",
    "    loss = model.loss(X_batch, y_batch, reg_coeff)\n",
    "    loss_val = model.loss(X_val, y_val, reg_coeff)\n",
    "    if it % 100 == 0:\n",
    "        val_preds =  model.predict(X_val)\n",
    "        print('iteration %d, loss %f, val acc %.2f%%' % (it, loss,  accuracy_score(y_val,val_preds) * 100))\n",
    "    model.update_weights(X_batch, y_batch, learning_rate , reg_coeff)\n",
    "    loss_history.append(loss)\n",
    "    loss_val_history.append(loss_val)"
   ]
  },
  {
   "cell_type": "code",
   "execution_count": 12,
   "metadata": {
    "ExecuteTime": {
     "end_time": "2020-03-30T19:25:17.924656Z",
     "start_time": "2020-03-30T19:25:17.639733Z"
    }
   },
   "outputs": [
    {
     "data": {
      "image/png": "[encoded data removed]",
      "text/plain": [
       "<Figure size 720x720 with 1 Axes>"
      ]
     },
     "metadata": {
      "needs_background": "light"
     },
     "output_type": "display_data"
    }
   ],
   "source": [
    "####################################################################################\n",
    "# TODO: using matplotlib.pyplot package plot the training loss and validation loss #\n",
    "\n",
    "####################################################################################\n",
    "\n",
    "#write your code here\n",
    "plt.plot(loss_history, 'b-', label=\"Training Loss\")\n",
    "plt.plot(loss_val_history, 'r-', label=\"Validation Loss\")\n",
    "plt.legend(loc='best')\n",
    "plt.show()\n",
    "####################################################################################\n",
    "#                                 END OF YOUR CODE                                 #\n",
    "####################################################################################"
   ]
  },
  {
   "cell_type": "markdown",
   "metadata": {},
   "source": [
    "### Question 3:\n",
    "Explain why we see fluctuation in this plot?<br>\n",
    "Answer:Because our updating in each step is based on just a batch of training data which is chosen randomly. So we just change w in a way which is good for that batch of data, but it doesn't guarantee that the update is good for the whole dataset. And so it's possible for new random batch of data, the loss increases because the new weights didn't update based on this data.<br>\n",
    "Only when we update the weights based on the whole dataset, we can expect continual decrease in loss (if the hyperparameters had been set in a good way)"
   ]
  },
  {
   "cell_type": "markdown",
   "metadata": {},
   "source": [
    "# Problem 2. Perceptron"
   ]
  },
  {
   "cell_type": "markdown",
   "metadata": {},
   "source": [
    "By now, you should know how to use and how to implement SVM from scratch.\n",
    "In fact, for perceptron we can use premade functions as below:"
   ]
  },
  {
   "cell_type": "code",
   "execution_count": 13,
   "metadata": {
    "ExecuteTime": {
     "end_time": "2020-03-30T19:25:22.216115Z",
     "start_time": "2020-03-30T19:25:22.153703Z"
    }
   },
   "outputs": [
    {
     "name": "stdout",
     "output_type": "stream",
     "text": [
      "[[61 11]\n",
      " [ 2 40]]\n",
      "test acc 88.60%\n"
     ]
    }
   ],
   "source": [
    "from sklearn.linear_model import Perceptron\n",
    "from sklearn.metrics import accuracy_score\n",
    "from sklearn.metrics import classification_report, confusion_matrix\n",
    "clf = Perceptron(tol=1e-3, random_state=0)\n",
    "clf.fit(X_train, y_train)\n",
    "val_preds = clf.predict(X_test)\n",
    "print(confusion_matrix(y_test,val_preds,[1,-1]))\n",
    "print('test acc %.2f%%' % (accuracy_score(y_test,val_preds) * 100)) "
   ]
  },
  {
   "cell_type": "markdown",
   "metadata": {},
   "source": [
    "### Question 4:\n",
    "It is time for you to write your own code instead of completing some parts of a premade code.<br>\n",
    "So you can not use any premade functions like the previous cell.\n",
    "Write your code in the end of this .ipynb file <br>\n",
    "You should make your model and use that to build these outputs:<br>\n",
    "1- Report loss of training and accuracy of validation data on each epoch of training process.<br>\n",
    "2- You are allowed to use any normalization approach if need be.<br>\n",
    "3- Plot your training and validation loss vs number of iterations in one plot.<br>\n",
    "4- Finally print your confusion matrix and accuracy for your testing set.<br>\n",
    "With changing your hyperparameters try to get a good and reasonable accuracy and confusion matrix on testing set (similar to the accuracy when we used the package)."
   ]
  },
  {
   "cell_type": "code",
   "execution_count": 14,
   "metadata": {
    "ExecuteTime": {
     "end_time": "2020-03-30T19:25:39.113410Z",
     "start_time": "2020-03-30T19:25:39.101344Z"
    }
   },
   "outputs": [],
   "source": [
    "class Perceptron:\n",
    "    \n",
    "    def __init__(self, n_features, std):\n",
    "        self.n_features = n_features\n",
    "        self.w = std * np.random.randn(n_features)\n",
    "    \n",
    "    def loss(self, X: np.ndarray, y: np.ndarray):\n",
    "#         predicttions = X.dot(self.w)\n",
    "#         predicttions[predicttions > 0] = 1\n",
    "#         predicttions[predicttions <= 0] = -1\n",
    "#         return np.sum(y != predicttions)\n",
    "    \n",
    "        #print(this)\n",
    "        return np.sum(np.maximum(0 - X.dot(self.w)*y, 0))/X.shape[0] \n",
    "    \n",
    "    def update_weights(self,  X: np.ndarray, y: np.ndarray):\n",
    "        temp = X.dot(self.w)*y\n",
    "        temp[temp==0] = 1\n",
    "        temp[temp > 0] = 0\n",
    "        temp[temp < 0] = 1\n",
    "        \n",
    "        self.w += np.sum(X * y.reshape((y.shape[0], 1)) * temp.reshape((temp.shape[0], 1)), axis=0)\n",
    "        \n",
    "    def predict(self, X):\n",
    "        y_pred = X.dot(self.w)\n",
    "        y_pred[y_pred > 0] = 1\n",
    "        y_pred[y_pred <= 0] = -1\n",
    "        return y_pred\n"
   ]
  },
  {
   "cell_type": "code",
   "execution_count": 15,
   "metadata": {
    "ExecuteTime": {
     "end_time": "2020-03-30T19:25:41.246424Z",
     "start_time": "2020-03-30T19:25:41.241807Z"
    }
   },
   "outputs": [],
   "source": [
    "std = 0.0001\n",
    "num_iters = 15000"
   ]
  },
  {
   "cell_type": "code",
   "execution_count": 16,
   "metadata": {
    "ExecuteTime": {
     "end_time": "2020-03-30T19:25:44.518893Z",
     "start_time": "2020-03-30T19:25:42.458376Z"
    }
   },
   "outputs": [
    {
     "name": "stdout",
     "output_type": "stream",
     "text": [
      "iteration 0, loss 0.023081, val acc 30.43%\n",
      "iteration 100, loss 25517102.568102, val acc 34.78%\n",
      "iteration 200, loss 2133408.596606, val acc 84.78%\n",
      "iteration 300, loss 1703108.913208, val acc 86.96%\n",
      "iteration 400, loss 1662768.696046, val acc 84.78%\n",
      "iteration 500, loss 1804868.034577, val acc 84.78%\n",
      "iteration 600, loss 1756046.818119, val acc 86.96%\n",
      "iteration 700, loss 1640516.351918, val acc 86.96%\n",
      "iteration 800, loss 1768994.711931, val acc 91.30%\n",
      "iteration 900, loss 5326396.783445, val acc 84.78%\n",
      "iteration 1000, loss 1584951.092904, val acc 86.96%\n",
      "iteration 1100, loss 1495439.321168, val acc 86.96%\n",
      "iteration 1200, loss 1207180.455560, val acc 86.96%\n",
      "iteration 1300, loss 1143964.484819, val acc 86.96%\n",
      "iteration 1400, loss 1097118.252189, val acc 89.13%\n",
      "iteration 1500, loss 1045493.276086, val acc 91.30%\n",
      "iteration 1600, loss 996035.199039, val acc 91.30%\n",
      "iteration 1700, loss 1513963.598967, val acc 91.30%\n",
      "iteration 1800, loss 1277216.598166, val acc 86.96%\n",
      "iteration 1900, loss 1200295.526091, val acc 86.96%\n",
      "iteration 2000, loss 1148300.739375, val acc 89.13%\n",
      "iteration 2100, loss 1111842.747702, val acc 91.30%\n",
      "iteration 2200, loss 1050239.306827, val acc 91.30%\n",
      "iteration 2300, loss 1170565.209578, val acc 93.48%\n",
      "iteration 2400, loss 15709867.481412, val acc 43.48%\n",
      "iteration 2500, loss 1310966.984179, val acc 86.96%\n",
      "iteration 2600, loss 1227499.183811, val acc 86.96%\n",
      "iteration 2700, loss 1196438.427727, val acc 86.96%\n",
      "iteration 2800, loss 1122598.975559, val acc 86.96%\n",
      "iteration 2900, loss 1128249.670269, val acc 89.13%\n",
      "iteration 3000, loss 1061904.888809, val acc 89.13%\n",
      "iteration 3100, loss 1060087.825264, val acc 89.13%\n",
      "iteration 3200, loss 1338995.673846, val acc 86.96%\n",
      "iteration 3300, loss 1234662.694680, val acc 86.96%\n",
      "iteration 3400, loss 1198680.367744, val acc 89.13%\n",
      "iteration 3500, loss 1134966.725545, val acc 89.13%\n",
      "iteration 3600, loss 1072964.334962, val acc 91.30%\n",
      "iteration 3700, loss 1021492.578970, val acc 91.30%\n",
      "iteration 3800, loss 1001924.945541, val acc 91.30%\n",
      "iteration 3900, loss 15283567.094540, val acc 43.48%\n",
      "iteration 4000, loss 1248462.358934, val acc 86.96%\n",
      "iteration 4100, loss 1182886.949446, val acc 89.13%\n",
      "iteration 4200, loss 1127185.330912, val acc 89.13%\n",
      "iteration 4300, loss 1101251.318290, val acc 91.30%\n",
      "iteration 4400, loss 1035807.155244, val acc 91.30%\n",
      "iteration 4500, loss 1028966.668266, val acc 91.30%\n",
      "iteration 4600, loss 16864426.446867, val acc 43.48%\n",
      "iteration 4700, loss 1204875.196336, val acc 89.13%\n",
      "iteration 4800, loss 1144842.486221, val acc 86.96%\n",
      "iteration 4900, loss 1082578.044498, val acc 86.96%\n",
      "iteration 5000, loss 1034145.118577, val acc 86.96%\n",
      "iteration 5100, loss 1057575.283833, val acc 89.13%\n",
      "iteration 5200, loss 1107088.507769, val acc 91.30%\n",
      "iteration 5300, loss 2128734.864947, val acc 91.30%\n",
      "iteration 5400, loss 1177675.760477, val acc 86.96%\n",
      "iteration 5500, loss 1132389.455444, val acc 86.96%\n",
      "iteration 5600, loss 1047883.935923, val acc 86.96%\n",
      "iteration 5700, loss 1041304.982735, val acc 86.96%\n",
      "iteration 5800, loss 1078622.277632, val acc 89.13%\n",
      "iteration 5900, loss 1140397.136377, val acc 91.30%\n",
      "iteration 6000, loss 1233593.051841, val acc 86.96%\n",
      "iteration 6100, loss 1151812.105098, val acc 89.13%\n",
      "iteration 6200, loss 1104102.362229, val acc 89.13%\n",
      "iteration 6300, loss 1073740.009287, val acc 91.30%\n",
      "iteration 6400, loss 1003296.421355, val acc 91.30%\n",
      "iteration 6500, loss 1025288.919306, val acc 91.30%\n",
      "iteration 6600, loss 1135999.756291, val acc 93.48%\n",
      "iteration 6700, loss 1218492.331690, val acc 86.96%\n",
      "iteration 6800, loss 1130051.607041, val acc 86.96%\n",
      "iteration 6900, loss 1061212.565879, val acc 89.13%\n",
      "iteration 7000, loss 1084247.032501, val acc 89.13%\n",
      "iteration 7100, loss 1094896.459600, val acc 91.30%\n",
      "iteration 7200, loss 1054388.506650, val acc 91.30%\n",
      "iteration 7300, loss 1423125.968508, val acc 91.30%\n",
      "iteration 7400, loss 1182679.642687, val acc 86.96%\n",
      "iteration 7500, loss 1102072.589314, val acc 86.96%\n",
      "iteration 7600, loss 1034519.672768, val acc 89.13%\n",
      "iteration 7700, loss 1040483.881719, val acc 91.30%\n",
      "iteration 7800, loss 1027680.349637, val acc 91.30%\n",
      "iteration 7900, loss 1002793.360604, val acc 91.30%\n",
      "iteration 8000, loss 1180522.745920, val acc 86.96%\n",
      "iteration 8100, loss 1099071.746670, val acc 86.96%\n",
      "iteration 8200, loss 1129661.543748, val acc 89.13%\n",
      "iteration 8300, loss 1088404.243169, val acc 91.30%\n",
      "iteration 8400, loss 1037318.979834, val acc 91.30%\n",
      "iteration 8500, loss 1040901.153520, val acc 91.30%\n",
      "iteration 8600, loss 6203148.822012, val acc 86.96%\n",
      "iteration 8700, loss 1132639.414098, val acc 86.96%\n",
      "iteration 8800, loss 1058870.327731, val acc 89.13%\n",
      "iteration 8900, loss 1067196.500073, val acc 91.30%\n",
      "iteration 9000, loss 1042346.614996, val acc 91.30%\n",
      "iteration 9100, loss 1025847.908609, val acc 91.30%\n",
      "iteration 9200, loss 1095644.918148, val acc 91.30%\n",
      "iteration 9300, loss 1125712.223153, val acc 91.30%\n",
      "iteration 9400, loss 2023660.834239, val acc 91.30%\n",
      "iteration 9500, loss 1079861.013832, val acc 86.96%\n",
      "iteration 9600, loss 1092548.847945, val acc 91.30%\n",
      "iteration 9700, loss 1055091.569425, val acc 91.30%\n",
      "iteration 9800, loss 1015289.778349, val acc 91.30%\n",
      "iteration 9900, loss 1164980.248224, val acc 91.30%\n",
      "iteration 10000, loss 1240884.715314, val acc 93.48%\n",
      "iteration 10100, loss 1113305.760718, val acc 86.96%\n",
      "iteration 10200, loss 1142637.831997, val acc 91.30%\n",
      "iteration 10300, loss 1054709.202507, val acc 89.13%\n",
      "iteration 10400, loss 1030388.713866, val acc 91.30%\n",
      "iteration 10500, loss 1156327.737276, val acc 91.30%\n",
      "iteration 10600, loss 1362152.995564, val acc 91.30%\n",
      "iteration 10700, loss 1352757.976181, val acc 91.30%\n",
      "iteration 10800, loss 1123729.283397, val acc 86.96%\n",
      "iteration 10900, loss 1084443.815658, val acc 89.13%\n",
      "iteration 11000, loss 1077413.263535, val acc 91.30%\n",
      "iteration 11100, loss 1065075.923412, val acc 91.30%\n",
      "iteration 11200, loss 1019924.805780, val acc 91.30%\n",
      "iteration 11300, loss 1058767.987524, val acc 91.30%\n",
      "iteration 11400, loss 1088798.667316, val acc 91.30%\n",
      "iteration 11500, loss 1132045.671194, val acc 89.13%\n",
      "iteration 11600, loss 1083302.568068, val acc 89.13%\n",
      "iteration 11700, loss 1095318.947612, val acc 91.30%\n",
      "iteration 11800, loss 1040269.834308, val acc 91.30%\n",
      "iteration 11900, loss 1035151.837322, val acc 91.30%\n",
      "iteration 12000, loss 1041260.667544, val acc 91.30%\n",
      "iteration 12100, loss 1089609.320045, val acc 91.30%\n",
      "iteration 12200, loss 1108929.696039, val acc 86.96%\n",
      "iteration 12300, loss 1045621.277186, val acc 89.13%\n",
      "iteration 12400, loss 974233.003072, val acc 89.13%\n",
      "iteration 12500, loss 996362.146810, val acc 91.30%\n",
      "iteration 12600, loss 1098894.142280, val acc 91.30%\n",
      "iteration 12700, loss 1186906.084226, val acc 91.30%\n",
      "iteration 12800, loss 19870777.194611, val acc 73.91%\n",
      "iteration 12900, loss 1052001.547824, val acc 86.96%\n",
      "iteration 13000, loss 1002926.738889, val acc 86.96%\n",
      "iteration 13100, loss 1021752.419303, val acc 91.30%\n",
      "iteration 13200, loss 1025406.899197, val acc 91.30%\n",
      "iteration 13300, loss 1264650.072871, val acc 91.30%\n",
      "iteration 13400, loss 1273495.194201, val acc 91.30%\n",
      "iteration 13500, loss 1091134.690764, val acc 86.96%\n",
      "iteration 13600, loss 1021185.458630, val acc 86.96%\n",
      "iteration 13700, loss 1051159.416902, val acc 91.30%\n",
      "iteration 13800, loss 1028158.511064, val acc 91.30%\n",
      "iteration 13900, loss 1005227.378571, val acc 91.30%\n",
      "iteration 14000, loss 1381657.813873, val acc 91.30%\n",
      "iteration 14100, loss 2763491.135848, val acc 91.30%\n",
      "iteration 14200, loss 2744152.739023, val acc 91.30%\n",
      "iteration 14300, loss 2170805.316826, val acc 91.30%\n",
      "iteration 14400, loss 2203902.175717, val acc 91.30%\n",
      "iteration 14500, loss 2262948.193615, val acc 91.30%\n",
      "iteration 14600, loss 2134570.388910, val acc 91.30%\n",
      "iteration 14700, loss 2308172.213767, val acc 91.30%\n",
      "iteration 14800, loss 1160812.198347, val acc 91.30%\n",
      "iteration 14900, loss 1169958.173671, val acc 91.30%\n"
     ]
    }
   ],
   "source": [
    "model = Perceptron(n_features=X_train.shape[1], std = std )\n",
    "loss_history = []\n",
    "loss_val_history = []\n",
    "for it in range(num_iters):\n",
    "    loss = model.loss(X_train, y_train)\n",
    "    loss_val = model.loss(X_val, y_val)\n",
    "    if it % 100 == 0:\n",
    "        val_preds =  model.predict(X_val)\n",
    "        print('iteration %d, loss %f, val acc %.2f%%' % (it, loss,  prediction_accuracy(val_preds, y_val) * 100))\n",
    "    model.update_weights(X_train, y_train)\n",
    "    loss_history.append(loss)\n",
    "    loss_val_history.append(loss_val)"
   ]
  },
  {
   "cell_type": "code",
   "execution_count": 18,
   "metadata": {
    "ExecuteTime": {
     "end_time": "2020-03-30T19:26:00.934035Z",
     "start_time": "2020-03-30T19:26:00.648785Z"
    }
   },
   "outputs": [
    {
     "data": {
      "image/png": "[encoded data removed]",
      "text/plain": [
       "<Figure size 720x720 with 1 Axes>"
      ]
     },
     "metadata": {
      "needs_background": "light"
     },
     "output_type": "display_data"
    }
   ],
   "source": [
    "plt.plot(loss_val_history, 'r-', label=\"Validation Loss\")\n",
    "plt.plot(loss_history, 'b-', label=\"Training Loss\")\n",
    "plt.legend(loc='best')\n",
    "plt.show()"
   ]
  },
  {
   "cell_type": "code",
   "execution_count": 19,
   "metadata": {
    "ExecuteTime": {
     "end_time": "2020-03-30T19:26:04.650223Z",
     "start_time": "2020-03-30T19:26:04.640171Z"
    }
   },
   "outputs": [
    {
     "name": "stdout",
     "output_type": "stream",
     "text": [
      "Confusion Matrix:\n",
      "TP = 71.000000 FP = 10.000000 FN = 1.000000 TN = 32.000000\n",
      "Confusion Matrix Metrics:\n",
      "precision = 0.876543 recall = 0.986111 specifity = 0.761905 f1Score = 0.928105\n",
      "Accuracy = 0.903509%\n"
     ]
    }
   ],
   "source": [
    "val_preds =  model.predict(X_test)\n",
    "\n",
    "accuracy_test = prediction_accuracy(val_preds, y_test)\n",
    "\n",
    "TP, TN, FP, FN, confusion_accuracy, precision, recall, specifity, f1Score = calculate_confusion_matrix(val_preds, y_test)\n",
    "print(\"Confusion Matrix:\")\n",
    "print('TP = %f FP = %f FN = %f TN = %f' %(TP, FP, FN, TN))\n",
    "print(\"Confusion Matrix Metrics:\")\n",
    "print('precision = %f recall = %f specifity = %f f1Score = %f' %(precision, recall, specifity, f1Score))\n",
    "print('Accuracy = %f%%'%accuracy_test)"
   ]
  },
  {
   "cell_type": "code",
   "execution_count": null,
   "metadata": {},
   "outputs": [],
   "source": []
  }
 ],
 "metadata": {
  "kernelspec": {
   "display_name": "Python 3",
   "language": "python",
   "name": "python3"
  },
  "language_info": {
   "codemirror_mode": {
    "name": "ipython",
    "version": 3
   },
   "file_extension": ".py",
   "mimetype": "text/x-python",
   "name": "python",
   "nbconvert_exporter": "python",
   "pygments_lexer": "ipython3",
   "version": "3.7.4"
  },
  "varInspector": {
   "cols": {
    "lenName": 16,
    "lenType": 16,
    "lenVar": 40
   },
   "kernels_config": {
    "python": {
     "delete_cmd_postfix": "",
     "delete_cmd_prefix": "del ",
     "library": "var_list.py",
     "varRefreshCmd": "print(var_dic_list())"
    },
    "r": {
     "delete_cmd_postfix": ") ",
     "delete_cmd_prefix": "rm(",
     "library": "var_list.r",
     "varRefreshCmd": "cat(var_dic_list()) "
    }
   },
   "types_to_exclude": [
    "module",
    "function",
    "builtin_function_or_method",
    "instance",
    "_Feature"
   ],
   "window_display": false
  }
 },
 "nbformat": 4,
 "nbformat_minor": 2
}
