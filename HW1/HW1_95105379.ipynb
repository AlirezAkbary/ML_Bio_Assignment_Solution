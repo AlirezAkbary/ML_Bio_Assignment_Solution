{
 "cells": [
  {
   "cell_type": "markdown",
   "metadata": {},
   "source": [
    "<p></p>\n",
    "<br/>\n",
    "<div id=\"sec_conclusion\" style=\"direction:rtl;line-height:300%;\">\n",
    "\t<font face=\"XB Zar\" size=5>\n",
    "        \t\t<font color=#FF7500 size=6>\n",
    "تمرین اول درس یادگیری ماشین برای بیوانفورماتیک\n",
    "                    <br>\n",
    "                    علیرضا اکبری ۹۵۱۰۵۳۷۹\n",
    "        </font>\n",
    "\t\t<p></p>\n",
    "\t\t<hr>\n",
    "    </font>\n",
    "</div>"
   ]
  },
  {
   "cell_type": "code",
   "execution_count": 1,
   "metadata": {
    "ExecuteTime": {
     "end_time": "2020-03-17T00:49:56.287706Z",
     "start_time": "2020-03-17T00:49:55.571115Z"
    }
   },
   "outputs": [],
   "source": [
    "import numpy as np\n",
    "import pandas as pd\n",
    "from utils import *\n",
    "from DecisionTree import *\n",
    "from kNN import *\n",
    "import matplotlib.pyplot as plt\n",
    "np.random.seed(2)\n",
    "%load_ext autoreload\n",
    "%autoreload 2"
   ]
  },
  {
   "cell_type": "code",
   "execution_count": 2,
   "metadata": {
    "ExecuteTime": {
     "end_time": "2020-03-17T00:49:58.062999Z",
     "start_time": "2020-03-17T00:49:58.019275Z"
    }
   },
   "outputs": [
    {
     "data": {
      "text/plain": [
       "array([[63.,  1.,  3., ...,  0.,  0.,  1.],\n",
       "       [37.,  1.,  2., ...,  0.,  0.,  2.],\n",
       "       [41.,  0.,  1., ...,  2.,  0.,  2.],\n",
       "       ...,\n",
       "       [68.,  1.,  0., ...,  1.,  2.,  3.],\n",
       "       [57.,  1.,  0., ...,  1.,  1.,  3.],\n",
       "       [57.,  0.,  1., ...,  1.,  1.,  2.]])"
      ]
     },
     "execution_count": 2,
     "metadata": {},
     "output_type": "execute_result"
    }
   ],
   "source": [
    "path_to_data = ''\n",
    "target_column = 'target'\n",
    "X,y = read_data(path_to_data, target_column)\n",
    "X"
   ]
  },
  {
   "cell_type": "code",
   "execution_count": 3,
   "metadata": {
    "ExecuteTime": {
     "end_time": "2020-03-17T00:50:01.162877Z",
     "start_time": "2020-03-17T00:50:01.128393Z"
    }
   },
   "outputs": [
    {
     "name": "stdout",
     "output_type": "stream",
     "text": [
      "(242, 13) (242,)\n",
      "(61, 13) (61,)\n"
     ]
    }
   ],
   "source": [
    "X_tr, y_tr, X_te, y_te = data_split(X, y, 0.8)\n",
    "print(X_tr.shape, y_tr.shape)\n",
    "print(X_te.shape, y_te.shape)"
   ]
  },
  {
   "cell_type": "markdown",
   "metadata": {},
   "source": [
    "<p></p>\n",
    "<br/>\n",
    "<div id=\"sec_conclusion\" style=\"direction:rtl;line-height:300%;\">\n",
    "\t<font face=\"XB Zar\" size=5>\n",
    "        \t\t<font color=#FF7500 size=6>\n",
    "Decision Tree\n",
    "        </font>\n",
    "\t\t<p></p>\n",
    "\t\t<hr>\n",
    "    </font>\n",
    "</div>"
   ]
  },
  {
   "cell_type": "code",
   "execution_count": 4,
   "metadata": {
    "ExecuteTime": {
     "end_time": "2020-03-17T00:50:06.469684Z",
     "start_time": "2020-03-17T00:50:05.583771Z"
    }
   },
   "outputs": [
    {
     "data": {
      "text/plain": [
       "[<matplotlib.lines.Line2D at 0x113041490>]"
      ]
     },
     "execution_count": 4,
     "metadata": {},
     "output_type": "execute_result"
    },
    {
     "data": {
      "image/png": "[encoded data removed]",
      "text/plain": [
       "<Figure size 432x288 with 1 Axes>"
      ]
     },
     "metadata": {
      "needs_background": "light"
     },
     "output_type": "display_data"
    }
   ],
   "source": [
    "x_axis, y_axis = [], []\n",
    "for i in range(1,14):\n",
    "    x_axis.append(i)\n",
    "    dec_tree_model = DecisionTree(i, 0.8)\n",
    "    dec_tree_model.fit(X_tr, y_tr)\n",
    "    y_pred_dec = dec_tree_model.predict(X_te)\n",
    "    y_axis.append(precision_calc(y_pred_dec, y_te))\n",
    "plt.plot(x_axis, y_axis)"
   ]
  },
  {
   "cell_type": "markdown",
   "metadata": {},
   "source": [
    "<p></p>\n",
    "<br/>\n",
    "<div id=\"sec_conclusion\" style=\"direction:rtl;line-height:300%;\">\n",
    "\t<font face=\"XB Zar\" size=5>\n",
    "\t\t<p></p>\n",
    "\t\t<hr>\n",
    "        ابتدا باید دقت کنیم که ترشولد را در این نمودار ثابت گرفته‌ایم و تنها عمق تغییر کرده است. همانطور که مشاهده می‌شود با افزایش عمق، نتایج بهتر شده است اما از یک جایی به بعد نتیجه معکوس داشته است که این می‌تواند به دلیل\n",
    "        overfitting\n",
    "        باشد. همچنین این روش نمی‌تواند برای انتخاب هایپرپارامترها مناسب باشد چرا که ممکن است شانسی داده‌های ترین و تست منجر به تولید این نتایج شده باشند. بنابراین از روش\n",
    "        5fold-cross-validation\n",
    "        استفاده می‌کنیم.\n",
    "    </font>\n",
    "</div>"
   ]
  },
  {
   "cell_type": "code",
   "execution_count": 5,
   "metadata": {
    "ExecuteTime": {
     "end_time": "2020-03-17T00:50:14.552525Z",
     "start_time": "2020-03-17T00:50:10.405809Z"
    }
   },
   "outputs": [],
   "source": [
    "num_folds = 5\n",
    "depth_choices = [i for i in range(1, 14)]\n",
    "threshold_choices = [0.2, 0.4, 0.6, 0.8]\n",
    "\n",
    "X_tr_folds = []\n",
    "y_tr_folds = []\n",
    "\n",
    "X_tr_folds = np.array_split(X_tr, num_folds)\n",
    "y_tr_folds = np.array_split(y_tr, num_folds)\n",
    "\n",
    "depth_thresh_accuracies = {}\n",
    "for i in depth_choices:\n",
    "    for j in threshold_choices:\n",
    "        depth_thresh_accuracies[(i,j)] = []\n",
    "\n",
    "for d in depth_choices:\n",
    "    for t in threshold_choices:\n",
    "        for i in range(num_folds):\n",
    "            temp_X_valid = X_tr_folds[i]\n",
    "            temp_y_valid = y_tr_folds[i]\n",
    "        \n",
    "            temp_X_train = np.concatenate(tuple(X_tr_folds[:i]) + tuple(X_tr_folds[i+1:]))\n",
    "            temp_y_train = np.concatenate(tuple(y_tr_folds[:i]) + tuple(y_tr_folds[i+1:]))\n",
    "            \n",
    "            dec_tree_model = DecisionTree(d, t)\n",
    "            dec_tree_model.fit(temp_X_train, temp_y_train)\n",
    "            y_pred_dec = dec_tree_model.predict(temp_X_valid)\n",
    "            depth_thresh_accuracies[(d,t)].append(precision_calc(y_pred_dec, temp_y_valid))\n",
    "\n"
   ]
  },
  {
   "cell_type": "code",
   "execution_count": 6,
   "metadata": {
    "ExecuteTime": {
     "end_time": "2020-03-17T00:50:19.337067Z",
     "start_time": "2020-03-17T00:50:19.283227Z"
    }
   },
   "outputs": [
    {
     "name": "stdout",
     "output_type": "stream",
     "text": [
      "mean:  0.45926870748299314\n",
      "depth = 1, threshold = 0.200000, accuracy = 0.448980\n",
      "depth = 1, threshold = 0.200000, accuracy = 0.326531\n",
      "depth = 1, threshold = 0.200000, accuracy = 0.541667\n",
      "depth = 1, threshold = 0.200000, accuracy = 0.437500\n",
      "depth = 1, threshold = 0.200000, accuracy = 0.541667\n",
      "---------\n",
      "mean:  0.45926870748299314\n",
      "depth = 1, threshold = 0.400000, accuracy = 0.448980\n",
      "depth = 1, threshold = 0.400000, accuracy = 0.326531\n",
      "depth = 1, threshold = 0.400000, accuracy = 0.541667\n",
      "depth = 1, threshold = 0.400000, accuracy = 0.437500\n",
      "depth = 1, threshold = 0.400000, accuracy = 0.541667\n",
      "---------\n",
      "mean:  0.735374149659864\n",
      "depth = 1, threshold = 0.600000, accuracy = 0.816327\n",
      "depth = 1, threshold = 0.600000, accuracy = 0.693878\n",
      "depth = 1, threshold = 0.600000, accuracy = 0.750000\n",
      "depth = 1, threshold = 0.600000, accuracy = 0.770833\n",
      "depth = 1, threshold = 0.600000, accuracy = 0.645833\n",
      "---------\n",
      "mean:  0.735374149659864\n",
      "depth = 1, threshold = 0.800000, accuracy = 0.816327\n",
      "depth = 1, threshold = 0.800000, accuracy = 0.693878\n",
      "depth = 1, threshold = 0.800000, accuracy = 0.750000\n",
      "depth = 1, threshold = 0.800000, accuracy = 0.770833\n",
      "depth = 1, threshold = 0.800000, accuracy = 0.645833\n",
      "---------\n",
      "mean:  0.45926870748299314\n",
      "depth = 2, threshold = 0.200000, accuracy = 0.448980\n",
      "depth = 2, threshold = 0.200000, accuracy = 0.326531\n",
      "depth = 2, threshold = 0.200000, accuracy = 0.541667\n",
      "depth = 2, threshold = 0.200000, accuracy = 0.437500\n",
      "depth = 2, threshold = 0.200000, accuracy = 0.541667\n",
      "---------\n",
      "mean:  0.45926870748299314\n",
      "depth = 2, threshold = 0.400000, accuracy = 0.448980\n",
      "depth = 2, threshold = 0.400000, accuracy = 0.326531\n",
      "depth = 2, threshold = 0.400000, accuracy = 0.541667\n",
      "depth = 2, threshold = 0.400000, accuracy = 0.437500\n",
      "depth = 2, threshold = 0.400000, accuracy = 0.541667\n",
      "---------\n",
      "mean:  0.7229591836734695\n",
      "depth = 2, threshold = 0.600000, accuracy = 0.816327\n",
      "depth = 2, threshold = 0.600000, accuracy = 0.673469\n",
      "depth = 2, threshold = 0.600000, accuracy = 0.750000\n",
      "depth = 2, threshold = 0.600000, accuracy = 0.729167\n",
      "depth = 2, threshold = 0.600000, accuracy = 0.645833\n",
      "---------\n",
      "mean:  0.7226190476190476\n",
      "depth = 2, threshold = 0.800000, accuracy = 0.795918\n",
      "depth = 2, threshold = 0.800000, accuracy = 0.775510\n",
      "depth = 2, threshold = 0.800000, accuracy = 0.687500\n",
      "depth = 2, threshold = 0.800000, accuracy = 0.708333\n",
      "depth = 2, threshold = 0.800000, accuracy = 0.645833\n",
      "---------\n",
      "mean:  0.45926870748299314\n",
      "depth = 3, threshold = 0.200000, accuracy = 0.448980\n",
      "depth = 3, threshold = 0.200000, accuracy = 0.326531\n",
      "depth = 3, threshold = 0.200000, accuracy = 0.541667\n",
      "depth = 3, threshold = 0.200000, accuracy = 0.437500\n",
      "depth = 3, threshold = 0.200000, accuracy = 0.541667\n",
      "---------\n",
      "mean:  0.45926870748299314\n",
      "depth = 3, threshold = 0.400000, accuracy = 0.448980\n",
      "depth = 3, threshold = 0.400000, accuracy = 0.326531\n",
      "depth = 3, threshold = 0.400000, accuracy = 0.541667\n",
      "depth = 3, threshold = 0.400000, accuracy = 0.437500\n",
      "depth = 3, threshold = 0.400000, accuracy = 0.541667\n",
      "---------\n",
      "mean:  0.7187925170068028\n",
      "depth = 3, threshold = 0.600000, accuracy = 0.816327\n",
      "depth = 3, threshold = 0.600000, accuracy = 0.673469\n",
      "depth = 3, threshold = 0.600000, accuracy = 0.750000\n",
      "depth = 3, threshold = 0.600000, accuracy = 0.708333\n",
      "depth = 3, threshold = 0.600000, accuracy = 0.645833\n",
      "---------\n",
      "mean:  0.718452380952381\n",
      "depth = 3, threshold = 0.800000, accuracy = 0.795918\n",
      "depth = 3, threshold = 0.800000, accuracy = 0.775510\n",
      "depth = 3, threshold = 0.800000, accuracy = 0.708333\n",
      "depth = 3, threshold = 0.800000, accuracy = 0.687500\n",
      "depth = 3, threshold = 0.800000, accuracy = 0.625000\n",
      "---------\n",
      "mean:  0.45926870748299314\n",
      "depth = 4, threshold = 0.200000, accuracy = 0.448980\n",
      "depth = 4, threshold = 0.200000, accuracy = 0.326531\n",
      "depth = 4, threshold = 0.200000, accuracy = 0.541667\n",
      "depth = 4, threshold = 0.200000, accuracy = 0.437500\n",
      "depth = 4, threshold = 0.200000, accuracy = 0.541667\n",
      "---------\n",
      "mean:  0.45926870748299314\n",
      "depth = 4, threshold = 0.400000, accuracy = 0.448980\n",
      "depth = 4, threshold = 0.400000, accuracy = 0.326531\n",
      "depth = 4, threshold = 0.400000, accuracy = 0.541667\n",
      "depth = 4, threshold = 0.400000, accuracy = 0.437500\n",
      "depth = 4, threshold = 0.400000, accuracy = 0.541667\n",
      "---------\n",
      "mean:  0.7187925170068028\n",
      "depth = 4, threshold = 0.600000, accuracy = 0.816327\n",
      "depth = 4, threshold = 0.600000, accuracy = 0.673469\n",
      "depth = 4, threshold = 0.600000, accuracy = 0.750000\n",
      "depth = 4, threshold = 0.600000, accuracy = 0.708333\n",
      "depth = 4, threshold = 0.600000, accuracy = 0.645833\n",
      "---------\n",
      "mean:  0.7183673469387755\n",
      "depth = 4, threshold = 0.800000, accuracy = 0.836735\n",
      "depth = 4, threshold = 0.800000, accuracy = 0.755102\n",
      "depth = 4, threshold = 0.800000, accuracy = 0.687500\n",
      "depth = 4, threshold = 0.800000, accuracy = 0.666667\n",
      "depth = 4, threshold = 0.800000, accuracy = 0.645833\n",
      "---------\n",
      "mean:  0.45926870748299314\n",
      "depth = 5, threshold = 0.200000, accuracy = 0.448980\n",
      "depth = 5, threshold = 0.200000, accuracy = 0.326531\n",
      "depth = 5, threshold = 0.200000, accuracy = 0.541667\n",
      "depth = 5, threshold = 0.200000, accuracy = 0.437500\n",
      "depth = 5, threshold = 0.200000, accuracy = 0.541667\n",
      "---------\n",
      "mean:  0.45926870748299314\n",
      "depth = 5, threshold = 0.400000, accuracy = 0.448980\n",
      "depth = 5, threshold = 0.400000, accuracy = 0.326531\n",
      "depth = 5, threshold = 0.400000, accuracy = 0.541667\n",
      "depth = 5, threshold = 0.400000, accuracy = 0.437500\n",
      "depth = 5, threshold = 0.400000, accuracy = 0.541667\n",
      "---------\n",
      "mean:  0.7187925170068028\n",
      "depth = 5, threshold = 0.600000, accuracy = 0.816327\n",
      "depth = 5, threshold = 0.600000, accuracy = 0.673469\n",
      "depth = 5, threshold = 0.600000, accuracy = 0.750000\n",
      "depth = 5, threshold = 0.600000, accuracy = 0.708333\n",
      "depth = 5, threshold = 0.600000, accuracy = 0.645833\n",
      "---------\n",
      "mean:  0.710204081632653\n",
      "depth = 5, threshold = 0.800000, accuracy = 0.775510\n",
      "depth = 5, threshold = 0.800000, accuracy = 0.775510\n",
      "depth = 5, threshold = 0.800000, accuracy = 0.687500\n",
      "depth = 5, threshold = 0.800000, accuracy = 0.687500\n",
      "depth = 5, threshold = 0.800000, accuracy = 0.625000\n",
      "---------\n",
      "mean:  0.45926870748299314\n",
      "depth = 6, threshold = 0.200000, accuracy = 0.448980\n",
      "depth = 6, threshold = 0.200000, accuracy = 0.326531\n",
      "depth = 6, threshold = 0.200000, accuracy = 0.541667\n",
      "depth = 6, threshold = 0.200000, accuracy = 0.437500\n",
      "depth = 6, threshold = 0.200000, accuracy = 0.541667\n",
      "---------\n",
      "mean:  0.45926870748299314\n",
      "depth = 6, threshold = 0.400000, accuracy = 0.448980\n",
      "depth = 6, threshold = 0.400000, accuracy = 0.326531\n",
      "depth = 6, threshold = 0.400000, accuracy = 0.541667\n",
      "depth = 6, threshold = 0.400000, accuracy = 0.437500\n",
      "depth = 6, threshold = 0.400000, accuracy = 0.541667\n",
      "---------\n",
      "mean:  0.7229591836734695\n",
      "depth = 6, threshold = 0.600000, accuracy = 0.816327\n",
      "depth = 6, threshold = 0.600000, accuracy = 0.673469\n",
      "depth = 6, threshold = 0.600000, accuracy = 0.750000\n",
      "depth = 6, threshold = 0.600000, accuracy = 0.729167\n",
      "depth = 6, threshold = 0.600000, accuracy = 0.645833\n",
      "---------\n",
      "mean:  0.644812925170068\n",
      "depth = 6, threshold = 0.800000, accuracy = 0.510204\n",
      "depth = 6, threshold = 0.800000, accuracy = 0.734694\n",
      "depth = 6, threshold = 0.800000, accuracy = 0.687500\n",
      "depth = 6, threshold = 0.800000, accuracy = 0.666667\n",
      "depth = 6, threshold = 0.800000, accuracy = 0.625000\n",
      "---------\n",
      "mean:  0.45926870748299314\n",
      "depth = 7, threshold = 0.200000, accuracy = 0.448980\n",
      "depth = 7, threshold = 0.200000, accuracy = 0.326531\n",
      "depth = 7, threshold = 0.200000, accuracy = 0.541667\n",
      "depth = 7, threshold = 0.200000, accuracy = 0.437500\n",
      "depth = 7, threshold = 0.200000, accuracy = 0.541667\n",
      "---------\n",
      "mean:  0.45926870748299314\n",
      "depth = 7, threshold = 0.400000, accuracy = 0.448980\n",
      "depth = 7, threshold = 0.400000, accuracy = 0.326531\n",
      "depth = 7, threshold = 0.400000, accuracy = 0.541667\n",
      "depth = 7, threshold = 0.400000, accuracy = 0.437500\n",
      "depth = 7, threshold = 0.400000, accuracy = 0.541667\n",
      "---------\n",
      "mean:  0.7229591836734695\n",
      "depth = 7, threshold = 0.600000, accuracy = 0.816327\n",
      "depth = 7, threshold = 0.600000, accuracy = 0.673469\n",
      "depth = 7, threshold = 0.600000, accuracy = 0.750000\n",
      "depth = 7, threshold = 0.600000, accuracy = 0.729167\n",
      "depth = 7, threshold = 0.600000, accuracy = 0.645833\n",
      "---------\n",
      "mean:  0.6039965986394558\n",
      "depth = 7, threshold = 0.800000, accuracy = 0.489796\n",
      "depth = 7, threshold = 0.800000, accuracy = 0.551020\n",
      "depth = 7, threshold = 0.800000, accuracy = 0.687500\n",
      "depth = 7, threshold = 0.800000, accuracy = 0.666667\n",
      "depth = 7, threshold = 0.800000, accuracy = 0.625000\n",
      "---------\n",
      "mean:  0.45926870748299314\n",
      "depth = 8, threshold = 0.200000, accuracy = 0.448980\n",
      "depth = 8, threshold = 0.200000, accuracy = 0.326531\n",
      "depth = 8, threshold = 0.200000, accuracy = 0.541667\n",
      "depth = 8, threshold = 0.200000, accuracy = 0.437500\n",
      "depth = 8, threshold = 0.200000, accuracy = 0.541667\n",
      "---------\n",
      "mean:  0.45926870748299314\n",
      "depth = 8, threshold = 0.400000, accuracy = 0.448980\n",
      "depth = 8, threshold = 0.400000, accuracy = 0.326531\n",
      "depth = 8, threshold = 0.400000, accuracy = 0.541667\n",
      "depth = 8, threshold = 0.400000, accuracy = 0.437500\n",
      "depth = 8, threshold = 0.400000, accuracy = 0.541667\n",
      "---------\n",
      "mean:  0.7229591836734695\n",
      "depth = 8, threshold = 0.600000, accuracy = 0.816327\n",
      "depth = 8, threshold = 0.600000, accuracy = 0.673469\n",
      "depth = 8, threshold = 0.600000, accuracy = 0.750000\n",
      "depth = 8, threshold = 0.600000, accuracy = 0.729167\n",
      "depth = 8, threshold = 0.600000, accuracy = 0.645833\n",
      "---------\n",
      "mean:  0.6081632653061224\n",
      "depth = 8, threshold = 0.800000, accuracy = 0.469388\n",
      "depth = 8, threshold = 0.800000, accuracy = 0.571429\n",
      "depth = 8, threshold = 0.800000, accuracy = 0.687500\n",
      "depth = 8, threshold = 0.800000, accuracy = 0.687500\n",
      "depth = 8, threshold = 0.800000, accuracy = 0.625000\n",
      "---------\n",
      "mean:  0.45926870748299314\n",
      "depth = 9, threshold = 0.200000, accuracy = 0.448980\n",
      "depth = 9, threshold = 0.200000, accuracy = 0.326531\n",
      "depth = 9, threshold = 0.200000, accuracy = 0.541667\n",
      "depth = 9, threshold = 0.200000, accuracy = 0.437500\n",
      "depth = 9, threshold = 0.200000, accuracy = 0.541667\n",
      "---------\n",
      "mean:  0.45926870748299314\n",
      "depth = 9, threshold = 0.400000, accuracy = 0.448980\n",
      "depth = 9, threshold = 0.400000, accuracy = 0.326531\n",
      "depth = 9, threshold = 0.400000, accuracy = 0.541667\n",
      "depth = 9, threshold = 0.400000, accuracy = 0.437500\n",
      "depth = 9, threshold = 0.400000, accuracy = 0.541667\n",
      "---------\n",
      "mean:  0.7187925170068028\n",
      "depth = 9, threshold = 0.600000, accuracy = 0.816327\n",
      "depth = 9, threshold = 0.600000, accuracy = 0.673469\n",
      "depth = 9, threshold = 0.600000, accuracy = 0.750000\n",
      "depth = 9, threshold = 0.600000, accuracy = 0.708333\n",
      "depth = 9, threshold = 0.600000, accuracy = 0.645833\n",
      "---------\n",
      "mean:  0.6\n",
      "depth = 9, threshold = 0.800000, accuracy = 0.448980\n",
      "depth = 9, threshold = 0.800000, accuracy = 0.551020\n",
      "depth = 9, threshold = 0.800000, accuracy = 0.687500\n",
      "depth = 9, threshold = 0.800000, accuracy = 0.687500\n",
      "depth = 9, threshold = 0.800000, accuracy = 0.625000\n",
      "---------\n",
      "mean:  0.45926870748299314\n",
      "depth = 10, threshold = 0.200000, accuracy = 0.448980\n",
      "depth = 10, threshold = 0.200000, accuracy = 0.326531\n",
      "depth = 10, threshold = 0.200000, accuracy = 0.541667\n",
      "depth = 10, threshold = 0.200000, accuracy = 0.437500\n",
      "depth = 10, threshold = 0.200000, accuracy = 0.541667\n",
      "---------\n",
      "mean:  0.45926870748299314\n",
      "depth = 10, threshold = 0.400000, accuracy = 0.448980\n",
      "depth = 10, threshold = 0.400000, accuracy = 0.326531\n",
      "depth = 10, threshold = 0.400000, accuracy = 0.541667\n",
      "depth = 10, threshold = 0.400000, accuracy = 0.437500\n",
      "depth = 10, threshold = 0.400000, accuracy = 0.541667\n",
      "---------\n",
      "mean:  0.7187925170068028\n",
      "depth = 10, threshold = 0.600000, accuracy = 0.816327\n",
      "depth = 10, threshold = 0.600000, accuracy = 0.673469\n",
      "depth = 10, threshold = 0.600000, accuracy = 0.750000\n",
      "depth = 10, threshold = 0.600000, accuracy = 0.708333\n",
      "depth = 10, threshold = 0.600000, accuracy = 0.645833\n",
      "---------\n",
      "mean:  0.5958333333333333\n",
      "depth = 10, threshold = 0.800000, accuracy = 0.448980\n",
      "depth = 10, threshold = 0.800000, accuracy = 0.551020\n",
      "depth = 10, threshold = 0.800000, accuracy = 0.687500\n",
      "depth = 10, threshold = 0.800000, accuracy = 0.666667\n",
      "depth = 10, threshold = 0.800000, accuracy = 0.625000\n",
      "---------\n",
      "mean:  0.45926870748299314\n",
      "depth = 11, threshold = 0.200000, accuracy = 0.448980\n",
      "depth = 11, threshold = 0.200000, accuracy = 0.326531\n",
      "depth = 11, threshold = 0.200000, accuracy = 0.541667\n",
      "depth = 11, threshold = 0.200000, accuracy = 0.437500\n",
      "depth = 11, threshold = 0.200000, accuracy = 0.541667\n",
      "---------\n",
      "mean:  0.45926870748299314\n",
      "depth = 11, threshold = 0.400000, accuracy = 0.448980\n",
      "depth = 11, threshold = 0.400000, accuracy = 0.326531\n",
      "depth = 11, threshold = 0.400000, accuracy = 0.541667\n",
      "depth = 11, threshold = 0.400000, accuracy = 0.437500\n",
      "depth = 11, threshold = 0.400000, accuracy = 0.541667\n",
      "---------\n",
      "mean:  0.7187925170068028\n",
      "depth = 11, threshold = 0.600000, accuracy = 0.816327\n",
      "depth = 11, threshold = 0.600000, accuracy = 0.673469\n",
      "depth = 11, threshold = 0.600000, accuracy = 0.750000\n",
      "depth = 11, threshold = 0.600000, accuracy = 0.708333\n",
      "depth = 11, threshold = 0.600000, accuracy = 0.645833\n",
      "---------\n",
      "mean:  0.6040816326530611\n",
      "depth = 11, threshold = 0.800000, accuracy = 0.448980\n",
      "depth = 11, threshold = 0.800000, accuracy = 0.571429\n",
      "depth = 11, threshold = 0.800000, accuracy = 0.687500\n",
      "depth = 11, threshold = 0.800000, accuracy = 0.687500\n",
      "depth = 11, threshold = 0.800000, accuracy = 0.625000\n",
      "---------\n",
      "mean:  0.45926870748299314\n",
      "depth = 12, threshold = 0.200000, accuracy = 0.448980\n",
      "depth = 12, threshold = 0.200000, accuracy = 0.326531\n",
      "depth = 12, threshold = 0.200000, accuracy = 0.541667\n",
      "depth = 12, threshold = 0.200000, accuracy = 0.437500\n",
      "depth = 12, threshold = 0.200000, accuracy = 0.541667\n",
      "---------\n",
      "mean:  0.45926870748299314\n",
      "depth = 12, threshold = 0.400000, accuracy = 0.448980\n",
      "depth = 12, threshold = 0.400000, accuracy = 0.326531\n",
      "depth = 12, threshold = 0.400000, accuracy = 0.541667\n",
      "depth = 12, threshold = 0.400000, accuracy = 0.437500\n",
      "depth = 12, threshold = 0.400000, accuracy = 0.541667\n",
      "---------\n",
      "mean:  0.7229591836734695\n",
      "depth = 12, threshold = 0.600000, accuracy = 0.816327\n",
      "depth = 12, threshold = 0.600000, accuracy = 0.673469\n",
      "depth = 12, threshold = 0.600000, accuracy = 0.750000\n",
      "depth = 12, threshold = 0.600000, accuracy = 0.729167\n",
      "depth = 12, threshold = 0.600000, accuracy = 0.645833\n",
      "---------\n",
      "mean:  0.5917517006802722\n",
      "depth = 12, threshold = 0.800000, accuracy = 0.428571\n",
      "depth = 12, threshold = 0.800000, accuracy = 0.551020\n",
      "depth = 12, threshold = 0.800000, accuracy = 0.687500\n",
      "depth = 12, threshold = 0.800000, accuracy = 0.666667\n",
      "depth = 12, threshold = 0.800000, accuracy = 0.625000\n",
      "---------\n",
      "mean:  0.45926870748299314\n",
      "depth = 13, threshold = 0.200000, accuracy = 0.448980\n",
      "depth = 13, threshold = 0.200000, accuracy = 0.326531\n",
      "depth = 13, threshold = 0.200000, accuracy = 0.541667\n",
      "depth = 13, threshold = 0.200000, accuracy = 0.437500\n",
      "depth = 13, threshold = 0.200000, accuracy = 0.541667\n",
      "---------\n",
      "mean:  0.45926870748299314\n",
      "depth = 13, threshold = 0.400000, accuracy = 0.448980\n",
      "depth = 13, threshold = 0.400000, accuracy = 0.326531\n",
      "depth = 13, threshold = 0.400000, accuracy = 0.541667\n",
      "depth = 13, threshold = 0.400000, accuracy = 0.437500\n",
      "depth = 13, threshold = 0.400000, accuracy = 0.541667\n",
      "---------\n",
      "mean:  0.7187925170068028\n",
      "depth = 13, threshold = 0.600000, accuracy = 0.816327\n",
      "depth = 13, threshold = 0.600000, accuracy = 0.673469\n",
      "depth = 13, threshold = 0.600000, accuracy = 0.750000\n",
      "depth = 13, threshold = 0.600000, accuracy = 0.708333\n",
      "depth = 13, threshold = 0.600000, accuracy = 0.645833\n",
      "---------\n",
      "mean:  0.5958333333333333\n",
      "depth = 13, threshold = 0.800000, accuracy = 0.428571\n",
      "depth = 13, threshold = 0.800000, accuracy = 0.571429\n",
      "depth = 13, threshold = 0.800000, accuracy = 0.687500\n",
      "depth = 13, threshold = 0.800000, accuracy = 0.666667\n",
      "depth = 13, threshold = 0.800000, accuracy = 0.625000\n",
      "---------\n"
     ]
    }
   ],
   "source": [
    "for d in depth_choices:\n",
    "    for t in threshold_choices:\n",
    "        print(\"mean: \", np.mean(np.array(depth_thresh_accuracies[(d,t)])))\n",
    "        for accuracy in depth_thresh_accuracies[(d,t)]:\n",
    "            print('depth = %d, threshold = %f, accuracy = %f' % (d,t, accuracy))\n",
    "        print(\"---------\")"
   ]
  },
  {
   "cell_type": "code",
   "execution_count": 7,
   "metadata": {
    "ExecuteTime": {
     "end_time": "2020-03-17T00:50:39.038056Z",
     "start_time": "2020-03-17T00:50:38.977698Z"
    }
   },
   "outputs": [
    {
     "name": "stdout",
     "output_type": "stream",
     "text": [
      "0.7377049180327869\n"
     ]
    }
   ],
   "source": [
    "optimal_depth , optimal_thresh = 6, 0.6\n",
    "dec_tree_model = DecisionTree(optimal_depth, optimal_thresh)\n",
    "dec_tree_model.fit(X_tr, y_tr)\n",
    "y_pred_dec = dec_tree_model.predict(X_te)\n",
    "print(precision_calc(y_pred_dec, y_te))"
   ]
  },
  {
   "cell_type": "code",
   "execution_count": 8,
   "metadata": {
    "ExecuteTime": {
     "end_time": "2020-03-17T00:50:41.922097Z",
     "start_time": "2020-03-17T00:50:41.889902Z"
    }
   },
   "outputs": [
    {
     "name": "stdout",
     "output_type": "stream",
     "text": [
      "Decision Tree Confusion Matrix\n",
      "TP:  30 FP:  9 TN:  22.0 FN:  15\n"
     ]
    }
   ],
   "source": [
    "TP, FP, TN, FN = confusion_matrix(y_pred_dec, y_te)\n",
    "print(\"Decision Tree Confusion Matrix\")\n",
    "print(\"TP: \", TP, \"FP: \", FP, \"TN: \", TN, \"FN: \", FN)"
   ]
  },
  {
   "cell_type": "code",
   "execution_count": 9,
   "metadata": {
    "ExecuteTime": {
     "end_time": "2020-03-17T00:50:44.354068Z",
     "start_time": "2020-03-17T00:50:44.310327Z"
    }
   },
   "outputs": [
    {
     "name": "stdout",
     "output_type": "stream",
     "text": [
      "Decision Tree Classification Report\n",
      "Accuracy:  0.6842105263157895 Precision:  0.7692307692307693 Recall:  0.6666666666666666 Specifity:  0.7096774193548387 f1score:  0.7142857142857142\n"
     ]
    }
   ],
   "source": [
    "Accuracy, Precision, Recall, Specifity, f1score = classification_report(y_pred_dec, y_te)\n",
    "print(\"Decision Tree Classification Report\")\n",
    "print(\"Accuracy: \", Accuracy, \"Precision: \", Precision, \"Recall: \", Recall, \"Specifity: \", Specifity, \"f1score: \", f1score)"
   ]
  },
  {
   "cell_type": "markdown",
   "metadata": {},
   "source": [
    "<p></p>\n",
    "<br/>\n",
    "<div id=\"sec_conclusion\" style=\"direction:rtl;line-height:300%;\">\n",
    "\t<font face=\"XB Zar\" size=5>\n",
    "        \t\t<font color=#FF7500 size=6>\n",
    "kNN\n",
    "        </font>\n",
    "\t\t<p></p>\n",
    "\t\t<hr>\n",
    "در اینجا ابتدا نتایج \n",
    "        knn\n",
    "      را روی خود داده آموزش می‌بینیم. همانطور که مورد انتظار بود\n",
    "        k=1\n",
    "        بهترین جواب است چرا که هر داده خودش را پیش‌بینی می‌کند که قاعدتا درست خواهد بود\n",
    "\t</font>\n",
    "</div>"
   ]
  },
  {
   "cell_type": "code",
   "execution_count": 10,
   "metadata": {
    "ExecuteTime": {
     "end_time": "2020-03-17T00:50:47.927349Z",
     "start_time": "2020-03-17T00:50:47.656832Z"
    }
   },
   "outputs": [
    {
     "data": {
      "text/plain": [
       "[<matplotlib.lines.Line2D at 0x11314e2d0>]"
      ]
     },
     "execution_count": 10,
     "metadata": {},
     "output_type": "execute_result"
    },
    {
     "data": {
      "image/png": "[encoded data removed]",
      "text/plain": [
       "<Figure size 432x288 with 1 Axes>"
      ]
     },
     "metadata": {
      "needs_background": "light"
     },
     "output_type": "display_data"
    }
   ],
   "source": [
    "x_axis, y_axis = [], []\n",
    "for i in range(1, 16):\n",
    "    kNN_model = kNN(i)\n",
    "    kNN_model.fit(X_tr, y_tr)\n",
    "    y_pred_knn = kNN_model.predict(X_tr)\n",
    "    x_axis.append(i)\n",
    "    y_axis.append(precision_calc(y_pred_knn, y_tr))\n",
    "plt.plot(x_axis,y_axis)"
   ]
  },
  {
   "cell_type": "markdown",
   "metadata": {},
   "source": [
    "<p></p>\n",
    "<br/>\n",
    "<div id=\"sec_conclusion\" style=\"direction:rtl;line-height:300%;\">\n",
    "\t<font face=\"XB Zar\" size=5>\n",
    "\t\t<p></p>\n",
    "\t\t<hr>\n",
    "        حال \n",
    "        knn\n",
    "        روی داده تست داریم\n",
    "    </font>\n",
    "</div>"
   ]
  },
  {
   "cell_type": "code",
   "execution_count": 11,
   "metadata": {
    "ExecuteTime": {
     "end_time": "2020-03-17T00:50:51.847219Z",
     "start_time": "2020-03-17T00:50:51.613248Z"
    }
   },
   "outputs": [
    {
     "data": {
      "text/plain": [
       "[<matplotlib.lines.Line2D at 0x11324f250>]"
      ]
     },
     "execution_count": 11,
     "metadata": {},
     "output_type": "execute_result"
    },
    {
     "data": {
      "image/png": "[encoded data removed]",
      "text/plain": [
       "<Figure size 432x288 with 1 Axes>"
      ]
     },
     "metadata": {
      "needs_background": "light"
     },
     "output_type": "display_data"
    }
   ],
   "source": [
    "x_axis, y_axis = [], []\n",
    "for i in range(1, 16):\n",
    "    kNN_model = kNN(i)\n",
    "    kNN_model.fit(X_tr, y_tr)\n",
    "    y_pred_knn = kNN_model.predict(X_te)\n",
    "    x_axis.append(i)\n",
    "    y_axis.append(precision_calc(y_pred_knn, y_te))\n",
    "plt.plot(x_axis,y_axis)"
   ]
  },
  {
   "cell_type": "markdown",
   "metadata": {},
   "source": [
    "<p></p>\n",
    "<br/>\n",
    "<div id=\"sec_conclusion\" style=\"direction:rtl;line-height:300%;\">\n",
    "\t<font face=\"XB Zar\" size=5>\n",
    "\t\t<p></p>\n",
    "\t\t<hr>\n",
    "       در اینجا از نمودار مشخص است که نمودار دارای یک رفتار خاص براساس کاهش یا افزایش \n",
    "        k\n",
    "        نمی‌باشد و به ازای یک \n",
    "        k\n",
    "        خاص دقت بیشینه خواهد شد. که حدود عدد ۷ می‌باشد.\n",
    "        <br>\n",
    "        همچنین نمی‌توان با استفاده از این نتایج \n",
    "        k\n",
    "        را تعیین کرد.چرا که در ابتدا هیچ‌گاه پارامترها و هایپرپارامترها را با نگاه کردن به داده تست انتخاب نمی‌کنیم. همچنین چرا که داده تست و ترین به صورت تصادفی انتخاب شده‌اند و ممکن است با یک بار دیگر بر زدن داده، نتایج متفاوت شود و دیگر \n",
    "        k=7\n",
    "        بهترین مقدار نباشد. پس برای بدست آوردن \n",
    "        k\n",
    "        مناسب همانطور که گفته شده است از\n",
    "        5fold-cross-validation\n",
    "        استفاده می‌کنیم.\n",
    "\t</font>\n",
    "</div>"
   ]
  },
  {
   "cell_type": "code",
   "execution_count": 12,
   "metadata": {
    "ExecuteTime": {
     "end_time": "2020-03-17T00:50:55.636758Z",
     "start_time": "2020-03-17T00:50:55.516043Z"
    }
   },
   "outputs": [],
   "source": [
    "num_folds = 5\n",
    "k_choices = [i for i in range(1, 16)]\n",
    "\n",
    "X_tr_folds = []\n",
    "y_tr_folds = []\n",
    "\n",
    "X_tr_folds = np.array_split(X_tr, num_folds)\n",
    "y_tr_folds = np.array_split(y_tr, num_folds)\n",
    "\n",
    "k_accuracies = {}\n",
    "for k in k_choices:\n",
    "    k_accuracies[k] = []\n",
    "\n",
    "for k in k_choices:\n",
    "    for i in range(num_folds):\n",
    "        temp_X_valid = X_tr_folds[i]\n",
    "        temp_y_valid = y_tr_folds[i]\n",
    "        \n",
    "        temp_X_train = np.concatenate(tuple(X_tr_folds[:i]) + tuple(X_tr_folds[i+1:]))\n",
    "        temp_y_train = np.concatenate(tuple(y_tr_folds[:i]) + tuple(y_tr_folds[i+1:]))\n",
    "        \n",
    "        kNN_model = kNN(k)\n",
    "        kNN_model.fit(temp_X_train, temp_y_train)\n",
    "        y_pred_knn = kNN_model.predict(temp_X_valid)\n",
    "        k_accuracies[k].append(precision_calc(y_pred_knn, temp_y_valid))"
   ]
  },
  {
   "cell_type": "code",
   "execution_count": 13,
   "metadata": {
    "ExecuteTime": {
     "end_time": "2020-03-17T00:50:57.474875Z",
     "start_time": "2020-03-17T00:50:57.436636Z"
    }
   },
   "outputs": [
    {
     "name": "stdout",
     "output_type": "stream",
     "text": [
      "mean:  0.6116496598639456\n",
      "k = 1, accuracy = 0.571429\n",
      "k = 1, accuracy = 0.632653\n",
      "k = 1, accuracy = 0.583333\n",
      "k = 1, accuracy = 0.708333\n",
      "k = 1, accuracy = 0.562500\n",
      "--------\n",
      "mean:  0.5789965986394559\n",
      "k = 2, accuracy = 0.551020\n",
      "k = 2, accuracy = 0.489796\n",
      "k = 2, accuracy = 0.625000\n",
      "k = 2, accuracy = 0.645833\n",
      "k = 2, accuracy = 0.583333\n",
      "--------\n",
      "mean:  0.6405612244897959\n",
      "k = 3, accuracy = 0.673469\n",
      "k = 3, accuracy = 0.591837\n",
      "k = 3, accuracy = 0.645833\n",
      "k = 3, accuracy = 0.625000\n",
      "k = 3, accuracy = 0.666667\n",
      "--------\n",
      "mean:  0.6280612244897961\n",
      "k = 4, accuracy = 0.673469\n",
      "k = 4, accuracy = 0.591837\n",
      "k = 4, accuracy = 0.645833\n",
      "k = 4, accuracy = 0.583333\n",
      "k = 4, accuracy = 0.645833\n",
      "--------\n",
      "mean:  0.6487244897959183\n",
      "k = 5, accuracy = 0.653061\n",
      "k = 5, accuracy = 0.653061\n",
      "k = 5, accuracy = 0.687500\n",
      "k = 5, accuracy = 0.625000\n",
      "k = 5, accuracy = 0.625000\n",
      "--------\n",
      "mean:  0.6489795918367347\n",
      "k = 6, accuracy = 0.653061\n",
      "k = 6, accuracy = 0.591837\n",
      "k = 6, accuracy = 0.708333\n",
      "k = 6, accuracy = 0.687500\n",
      "k = 6, accuracy = 0.604167\n",
      "--------\n",
      "mean:  0.6609693877551022\n",
      "k = 7, accuracy = 0.693878\n",
      "k = 7, accuracy = 0.673469\n",
      "k = 7, accuracy = 0.645833\n",
      "k = 7, accuracy = 0.645833\n",
      "k = 7, accuracy = 0.645833\n",
      "--------\n",
      "mean:  0.6408163265306122\n",
      "k = 8, accuracy = 0.632653\n",
      "k = 8, accuracy = 0.571429\n",
      "k = 8, accuracy = 0.687500\n",
      "k = 8, accuracy = 0.708333\n",
      "k = 8, accuracy = 0.604167\n",
      "--------\n",
      "mean:  0.6568877551020409\n",
      "k = 9, accuracy = 0.693878\n",
      "k = 9, accuracy = 0.653061\n",
      "k = 9, accuracy = 0.687500\n",
      "k = 9, accuracy = 0.645833\n",
      "k = 9, accuracy = 0.604167\n",
      "--------\n",
      "mean:  0.6405612244897959\n",
      "k = 10, accuracy = 0.653061\n",
      "k = 10, accuracy = 0.612245\n",
      "k = 10, accuracy = 0.666667\n",
      "k = 10, accuracy = 0.645833\n",
      "k = 10, accuracy = 0.625000\n",
      "--------\n",
      "mean:  0.6527210884353741\n",
      "k = 11, accuracy = 0.714286\n",
      "k = 11, accuracy = 0.632653\n",
      "k = 11, accuracy = 0.625000\n",
      "k = 11, accuracy = 0.666667\n",
      "k = 11, accuracy = 0.625000\n",
      "--------\n",
      "mean:  0.6408163265306123\n",
      "k = 12, accuracy = 0.632653\n",
      "k = 12, accuracy = 0.571429\n",
      "k = 12, accuracy = 0.666667\n",
      "k = 12, accuracy = 0.687500\n",
      "k = 12, accuracy = 0.645833\n",
      "--------\n",
      "mean:  0.6488095238095237\n",
      "k = 13, accuracy = 0.673469\n",
      "k = 13, accuracy = 0.612245\n",
      "k = 13, accuracy = 0.625000\n",
      "k = 13, accuracy = 0.666667\n",
      "k = 13, accuracy = 0.666667\n",
      "--------\n",
      "mean:  0.6529761904761905\n",
      "k = 14, accuracy = 0.653061\n",
      "k = 14, accuracy = 0.632653\n",
      "k = 14, accuracy = 0.645833\n",
      "k = 14, accuracy = 0.687500\n",
      "k = 14, accuracy = 0.645833\n",
      "--------\n",
      "mean:  0.6569727891156462\n",
      "k = 15, accuracy = 0.673469\n",
      "k = 15, accuracy = 0.653061\n",
      "k = 15, accuracy = 0.625000\n",
      "k = 15, accuracy = 0.666667\n",
      "k = 15, accuracy = 0.666667\n",
      "--------\n"
     ]
    }
   ],
   "source": [
    "for k in k_accuracies:\n",
    "    print(\"mean: \",np.mean(np.array(k_accuracies[k])))\n",
    "    for accuracy in k_accuracies[k]:\n",
    "        print('k = %d, accuracy = %f' % (k, accuracy))\n",
    "    print(\"--------\")"
   ]
  },
  {
   "cell_type": "markdown",
   "metadata": {},
   "source": [
    "<p></p>\n",
    "<br/>\n",
    "<div id=\"sec_conclusion\" style=\"direction:rtl;line-height:300%;\">\n",
    "\t<font face=\"XB Zar\" size=5>\n",
    "\t\t<p></p>\n",
    "\t\t<hr>\n",
    "        با نتایج بدست آمده\n",
    "        k=11\n",
    "        را انتخاب می‌کنیم\n",
    "\t</font>\n",
    "</div>"
   ]
  },
  {
   "cell_type": "code",
   "execution_count": 14,
   "metadata": {
    "ExecuteTime": {
     "end_time": "2020-03-17T00:51:02.147707Z",
     "start_time": "2020-03-17T00:51:02.116620Z"
    }
   },
   "outputs": [
    {
     "name": "stdout",
     "output_type": "stream",
     "text": [
      "0.5737704918032787\n"
     ]
    }
   ],
   "source": [
    "kNN_model = kNN(7)\n",
    "kNN_model.fit(X_tr, y_tr)\n",
    "y_pred_knn = kNN_model.predict(X_te)\n",
    "print(precision_calc(y_pred_knn, y_te))"
   ]
  },
  {
   "cell_type": "code",
   "execution_count": 15,
   "metadata": {
    "ExecuteTime": {
     "end_time": "2020-03-17T00:51:03.879616Z",
     "start_time": "2020-03-17T00:51:03.852621Z"
    }
   },
   "outputs": [
    {
     "name": "stdout",
     "output_type": "stream",
     "text": [
      "KNN Confusion Matrix\n",
      "TP:  24 FP:  13.0 TN:  26.0 FN:  11\n"
     ]
    }
   ],
   "source": [
    "TP, FP, TN, FN = confusion_matrix(y_pred_knn, y_te)\n",
    "print(\"KNN Confusion Matrix\")\n",
    "print(\"TP: \", TP, \"FP: \", FP, \"TN: \", TN, \"FN: \", FN)"
   ]
  },
  {
   "cell_type": "code",
   "execution_count": 16,
   "metadata": {
    "ExecuteTime": {
     "end_time": "2020-03-17T00:51:05.784881Z",
     "start_time": "2020-03-17T00:51:05.753651Z"
    }
   },
   "outputs": [
    {
     "name": "stdout",
     "output_type": "stream",
     "text": [
      "KNN Classification Report\n",
      "Accuracy:  0.6756756756756757 Precision:  0.6486486486486487 Recall:  0.6857142857142857 Specifity:  0.6666666666666666 f1score:  0.6666666666666667\n"
     ]
    }
   ],
   "source": [
    "Accuracy, Precision, Recall, Specifity, f1score = classification_report(y_pred_knn, y_te)\n",
    "print(\"KNN Classification Report\")\n",
    "print(\"Accuracy: \", Accuracy, \"Precision: \", Precision, \"Recall: \", Recall, \"Specifity: \", Specifity, \"f1score: \", f1score)"
   ]
  },
  {
   "cell_type": "code",
   "execution_count": 17,
   "metadata": {
    "ExecuteTime": {
     "end_time": "2020-03-17T00:51:09.664676Z",
     "start_time": "2020-03-17T00:51:09.629079Z"
    }
   },
   "outputs": [
    {
     "name": "stdout",
     "output_type": "stream",
     "text": [
      "True\n",
      "Best kNN:  0.5737704918032787\n",
      "Best Decision Tree:  0.7377049180327869\n"
     ]
    }
   ],
   "source": [
    "print(t_test(y_pred_knn, y_pred_dec, y_te))\n",
    "print(\"Best kNN: \", precision_calc(y_pred_knn, y_te))\n",
    "print(\"Best Decision Tree: \", precision_calc(y_pred_dec, y_te))"
   ]
  },
  {
   "cell_type": "markdown",
   "metadata": {},
   "source": [
    "<p></p>\n",
    "<br/>\n",
    "<div id=\"sec_conclusion\" style=\"direction:rtl;line-height:300%;\">\n",
    "\t<font face=\"XB Zar\" size=5>\n",
    "\t\t<p></p>\n",
    "\t\t<hr>\n",
    "نتیجه آزمون فرض با \n",
    "        p-value\n",
    "        کمتر از \n",
    "        ۰.۰۵\n",
    "        برقرار است. که فرض \n",
    "        H_0\n",
    "        ما این بود که دو مدل هیچ تفاوتی ندارند و فرض \n",
    "        H_1\n",
    "        این بود که درخت تصمیم بهتر عمل می‌کند. حال با توجه به نتیجه آزمون تی، می‌توان فرض صفر را رد کرد و گفت که اختلاف معنادار وجود دارد و در نتیجه درخت تصمیم مدل بهتری بوده است\n",
    "    </font>\n",
    "</div>"
   ]
  },
  {
   "cell_type": "code",
   "execution_count": null,
   "metadata": {},
   "outputs": [],
   "source": []
  }
 ],
 "metadata": {
  "kernelspec": {
   "display_name": "ML_hw1_kernel",
   "language": "python",
   "name": "ml_hw1_kernel"
  },
  "language_info": {
   "codemirror_mode": {
    "name": "ipython",
    "version": 3
   },
   "file_extension": ".py",
   "mimetype": "text/x-python",
   "name": "python",
   "nbconvert_exporter": "python",
   "pygments_lexer": "ipython3",
   "version": "3.7.6"
  },
  "varInspector": {
   "cols": {
    "lenName": 16,
    "lenType": 16,
    "lenVar": 40
   },
   "kernels_config": {
    "python": {
     "delete_cmd_postfix": "",
     "delete_cmd_prefix": "del ",
     "library": "var_list.py",
     "varRefreshCmd": "print(var_dic_list())"
    },
    "r": {
     "delete_cmd_postfix": ") ",
     "delete_cmd_prefix": "rm(",
     "library": "var_list.r",
     "varRefreshCmd": "cat(var_dic_list()) "
    }
   },
   "types_to_exclude": [
    "module",
    "function",
    "builtin_function_or_method",
    "instance",
    "_Feature"
   ],
   "window_display": false
  }
 },
 "nbformat": 4,
 "nbformat_minor": 4
}
